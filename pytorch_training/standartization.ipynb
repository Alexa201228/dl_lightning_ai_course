{
 "cells": [
  {
   "cell_type": "code",
   "execution_count": 1,
   "metadata": {
    "collapsed": true,
    "ExecuteTime": {
     "end_time": "2023-10-12T06:27:04.519516Z",
     "start_time": "2023-10-12T06:25:23.809915Z"
    }
   },
   "outputs": [
    {
     "name": "stdout",
     "output_type": "stream",
     "text": [
      "Requirement already satisfied: numpy in /Users/alexandragridneva/ProgrammingTools/miniconda3/envs/dl_lightning_ai_course/lib/python3.10/site-packages (1.26.0)\r\n",
      "Requirement already satisfied: pandas in /Users/alexandragridneva/ProgrammingTools/miniconda3/envs/dl_lightning_ai_course/lib/python3.10/site-packages (2.1.1)\r\n",
      "Collecting torch\r\n",
      "  Obtaining dependency information for torch from https://files.pythonhosted.org/packages/ab/6a/0debe1ec3c63b1fd7487ec7dd8fb1adf19898bef5a8dc151265d79ffd915/torch-2.1.0-cp310-none-macosx_11_0_arm64.whl.metadata\r\n",
      "  Downloading torch-2.1.0-cp310-none-macosx_11_0_arm64.whl.metadata (24 kB)\r\n",
      "Requirement already satisfied: python-dateutil>=2.8.2 in /Users/alexandragridneva/ProgrammingTools/miniconda3/envs/dl_lightning_ai_course/lib/python3.10/site-packages (from pandas) (2.8.2)\r\n",
      "Requirement already satisfied: pytz>=2020.1 in /Users/alexandragridneva/ProgrammingTools/miniconda3/envs/dl_lightning_ai_course/lib/python3.10/site-packages (from pandas) (2023.3.post1)\r\n",
      "Requirement already satisfied: tzdata>=2022.1 in /Users/alexandragridneva/ProgrammingTools/miniconda3/envs/dl_lightning_ai_course/lib/python3.10/site-packages (from pandas) (2023.3)\r\n",
      "Requirement already satisfied: filelock in /Users/alexandragridneva/ProgrammingTools/miniconda3/envs/dl_lightning_ai_course/lib/python3.10/site-packages (from torch) (3.12.4)\r\n",
      "Requirement already satisfied: typing-extensions in /Users/alexandragridneva/ProgrammingTools/miniconda3/envs/dl_lightning_ai_course/lib/python3.10/site-packages (from torch) (4.8.0)\r\n",
      "Requirement already satisfied: sympy in /Users/alexandragridneva/ProgrammingTools/miniconda3/envs/dl_lightning_ai_course/lib/python3.10/site-packages (from torch) (1.12)\r\n",
      "Requirement already satisfied: networkx in /Users/alexandragridneva/ProgrammingTools/miniconda3/envs/dl_lightning_ai_course/lib/python3.10/site-packages (from torch) (3.1)\r\n",
      "Requirement already satisfied: jinja2 in /Users/alexandragridneva/ProgrammingTools/miniconda3/envs/dl_lightning_ai_course/lib/python3.10/site-packages (from torch) (3.1.2)\r\n",
      "Requirement already satisfied: fsspec in /Users/alexandragridneva/ProgrammingTools/miniconda3/envs/dl_lightning_ai_course/lib/python3.10/site-packages (from torch) (2023.9.2)\r\n",
      "Requirement already satisfied: six>=1.5 in /Users/alexandragridneva/ProgrammingTools/miniconda3/envs/dl_lightning_ai_course/lib/python3.10/site-packages (from python-dateutil>=2.8.2->pandas) (1.16.0)\r\n",
      "Requirement already satisfied: MarkupSafe>=2.0 in /Users/alexandragridneva/ProgrammingTools/miniconda3/envs/dl_lightning_ai_course/lib/python3.10/site-packages (from jinja2->torch) (2.1.3)\r\n",
      "Requirement already satisfied: mpmath>=0.19 in /Users/alexandragridneva/ProgrammingTools/miniconda3/envs/dl_lightning_ai_course/lib/python3.10/site-packages (from sympy->torch) (1.3.0)\r\n",
      "Downloading torch-2.1.0-cp310-none-macosx_11_0_arm64.whl (59.5 MB)\r\n",
      "\u001B[2K   \u001B[90m━━━━━━━━━━━━━━━━━━━━━━━━━━━━━━━━━━━━━━━━\u001B[0m \u001B[32m59.5/59.5 MB\u001B[0m \u001B[31m963.2 kB/s\u001B[0m eta \u001B[36m0:00:00\u001B[0m00:01\u001B[0m00:02\u001B[0m\r\n",
      "\u001B[?25hInstalling collected packages: torch\r\n",
      "Successfully installed torch-2.1.0\r\n"
     ]
    }
   ],
   "source": [
    "!pip install numpy pandas torch"
   ]
  },
  {
   "cell_type": "code",
   "execution_count": 6,
   "outputs": [],
   "source": [
    "import numpy as np\n",
    "import pandas as pd\n",
    "import torch"
   ],
   "metadata": {
    "collapsed": false,
    "ExecuteTime": {
     "end_time": "2023-10-12T06:38:28.495104Z",
     "start_time": "2023-10-12T06:38:28.492279Z"
    }
   }
  },
  {
   "cell_type": "markdown",
   "source": [
    "### Data loading"
   ],
   "metadata": {
    "collapsed": false
   }
  },
  {
   "cell_type": "code",
   "execution_count": 3,
   "outputs": [
    {
     "data": {
      "text/plain": "            0         1        2        3  4\n0     3.62160   8.66610  -2.8073 -0.44699  0\n1     4.54590   8.16740  -2.4586 -1.46210  0\n2     3.86600  -2.63830   1.9242  0.10645  0\n3     3.45660   9.52280  -4.0112 -3.59440  0\n4     0.32924  -4.45520   4.5718 -0.98880  0\n...       ...       ...      ...      ... ..\n1367  0.40614   1.34920  -1.4501 -0.55949  1\n1368 -1.38870  -4.87730   6.4774  0.34179  1\n1369 -3.75030 -13.45860  17.5932 -2.77710  1\n1370 -3.56370  -8.38270  12.3930 -1.28230  1\n1371 -2.54190  -0.65804   2.6842  1.19520  1\n\n[1372 rows x 5 columns]",
      "text/html": "<div>\n<style scoped>\n    .dataframe tbody tr th:only-of-type {\n        vertical-align: middle;\n    }\n\n    .dataframe tbody tr th {\n        vertical-align: top;\n    }\n\n    .dataframe thead th {\n        text-align: right;\n    }\n</style>\n<table border=\"1\" class=\"dataframe\">\n  <thead>\n    <tr style=\"text-align: right;\">\n      <th></th>\n      <th>0</th>\n      <th>1</th>\n      <th>2</th>\n      <th>3</th>\n      <th>4</th>\n    </tr>\n  </thead>\n  <tbody>\n    <tr>\n      <th>0</th>\n      <td>3.62160</td>\n      <td>8.66610</td>\n      <td>-2.8073</td>\n      <td>-0.44699</td>\n      <td>0</td>\n    </tr>\n    <tr>\n      <th>1</th>\n      <td>4.54590</td>\n      <td>8.16740</td>\n      <td>-2.4586</td>\n      <td>-1.46210</td>\n      <td>0</td>\n    </tr>\n    <tr>\n      <th>2</th>\n      <td>3.86600</td>\n      <td>-2.63830</td>\n      <td>1.9242</td>\n      <td>0.10645</td>\n      <td>0</td>\n    </tr>\n    <tr>\n      <th>3</th>\n      <td>3.45660</td>\n      <td>9.52280</td>\n      <td>-4.0112</td>\n      <td>-3.59440</td>\n      <td>0</td>\n    </tr>\n    <tr>\n      <th>4</th>\n      <td>0.32924</td>\n      <td>-4.45520</td>\n      <td>4.5718</td>\n      <td>-0.98880</td>\n      <td>0</td>\n    </tr>\n    <tr>\n      <th>...</th>\n      <td>...</td>\n      <td>...</td>\n      <td>...</td>\n      <td>...</td>\n      <td>...</td>\n    </tr>\n    <tr>\n      <th>1367</th>\n      <td>0.40614</td>\n      <td>1.34920</td>\n      <td>-1.4501</td>\n      <td>-0.55949</td>\n      <td>1</td>\n    </tr>\n    <tr>\n      <th>1368</th>\n      <td>-1.38870</td>\n      <td>-4.87730</td>\n      <td>6.4774</td>\n      <td>0.34179</td>\n      <td>1</td>\n    </tr>\n    <tr>\n      <th>1369</th>\n      <td>-3.75030</td>\n      <td>-13.45860</td>\n      <td>17.5932</td>\n      <td>-2.77710</td>\n      <td>1</td>\n    </tr>\n    <tr>\n      <th>1370</th>\n      <td>-3.56370</td>\n      <td>-8.38270</td>\n      <td>12.3930</td>\n      <td>-1.28230</td>\n      <td>1</td>\n    </tr>\n    <tr>\n      <th>1371</th>\n      <td>-2.54190</td>\n      <td>-0.65804</td>\n      <td>2.6842</td>\n      <td>1.19520</td>\n      <td>1</td>\n    </tr>\n  </tbody>\n</table>\n<p>1372 rows × 5 columns</p>\n</div>"
     },
     "execution_count": 3,
     "metadata": {},
     "output_type": "execute_result"
    }
   ],
   "source": [
    "df = pd.read_csv(\"data_banknote_authentication.txt\", header=None)\n",
    "df"
   ],
   "metadata": {
    "collapsed": false,
    "ExecuteTime": {
     "end_time": "2023-10-12T06:27:32.942147Z",
     "start_time": "2023-10-12T06:27:32.920627Z"
    }
   }
  },
  {
   "cell_type": "code",
   "execution_count": 4,
   "outputs": [],
   "source": [
    "X_features = df[[0, 1, 2, 3]].values\n",
    "y_targets = df[4].values"
   ],
   "metadata": {
    "collapsed": false,
    "ExecuteTime": {
     "end_time": "2023-10-12T06:29:41.747754Z",
     "start_time": "2023-10-12T06:29:41.744925Z"
    }
   }
  },
  {
   "cell_type": "code",
   "execution_count": 5,
   "outputs": [
    {
     "data": {
      "text/plain": "array([762, 610])"
     },
     "execution_count": 5,
     "metadata": {},
     "output_type": "execute_result"
    }
   ],
   "source": [
    "np.bincount(y_targets)"
   ],
   "metadata": {
    "collapsed": false,
    "ExecuteTime": {
     "end_time": "2023-10-12T06:30:12.709712Z",
     "start_time": "2023-10-12T06:30:12.706899Z"
    }
   }
  },
  {
   "cell_type": "markdown",
   "source": [
    "### DataLoader"
   ],
   "metadata": {
    "collapsed": false
   }
  },
  {
   "cell_type": "code",
   "execution_count": 7,
   "outputs": [],
   "source": [
    "from torch.utils.data import Dataset, DataLoader\n",
    "\n",
    "class BanknoteDataset(Dataset):\n",
    "\n",
    "    def __init__(self, X, y):\n",
    "\n",
    "        self._features = torch.tensor(X, dtype=torch.float32)\n",
    "        self._labels = torch.tensor(y, dtype=torch.float32)\n",
    "\n",
    "    def __getitem__(self, index):\n",
    "        x = self._features[index]\n",
    "        y = self._labels[index]\n",
    "\n",
    "        return x, y\n",
    "\n",
    "    def __len__(self):\n",
    "        return self._labels.shape[0]\n"
   ],
   "metadata": {
    "collapsed": false,
    "ExecuteTime": {
     "end_time": "2023-10-12T06:39:41.690520Z",
     "start_time": "2023-10-12T06:39:41.688250Z"
    }
   }
  },
  {
   "cell_type": "code",
   "execution_count": 8,
   "outputs": [],
   "source": [
    "train_size = int(X_features.shape[0] * 0.8)\n",
    "test_size = X_features.shape[0] - train_size"
   ],
   "metadata": {
    "collapsed": false,
    "ExecuteTime": {
     "end_time": "2023-10-12T06:46:53.675646Z",
     "start_time": "2023-10-12T06:46:53.672892Z"
    }
   }
  },
  {
   "cell_type": "markdown",
   "source": [
    "### Split data to train and test"
   ],
   "metadata": {
    "collapsed": false
   }
  },
  {
   "cell_type": "code",
   "execution_count": 9,
   "outputs": [],
   "source": [
    "dataset = BanknoteDataset(X_features, y_targets)\n",
    "\n",
    "torch.manual_seed(1)\n",
    "train_set, val_set = torch.utils.data.random_split(dataset, [train_size, test_size])\n",
    "\n",
    "train_loader = DataLoader(\n",
    "    dataset=train_set,\n",
    "    batch_size=10,\n",
    "    shuffle=True,\n",
    ")\n",
    "\n",
    "val_loader = DataLoader(\n",
    "    dataset=val_set,\n",
    "    batch_size=10,\n",
    "    shuffle=False,\n",
    ")"
   ],
   "metadata": {
    "collapsed": false,
    "ExecuteTime": {
     "end_time": "2023-10-12T06:47:28.553226Z",
     "start_time": "2023-10-12T06:47:28.546595Z"
    }
   }
  },
  {
   "cell_type": "code",
   "execution_count": 10,
   "outputs": [],
   "source": [
    "train_mean = torch.zeros(X_features.shape[1])\n",
    "\n",
    "for x, y in train_loader:\n",
    "    train_mean += x.sum(dim=0)\n",
    "\n",
    "train_mean /= len(train_set)\n",
    "\n",
    "train_std = torch.zeros(X_features.shape[1])\n",
    "for x, y in train_loader:\n",
    "    train_std += ((x - train_mean) ** 2).sum(dim=0)\n",
    "\n",
    "train_std = torch.sqrt(train_std / (len(train_set) - 1))"
   ],
   "metadata": {
    "collapsed": false,
    "ExecuteTime": {
     "end_time": "2023-10-12T06:48:51.552120Z",
     "start_time": "2023-10-12T06:48:51.534373Z"
    }
   }
  },
  {
   "cell_type": "code",
   "execution_count": 11,
   "outputs": [
    {
     "name": "stdout",
     "output_type": "stream",
     "text": [
      "Feature means: tensor([ 0.3854,  1.8680,  1.4923, -1.1999])\n",
      "Feature std. devs: tensor([2.8575, 5.9216, 4.3869, 2.1041])\n"
     ]
    }
   ],
   "source": [
    "print(\"Feature means:\", train_mean)\n",
    "print(\"Feature std. devs:\", train_std)"
   ],
   "metadata": {
    "collapsed": false,
    "ExecuteTime": {
     "end_time": "2023-10-12T06:49:02.493027Z",
     "start_time": "2023-10-12T06:49:02.489041Z"
    }
   }
  },
  {
   "cell_type": "code",
   "execution_count": 12,
   "outputs": [],
   "source": [
    "def standardize(df, mean, std):\n",
    "    for example in df:\n",
    "        example = (example - mean) / std\n",
    "    return df"
   ],
   "metadata": {
    "collapsed": false,
    "ExecuteTime": {
     "end_time": "2023-10-12T06:54:04.443345Z",
     "start_time": "2023-10-12T06:54:04.440167Z"
    }
   }
  },
  {
   "cell_type": "markdown",
   "source": [
    "### Implementing Logistic Regression Model"
   ],
   "metadata": {
    "collapsed": false
   }
  },
  {
   "cell_type": "code",
   "execution_count": 13,
   "outputs": [],
   "source": [
    "class LogisticRegressionModel(torch.nn.Module):\n",
    "\n",
    "    def __init__(self, num_features):\n",
    "\n",
    "        super().__init__()\n",
    "        self._linear = torch.nn.Linear(num_features, 1)\n",
    "\n",
    "\n",
    "    def forward(self, X):\n",
    "        logits = self._linear(X)\n",
    "        probas = torch.sigmoid(logits)\n",
    "        return probas\n"
   ],
   "metadata": {
    "collapsed": false,
    "ExecuteTime": {
     "end_time": "2023-10-12T06:56:07.003165Z",
     "start_time": "2023-10-12T06:56:07.002284Z"
    }
   }
  },
  {
   "cell_type": "markdown",
   "source": [
    "### Model evaluation"
   ],
   "metadata": {
    "collapsed": false
   }
  },
  {
   "cell_type": "code",
   "execution_count": 14,
   "outputs": [],
   "source": [
    "def compute_accuracy(model, dataloader):\n",
    "\n",
    "    model = model.eval()\n",
    "\n",
    "    correct = 0.0\n",
    "    total_examples = 0\n",
    "\n",
    "    for idx, (features, class_labels) in enumerate(dataloader):\n",
    "\n",
    "        with torch.no_grad():\n",
    "            probas = model(features)\n",
    "\n",
    "        pred = torch.where(probas > 0.5, 1, 0)\n",
    "        lab = class_labels.view(pred.shape).to(pred.dtype)\n",
    "\n",
    "        compare = lab == pred\n",
    "        correct += torch.sum(compare)\n",
    "        total_examples += len(compare)\n",
    "\n",
    "    return correct / total_examples"
   ],
   "metadata": {
    "collapsed": false,
    "ExecuteTime": {
     "end_time": "2023-10-12T06:56:08.898492Z",
     "start_time": "2023-10-12T06:56:08.896168Z"
    }
   }
  },
  {
   "cell_type": "markdown",
   "source": [
    "### Train model"
   ],
   "metadata": {
    "collapsed": false
   }
  },
  {
   "cell_type": "code",
   "execution_count": 15,
   "outputs": [],
   "source": [
    "import torch.nn.functional as F\n",
    "\n",
    "num_epochs_stop = 30\n",
    "learning_rate_stop = 3\n",
    "\n",
    "def find_optimal_hyperparameters():\n",
    "\n",
    "    torch.manual_seed(1)\n",
    "    model = LogisticRegressionModel(num_features=4)\n",
    "\n",
    "    stop_learning = False\n",
    "    best_lr = 0\n",
    "    best_num_epochs = 0\n",
    "    for epochs_count in range(1, num_epochs_stop):\n",
    "        if stop_learning:\n",
    "            break\n",
    "        num_epochs = epochs_count\n",
    "        curr_lr = 0.1\n",
    "        while curr_lr < learning_rate_stop:\n",
    "            if stop_learning:\n",
    "                break\n",
    "            optimizer = torch.optim.SGD(model.parameters(), lr=curr_lr)\n",
    "            for epoch in range(num_epochs):\n",
    "                if stop_learning:\n",
    "                    break\n",
    "                model = model.train()\n",
    "                for batch_idx, (features, class_labels) in enumerate(train_loader):\n",
    "\n",
    "                    features = standardize(features, train_mean, train_std)\n",
    "                    probas = model(features)\n",
    "\n",
    "                    loss = F.binary_cross_entropy(probas, class_labels.view(probas.shape))\n",
    "\n",
    "                    optimizer.zero_grad()\n",
    "                    loss.backward()\n",
    "                    optimizer.step()\n",
    "\n",
    "                    ### LOGGING\n",
    "                    if not batch_idx % 20: # log every 20th batch\n",
    "                        print(f'Epoch: {epoch+1:03d}/{num_epochs:03d}'\n",
    "                               f' | Batch {batch_idx:03d}/{len(train_loader):03d}'\n",
    "                               f' | Loss: {loss:.2f}')\n",
    "                    train_acc = compute_accuracy(model, train_loader)\n",
    "                    val_acc = compute_accuracy(model, val_loader)\n",
    "                    if train_acc * 100 > 98 and val_acc * 100 > 98:\n",
    "                        best_lr = curr_lr\n",
    "                        best_num_epochs = epochs_count\n",
    "                        break\n",
    "\n",
    "            curr_lr += 0.1\n",
    "\n",
    "        return {\"best_lr\": best_lr, \"best_num_epochs\": best_num_epochs, \"model\": model}\n"
   ],
   "metadata": {
    "collapsed": false,
    "ExecuteTime": {
     "end_time": "2023-10-12T06:56:12.325310Z",
     "start_time": "2023-10-12T06:56:12.322665Z"
    }
   }
  },
  {
   "cell_type": "code",
   "execution_count": 16,
   "outputs": [
    {
     "name": "stdout",
     "output_type": "stream",
     "text": [
      "Epoch: 001/001 | Batch 000/110 | Loss: 1.30\n",
      "Epoch: 001/001 | Batch 020/110 | Loss: 0.17\n",
      "Epoch: 001/001 | Batch 040/110 | Loss: 0.29\n",
      "Epoch: 001/001 | Batch 060/110 | Loss: 0.07\n",
      "Epoch: 001/001 | Batch 080/110 | Loss: 0.04\n",
      "Epoch: 001/001 | Batch 100/110 | Loss: 0.05\n",
      "Epoch: 001/001 | Batch 000/110 | Loss: 0.13\n",
      "Epoch: 001/001 | Batch 020/110 | Loss: 0.23\n",
      "Epoch: 001/001 | Batch 040/110 | Loss: 0.04\n",
      "Epoch: 001/001 | Batch 060/110 | Loss: 0.04\n",
      "Epoch: 001/001 | Batch 000/110 | Loss: 0.04\n",
      "Epoch: 001/001 | Batch 000/110 | Loss: 0.02\n",
      "Epoch: 001/001 | Batch 000/110 | Loss: 0.11\n",
      "Epoch: 001/001 | Batch 000/110 | Loss: 0.01\n",
      "Epoch: 001/001 | Batch 000/110 | Loss: 0.07\n",
      "Epoch: 001/001 | Batch 000/110 | Loss: 0.01\n",
      "Epoch: 001/001 | Batch 020/110 | Loss: 0.01\n",
      "Epoch: 001/001 | Batch 000/110 | Loss: 0.08\n",
      "Epoch: 001/001 | Batch 000/110 | Loss: 0.03\n",
      "Epoch: 001/001 | Batch 000/110 | Loss: 0.03\n",
      "Epoch: 001/001 | Batch 000/110 | Loss: 0.02\n",
      "Epoch: 001/001 | Batch 000/110 | Loss: 0.02\n",
      "Epoch: 001/001 | Batch 000/110 | Loss: 0.03\n",
      "Epoch: 001/001 | Batch 000/110 | Loss: 0.04\n",
      "Epoch: 001/001 | Batch 000/110 | Loss: 0.03\n",
      "Epoch: 001/001 | Batch 000/110 | Loss: 0.03\n",
      "Epoch: 001/001 | Batch 000/110 | Loss: 0.18\n",
      "Epoch: 001/001 | Batch 020/110 | Loss: 0.07\n",
      "Epoch: 001/001 | Batch 000/110 | Loss: 0.01\n",
      "Epoch: 001/001 | Batch 000/110 | Loss: 0.01\n",
      "Epoch: 001/001 | Batch 000/110 | Loss: 0.00\n",
      "Epoch: 001/001 | Batch 000/110 | Loss: 0.00\n",
      "Epoch: 001/001 | Batch 000/110 | Loss: 0.01\n",
      "Epoch: 001/001 | Batch 000/110 | Loss: 0.01\n",
      "Epoch: 001/001 | Batch 000/110 | Loss: 0.00\n",
      "Epoch: 001/001 | Batch 000/110 | Loss: 0.01\n",
      "Epoch: 001/001 | Batch 020/110 | Loss: 0.00\n",
      "Epoch: 001/001 | Batch 040/110 | Loss: 0.59\n",
      "Epoch: 001/001 | Batch 060/110 | Loss: 0.00\n",
      "Epoch: 001/001 | Batch 000/110 | Loss: 0.00\n",
      "Epoch: 001/001 | Batch 000/110 | Loss: 0.00\n",
      "Epoch: 001/001 | Batch 000/110 | Loss: 0.58\n",
      "Epoch: 001/001 | Batch 020/110 | Loss: 0.06\n",
      "Epoch: 001/001 | Batch 040/110 | Loss: 0.26\n",
      "Epoch: 001/001 | Batch 060/110 | Loss: 0.00\n",
      "Epoch: 001/001 | Batch 080/110 | Loss: 0.92\n"
     ]
    }
   ],
   "source": [
    "res = find_optimal_hyperparameters()"
   ],
   "metadata": {
    "collapsed": false,
    "ExecuteTime": {
     "end_time": "2023-10-12T06:57:15.482932Z",
     "start_time": "2023-10-12T06:57:11.996695Z"
    }
   }
  },
  {
   "cell_type": "code",
   "execution_count": 17,
   "outputs": [
    {
     "name": "stdout",
     "output_type": "stream",
     "text": [
      "{'best_lr': 2.9000000000000012, 'best_num_epochs': 1, 'model': LogisticRegressionModel(\n",
      "  (_linear): Linear(in_features=4, out_features=1, bias=True)\n",
      ")}\n"
     ]
    }
   ],
   "source": [
    "print(res)"
   ],
   "metadata": {
    "collapsed": false,
    "ExecuteTime": {
     "end_time": "2023-10-12T06:57:16.191331Z",
     "start_time": "2023-10-12T06:57:16.187182Z"
    }
   }
  },
  {
   "cell_type": "code",
   "execution_count": 19,
   "outputs": [
    {
     "name": "stdout",
     "output_type": "stream",
     "text": [
      "Train Accuracy: 98.27%\n",
      "Validation Accuracy: 98.91%\n"
     ]
    }
   ],
   "source": [
    "train_acc = compute_accuracy(res[\"model\"], train_loader)\n",
    "print(f\"Train Accuracy: {train_acc*100:.2f}%\")\n",
    "\n",
    "val_acc = compute_accuracy(res[\"model\"], val_loader)\n",
    "print(f\"Validation Accuracy: {val_acc * 100:.2f}%\")"
   ],
   "metadata": {
    "collapsed": false,
    "ExecuteTime": {
     "end_time": "2023-10-12T06:57:38.664624Z",
     "start_time": "2023-10-12T06:57:38.645873Z"
    }
   }
  }
 ],
 "metadata": {
  "kernelspec": {
   "display_name": "Python 3",
   "language": "python",
   "name": "python3"
  },
  "language_info": {
   "codemirror_mode": {
    "name": "ipython",
    "version": 2
   },
   "file_extension": ".py",
   "mimetype": "text/x-python",
   "name": "python",
   "nbconvert_exporter": "python",
   "pygments_lexer": "ipython2",
   "version": "2.7.6"
  }
 },
 "nbformat": 4,
 "nbformat_minor": 0
}
