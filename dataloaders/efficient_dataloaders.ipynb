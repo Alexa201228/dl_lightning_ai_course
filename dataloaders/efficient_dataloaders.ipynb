{
 "cells": [
  {
   "cell_type": "code",
   "execution_count": 1,
   "metadata": {
    "collapsed": true,
    "ExecuteTime": {
     "end_time": "2023-10-14T13:43:44.322697440Z",
     "start_time": "2023-10-14T13:43:41.112556733Z"
    }
   },
   "outputs": [
    {
     "name": "stdout",
     "output_type": "stream",
     "text": [
      "Collecting gitpython\r\n",
      "  Downloading GitPython-3.1.37-py3-none-any.whl (190 kB)\r\n",
      "\u001B[2K     \u001B[90m━━━━━━━━━━━━━━━━━━━━━━━━━━━━━━━━━━━━━\u001B[0m \u001B[32m190.0/190.0 kB\u001B[0m \u001B[31m892.5 kB/s\u001B[0m eta \u001B[36m0:00:00\u001B[0ma \u001B[36m0:00:01\u001B[0m\r\n",
      "\u001B[?25hCollecting gitdb<5,>=4.0.1\r\n",
      "  Downloading gitdb-4.0.10-py3-none-any.whl (62 kB)\r\n",
      "\u001B[2K     \u001B[90m━━━━━━━━━━━━━━━━━━━━━━━━━━━━━━━━━━━━━━━━\u001B[0m \u001B[32m62.7/62.7 kB\u001B[0m \u001B[31m10.7 MB/s\u001B[0m eta \u001B[36m0:00:00\u001B[0m\r\n",
      "\u001B[?25hCollecting smmap<6,>=3.0.1\r\n",
      "  Downloading smmap-5.0.1-py3-none-any.whl (24 kB)\r\n",
      "Installing collected packages: smmap, gitdb, gitpython\r\n",
      "Successfully installed gitdb-4.0.10 gitpython-3.1.37 smmap-5.0.1\r\n",
      "\r\n",
      "\u001B[1m[\u001B[0m\u001B[34;49mnotice\u001B[0m\u001B[1;39;49m]\u001B[0m\u001B[39;49m A new release of pip available: \u001B[0m\u001B[31;49m22.3.1\u001B[0m\u001B[39;49m -> \u001B[0m\u001B[32;49m23.2.1\u001B[0m\r\n",
      "\u001B[1m[\u001B[0m\u001B[34;49mnotice\u001B[0m\u001B[1;39;49m]\u001B[0m\u001B[39;49m To update, run: \u001B[0m\u001B[32;49mpip install --upgrade pip\u001B[0m\r\n"
     ]
    }
   ],
   "source": [
    "!pip install gitpython"
   ]
  },
  {
   "cell_type": "code",
   "execution_count": 3,
   "outputs": [],
   "source": [
    "import os\n",
    "from git import Repo\n",
    "\n",
    "if not os.path.exists(\"mnist-pngs\"):\n",
    "    Repo.clone_from(\"https://github.com/rasbt/mnist-pngs\", \"mnist-pngs\")"
   ],
   "metadata": {
    "collapsed": false,
    "ExecuteTime": {
     "end_time": "2023-10-14T13:46:11.152784432Z",
     "start_time": "2023-10-14T13:46:11.109195144Z"
    }
   }
  },
  {
   "cell_type": "code",
   "execution_count": 4,
   "outputs": [
    {
     "data": {
      "text/plain": "            filepath  label\n0  train/0/16585.png      0\n1  train/0/24537.png      0\n2  train/0/25629.png      0\n3  train/0/20751.png      0\n4  train/0/34730.png      0",
      "text/html": "<div>\n<style scoped>\n    .dataframe tbody tr th:only-of-type {\n        vertical-align: middle;\n    }\n\n    .dataframe tbody tr th {\n        vertical-align: top;\n    }\n\n    .dataframe thead th {\n        text-align: right;\n    }\n</style>\n<table border=\"1\" class=\"dataframe\">\n  <thead>\n    <tr style=\"text-align: right;\">\n      <th></th>\n      <th>filepath</th>\n      <th>label</th>\n    </tr>\n  </thead>\n  <tbody>\n    <tr>\n      <th>0</th>\n      <td>train/0/16585.png</td>\n      <td>0</td>\n    </tr>\n    <tr>\n      <th>1</th>\n      <td>train/0/24537.png</td>\n      <td>0</td>\n    </tr>\n    <tr>\n      <th>2</th>\n      <td>train/0/25629.png</td>\n      <td>0</td>\n    </tr>\n    <tr>\n      <th>3</th>\n      <td>train/0/20751.png</td>\n      <td>0</td>\n    </tr>\n    <tr>\n      <th>4</th>\n      <td>train/0/34730.png</td>\n      <td>0</td>\n    </tr>\n  </tbody>\n</table>\n</div>"
     },
     "execution_count": 4,
     "metadata": {},
     "output_type": "execute_result"
    }
   ],
   "source": [
    "import pandas as pd\n",
    "\n",
    "df_train = pd.read_csv(\"mnist-pngs/train.csv\")\n",
    "df_train.head()"
   ],
   "metadata": {
    "collapsed": false,
    "ExecuteTime": {
     "end_time": "2023-10-14T13:47:59.577450293Z",
     "start_time": "2023-10-14T13:47:59.328011436Z"
    }
   }
  },
  {
   "cell_type": "code",
   "execution_count": 5,
   "outputs": [
    {
     "data": {
      "text/plain": "           filepath  label\n0  test/0/66062.png      0\n1  test/0/64675.png      0\n2  test/0/62204.png      0\n3  test/0/60407.png      0\n4  test/0/67368.png      0",
      "text/html": "<div>\n<style scoped>\n    .dataframe tbody tr th:only-of-type {\n        vertical-align: middle;\n    }\n\n    .dataframe tbody tr th {\n        vertical-align: top;\n    }\n\n    .dataframe thead th {\n        text-align: right;\n    }\n</style>\n<table border=\"1\" class=\"dataframe\">\n  <thead>\n    <tr style=\"text-align: right;\">\n      <th></th>\n      <th>filepath</th>\n      <th>label</th>\n    </tr>\n  </thead>\n  <tbody>\n    <tr>\n      <th>0</th>\n      <td>test/0/66062.png</td>\n      <td>0</td>\n    </tr>\n    <tr>\n      <th>1</th>\n      <td>test/0/64675.png</td>\n      <td>0</td>\n    </tr>\n    <tr>\n      <th>2</th>\n      <td>test/0/62204.png</td>\n      <td>0</td>\n    </tr>\n    <tr>\n      <th>3</th>\n      <td>test/0/60407.png</td>\n      <td>0</td>\n    </tr>\n    <tr>\n      <th>4</th>\n      <td>test/0/67368.png</td>\n      <td>0</td>\n    </tr>\n  </tbody>\n</table>\n</div>"
     },
     "execution_count": 5,
     "metadata": {},
     "output_type": "execute_result"
    }
   ],
   "source": [
    "df_test = pd.read_csv(\"mnist-pngs/test.csv\")\n",
    "df_test.head()"
   ],
   "metadata": {
    "collapsed": false,
    "ExecuteTime": {
     "end_time": "2023-10-14T13:48:25.462509912Z",
     "start_time": "2023-10-14T13:48:25.451201005Z"
    }
   }
  },
  {
   "cell_type": "code",
   "execution_count": 7,
   "outputs": [],
   "source": [
    "df_train = df_train.sample(frac=1, random_state=42)\n",
    "\n",
    "loc = round(df_train.shape[0] * 0.9)\n",
    "df_new_train = df_train.iloc[:loc]\n",
    "df_new_val = df_train.iloc[loc:]\n",
    "\n",
    "df_new_train.to_csv(\"mnist-pngs/new_train.csv\", index=None)\n",
    "df_new_val.to_csv(\"mnist-pngs/new_val.csv\", index=None)"
   ],
   "metadata": {
    "collapsed": false,
    "ExecuteTime": {
     "end_time": "2023-10-14T13:51:41.173969957Z",
     "start_time": "2023-10-14T13:51:41.124819007Z"
    }
   }
  },
  {
   "cell_type": "code",
   "execution_count": 8,
   "outputs": [
    {
     "data": {
      "text/plain": "                filepath  label\n31309  train/5/59525.png      5\n1236   train/0/53355.png      0\n32047  train/5/48049.png      5\n6082   train/1/20143.png      1\n10927  train/1/23034.png      1",
      "text/html": "<div>\n<style scoped>\n    .dataframe tbody tr th:only-of-type {\n        vertical-align: middle;\n    }\n\n    .dataframe tbody tr th {\n        vertical-align: top;\n    }\n\n    .dataframe thead th {\n        text-align: right;\n    }\n</style>\n<table border=\"1\" class=\"dataframe\">\n  <thead>\n    <tr style=\"text-align: right;\">\n      <th></th>\n      <th>filepath</th>\n      <th>label</th>\n    </tr>\n  </thead>\n  <tbody>\n    <tr>\n      <th>31309</th>\n      <td>train/5/59525.png</td>\n      <td>5</td>\n    </tr>\n    <tr>\n      <th>1236</th>\n      <td>train/0/53355.png</td>\n      <td>0</td>\n    </tr>\n    <tr>\n      <th>32047</th>\n      <td>train/5/48049.png</td>\n      <td>5</td>\n    </tr>\n    <tr>\n      <th>6082</th>\n      <td>train/1/20143.png</td>\n      <td>1</td>\n    </tr>\n    <tr>\n      <th>10927</th>\n      <td>train/1/23034.png</td>\n      <td>1</td>\n    </tr>\n  </tbody>\n</table>\n</div>"
     },
     "execution_count": 8,
     "metadata": {},
     "output_type": "execute_result"
    }
   ],
   "source": [
    "df_new_train.head()"
   ],
   "metadata": {
    "collapsed": false,
    "ExecuteTime": {
     "end_time": "2023-10-14T13:51:54.567737496Z",
     "start_time": "2023-10-14T13:51:54.556911949Z"
    }
   }
  },
  {
   "cell_type": "code",
   "execution_count": null,
   "outputs": [],
   "source": [],
   "metadata": {
    "collapsed": false
   }
  },
  {
   "cell_type": "code",
   "execution_count": null,
   "outputs": [],
   "source": [],
   "metadata": {
    "collapsed": false
   }
  }
 ],
 "metadata": {
  "kernelspec": {
   "display_name": "Python 3",
   "language": "python",
   "name": "python3"
  },
  "language_info": {
   "codemirror_mode": {
    "name": "ipython",
    "version": 2
   },
   "file_extension": ".py",
   "mimetype": "text/x-python",
   "name": "python",
   "nbconvert_exporter": "python",
   "pygments_lexer": "ipython2",
   "version": "2.7.6"
  }
 },
 "nbformat": 4,
 "nbformat_minor": 0
}
