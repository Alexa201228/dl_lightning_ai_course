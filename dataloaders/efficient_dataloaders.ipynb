{
 "cells": [
  {
   "cell_type": "code",
   "execution_count": 8,
   "metadata": {
    "collapsed": true,
    "ExecuteTime": {
     "end_time": "2023-10-15T17:31:43.791133300Z",
     "start_time": "2023-10-15T17:31:41.953761900Z"
    }
   },
   "outputs": [
    {
     "name": "stdout",
     "output_type": "stream",
     "text": [
      "Requirement already satisfied: gitpython in d:\\programming train\\dl_lightning_ai_course\\venv\\lib\\site-packages (3.1.37)\n",
      "Requirement already satisfied: torch in d:\\programming train\\dl_lightning_ai_course\\venv\\lib\\site-packages (2.1.0)\n",
      "Requirement already satisfied: torchvision in d:\\programming train\\dl_lightning_ai_course\\venv\\lib\\site-packages (0.16.0)\n",
      "Requirement already satisfied: torchaudio in d:\\programming train\\dl_lightning_ai_course\\venv\\lib\\site-packages (2.1.0)\n",
      "Requirement already satisfied: numpy in d:\\programming train\\dl_lightning_ai_course\\venv\\lib\\site-packages (1.26.0)\n",
      "Requirement already satisfied: pandas in d:\\programming train\\dl_lightning_ai_course\\venv\\lib\\site-packages (2.1.1)\n",
      "Requirement already satisfied: matplotlib in d:\\programming train\\dl_lightning_ai_course\\venv\\lib\\site-packages (3.8.0)\n",
      "Requirement already satisfied: gitdb<5,>=4.0.1 in d:\\programming train\\dl_lightning_ai_course\\venv\\lib\\site-packages (from gitpython) (4.0.10)\n",
      "Requirement already satisfied: filelock in d:\\programming train\\dl_lightning_ai_course\\venv\\lib\\site-packages (from torch) (3.12.4)\n",
      "Requirement already satisfied: typing-extensions in d:\\programming train\\dl_lightning_ai_course\\venv\\lib\\site-packages (from torch) (4.8.0)\n",
      "Requirement already satisfied: sympy in d:\\programming train\\dl_lightning_ai_course\\venv\\lib\\site-packages (from torch) (1.12)\n",
      "Requirement already satisfied: networkx in d:\\programming train\\dl_lightning_ai_course\\venv\\lib\\site-packages (from torch) (3.1)\n",
      "Requirement already satisfied: jinja2 in d:\\programming train\\dl_lightning_ai_course\\venv\\lib\\site-packages (from torch) (3.1.2)\n",
      "Requirement already satisfied: fsspec in d:\\programming train\\dl_lightning_ai_course\\venv\\lib\\site-packages (from torch) (2023.9.2)\n",
      "Requirement already satisfied: requests in d:\\programming train\\dl_lightning_ai_course\\venv\\lib\\site-packages (from torchvision) (2.31.0)\n",
      "Requirement already satisfied: pillow!=8.3.*,>=5.3.0 in d:\\programming train\\dl_lightning_ai_course\\venv\\lib\\site-packages (from torchvision) (10.0.1)\n",
      "Requirement already satisfied: python-dateutil>=2.8.2 in d:\\programming train\\dl_lightning_ai_course\\venv\\lib\\site-packages (from pandas) (2.8.2)\n",
      "Requirement already satisfied: pytz>=2020.1 in d:\\programming train\\dl_lightning_ai_course\\venv\\lib\\site-packages (from pandas) (2023.3.post1)\n",
      "Requirement already satisfied: tzdata>=2022.1 in d:\\programming train\\dl_lightning_ai_course\\venv\\lib\\site-packages (from pandas) (2023.3)\n",
      "Requirement already satisfied: contourpy>=1.0.1 in d:\\programming train\\dl_lightning_ai_course\\venv\\lib\\site-packages (from matplotlib) (1.1.1)\n",
      "Requirement already satisfied: cycler>=0.10 in d:\\programming train\\dl_lightning_ai_course\\venv\\lib\\site-packages (from matplotlib) (0.12.1)\n",
      "Requirement already satisfied: fonttools>=4.22.0 in d:\\programming train\\dl_lightning_ai_course\\venv\\lib\\site-packages (from matplotlib) (4.43.1)\n",
      "Requirement already satisfied: kiwisolver>=1.0.1 in d:\\programming train\\dl_lightning_ai_course\\venv\\lib\\site-packages (from matplotlib) (1.4.5)\n",
      "Requirement already satisfied: packaging>=20.0 in d:\\programming train\\dl_lightning_ai_course\\venv\\lib\\site-packages (from matplotlib) (23.2)\n",
      "Requirement already satisfied: pyparsing>=2.3.1 in d:\\programming train\\dl_lightning_ai_course\\venv\\lib\\site-packages (from matplotlib) (3.1.1)\n",
      "Requirement already satisfied: importlib-resources>=3.2.0 in d:\\programming train\\dl_lightning_ai_course\\venv\\lib\\site-packages (from matplotlib) (6.1.0)\n",
      "Requirement already satisfied: smmap<6,>=3.0.1 in d:\\programming train\\dl_lightning_ai_course\\venv\\lib\\site-packages (from gitdb<5,>=4.0.1->gitpython) (5.0.1)\n",
      "Requirement already satisfied: zipp>=3.1.0 in d:\\programming train\\dl_lightning_ai_course\\venv\\lib\\site-packages (from importlib-resources>=3.2.0->matplotlib) (3.17.0)\n",
      "Requirement already satisfied: six>=1.5 in d:\\programming train\\dl_lightning_ai_course\\venv\\lib\\site-packages (from python-dateutil>=2.8.2->pandas) (1.16.0)\n",
      "Requirement already satisfied: MarkupSafe>=2.0 in d:\\programming train\\dl_lightning_ai_course\\venv\\lib\\site-packages (from jinja2->torch) (2.1.3)\n",
      "Requirement already satisfied: charset-normalizer<4,>=2 in d:\\programming train\\dl_lightning_ai_course\\venv\\lib\\site-packages (from requests->torchvision) (3.3.0)\n",
      "Requirement already satisfied: idna<4,>=2.5 in d:\\programming train\\dl_lightning_ai_course\\venv\\lib\\site-packages (from requests->torchvision) (3.4)\n",
      "Requirement already satisfied: urllib3<3,>=1.21.1 in d:\\programming train\\dl_lightning_ai_course\\venv\\lib\\site-packages (from requests->torchvision) (2.0.6)\n",
      "Requirement already satisfied: certifi>=2017.4.17 in d:\\programming train\\dl_lightning_ai_course\\venv\\lib\\site-packages (from requests->torchvision) (2023.7.22)\n",
      "Requirement already satisfied: mpmath>=0.19 in d:\\programming train\\dl_lightning_ai_course\\venv\\lib\\site-packages (from sympy->torch) (1.3.0)\n"
     ]
    },
    {
     "name": "stderr",
     "output_type": "stream",
     "text": [
      "\n",
      "[notice] A new release of pip is available: 23.1.2 -> 23.3\n",
      "[notice] To update, run: python.exe -m pip install --upgrade pip\n"
     ]
    }
   ],
   "source": [
    "!pip install gitpython torch torchvision torchaudio numpy pandas matplotlib"
   ]
  },
  {
   "cell_type": "code",
   "execution_count": 2,
   "outputs": [],
   "source": [
    "import os\n",
    "from git import Repo\n",
    "\n",
    "if not os.path.exists(\"mnist-pngs\"):\n",
    "    Repo.clone_from(\"https://github.com/rasbt/mnist-pngs\", \"mnist-pngs\")"
   ],
   "metadata": {
    "collapsed": false,
    "ExecuteTime": {
     "end_time": "2023-10-15T17:30:06.469320800Z",
     "start_time": "2023-10-15T17:29:29.507354900Z"
    }
   }
  },
  {
   "cell_type": "code",
   "execution_count": 3,
   "outputs": [
    {
     "data": {
      "text/plain": "            filepath  label\n0  train/0/16585.png      0\n1  train/0/24537.png      0\n2  train/0/25629.png      0\n3  train/0/20751.png      0\n4  train/0/34730.png      0",
      "text/html": "<div>\n<style scoped>\n    .dataframe tbody tr th:only-of-type {\n        vertical-align: middle;\n    }\n\n    .dataframe tbody tr th {\n        vertical-align: top;\n    }\n\n    .dataframe thead th {\n        text-align: right;\n    }\n</style>\n<table border=\"1\" class=\"dataframe\">\n  <thead>\n    <tr style=\"text-align: right;\">\n      <th></th>\n      <th>filepath</th>\n      <th>label</th>\n    </tr>\n  </thead>\n  <tbody>\n    <tr>\n      <th>0</th>\n      <td>train/0/16585.png</td>\n      <td>0</td>\n    </tr>\n    <tr>\n      <th>1</th>\n      <td>train/0/24537.png</td>\n      <td>0</td>\n    </tr>\n    <tr>\n      <th>2</th>\n      <td>train/0/25629.png</td>\n      <td>0</td>\n    </tr>\n    <tr>\n      <th>3</th>\n      <td>train/0/20751.png</td>\n      <td>0</td>\n    </tr>\n    <tr>\n      <th>4</th>\n      <td>train/0/34730.png</td>\n      <td>0</td>\n    </tr>\n  </tbody>\n</table>\n</div>"
     },
     "execution_count": 3,
     "metadata": {},
     "output_type": "execute_result"
    }
   ],
   "source": [
    "import pandas as pd\n",
    "\n",
    "df_train = pd.read_csv(\"mnist-pngs/train.csv\")\n",
    "df_train.head()"
   ],
   "metadata": {
    "collapsed": false,
    "ExecuteTime": {
     "end_time": "2023-10-15T17:30:08.580061Z",
     "start_time": "2023-10-15T17:30:06.469320800Z"
    }
   }
  },
  {
   "cell_type": "code",
   "execution_count": 4,
   "outputs": [
    {
     "data": {
      "text/plain": "           filepath  label\n0  test/0/66062.png      0\n1  test/0/64675.png      0\n2  test/0/62204.png      0\n3  test/0/60407.png      0\n4  test/0/67368.png      0",
      "text/html": "<div>\n<style scoped>\n    .dataframe tbody tr th:only-of-type {\n        vertical-align: middle;\n    }\n\n    .dataframe tbody tr th {\n        vertical-align: top;\n    }\n\n    .dataframe thead th {\n        text-align: right;\n    }\n</style>\n<table border=\"1\" class=\"dataframe\">\n  <thead>\n    <tr style=\"text-align: right;\">\n      <th></th>\n      <th>filepath</th>\n      <th>label</th>\n    </tr>\n  </thead>\n  <tbody>\n    <tr>\n      <th>0</th>\n      <td>test/0/66062.png</td>\n      <td>0</td>\n    </tr>\n    <tr>\n      <th>1</th>\n      <td>test/0/64675.png</td>\n      <td>0</td>\n    </tr>\n    <tr>\n      <th>2</th>\n      <td>test/0/62204.png</td>\n      <td>0</td>\n    </tr>\n    <tr>\n      <th>3</th>\n      <td>test/0/60407.png</td>\n      <td>0</td>\n    </tr>\n    <tr>\n      <th>4</th>\n      <td>test/0/67368.png</td>\n      <td>0</td>\n    </tr>\n  </tbody>\n</table>\n</div>"
     },
     "execution_count": 4,
     "metadata": {},
     "output_type": "execute_result"
    }
   ],
   "source": [
    "df_test = pd.read_csv(\"mnist-pngs/test.csv\")\n",
    "df_test.head()"
   ],
   "metadata": {
    "collapsed": false,
    "ExecuteTime": {
     "end_time": "2023-10-15T17:30:08.632059400Z",
     "start_time": "2023-10-15T17:30:08.578058200Z"
    }
   }
  },
  {
   "cell_type": "code",
   "execution_count": 5,
   "outputs": [],
   "source": [
    "df_train = df_train.sample(frac=1, random_state=42)\n",
    "\n",
    "loc = round(df_train.shape[0] * 0.9)\n",
    "df_new_train = df_train.iloc[:loc]\n",
    "df_new_val = df_train.iloc[loc:]\n",
    "\n",
    "df_new_train.to_csv(\"mnist-pngs/new_train.csv\", index=None)\n",
    "df_new_val.to_csv(\"mnist-pngs/new_val.csv\", index=None)"
   ],
   "metadata": {
    "collapsed": false,
    "ExecuteTime": {
     "end_time": "2023-10-15T17:30:08.799727Z",
     "start_time": "2023-10-15T17:30:08.614059600Z"
    }
   }
  },
  {
   "cell_type": "code",
   "execution_count": 6,
   "outputs": [
    {
     "data": {
      "text/plain": "                filepath  label\n12628  train/1/12705.png      1\n37730  train/6/35935.png      6\n39991  train/6/18704.png      6\n8525    train/1/1450.png      1\n8279   train/1/44473.png      1",
      "text/html": "<div>\n<style scoped>\n    .dataframe tbody tr th:only-of-type {\n        vertical-align: middle;\n    }\n\n    .dataframe tbody tr th {\n        vertical-align: top;\n    }\n\n    .dataframe thead th {\n        text-align: right;\n    }\n</style>\n<table border=\"1\" class=\"dataframe\">\n  <thead>\n    <tr style=\"text-align: right;\">\n      <th></th>\n      <th>filepath</th>\n      <th>label</th>\n    </tr>\n  </thead>\n  <tbody>\n    <tr>\n      <th>12628</th>\n      <td>train/1/12705.png</td>\n      <td>1</td>\n    </tr>\n    <tr>\n      <th>37730</th>\n      <td>train/6/35935.png</td>\n      <td>6</td>\n    </tr>\n    <tr>\n      <th>39991</th>\n      <td>train/6/18704.png</td>\n      <td>6</td>\n    </tr>\n    <tr>\n      <th>8525</th>\n      <td>train/1/1450.png</td>\n      <td>1</td>\n    </tr>\n    <tr>\n      <th>8279</th>\n      <td>train/1/44473.png</td>\n      <td>1</td>\n    </tr>\n  </tbody>\n</table>\n</div>"
     },
     "execution_count": 6,
     "metadata": {},
     "output_type": "execute_result"
    }
   ],
   "source": [
    "df_new_train.head()"
   ],
   "metadata": {
    "collapsed": false,
    "ExecuteTime": {
     "end_time": "2023-10-15T17:30:08.800727Z",
     "start_time": "2023-10-15T17:30:08.750724800Z"
    }
   }
  },
  {
   "cell_type": "code",
   "execution_count": 6,
   "outputs": [],
   "source": [],
   "metadata": {
    "collapsed": false,
    "ExecuteTime": {
     "end_time": "2023-10-15T17:30:08.801725800Z",
     "start_time": "2023-10-15T17:30:08.766725800Z"
    }
   }
  },
  {
   "cell_type": "code",
   "execution_count": 6,
   "outputs": [],
   "source": [],
   "metadata": {
    "collapsed": false,
    "ExecuteTime": {
     "end_time": "2023-10-15T17:30:08.801725800Z",
     "start_time": "2023-10-15T17:30:08.782726600Z"
    }
   }
  }
 ],
 "metadata": {
  "kernelspec": {
   "display_name": "Python 3",
   "language": "python",
   "name": "python3"
  },
  "language_info": {
   "codemirror_mode": {
    "name": "ipython",
    "version": 2
   },
   "file_extension": ".py",
   "mimetype": "text/x-python",
   "name": "python",
   "nbconvert_exporter": "python",
   "pygments_lexer": "ipython2",
   "version": "2.7.6"
  }
 },
 "nbformat": 4,
 "nbformat_minor": 0
}
