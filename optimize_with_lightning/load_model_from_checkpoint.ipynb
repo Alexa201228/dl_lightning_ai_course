{
 "cells": [
  {
   "cell_type": "markdown",
   "source": [
    "### Load Model"
   ],
   "metadata": {
    "collapsed": false
   }
  },
  {
   "cell_type": "code",
   "execution_count": 1,
   "metadata": {
    "collapsed": true,
    "ExecuteTime": {
     "end_time": "2023-10-21T17:22:54.953277800Z",
     "start_time": "2023-10-21T17:22:50.731077600Z"
    }
   },
   "outputs": [],
   "source": [
    "import lightning as L\n",
    "import torch\n",
    "from tools import PyTorchMLP, LightningModel, MNISTDataModule"
   ]
  },
  {
   "cell_type": "code",
   "execution_count": 2,
   "outputs": [],
   "source": [
    "pt_model = PyTorchMLP(num_features=784, num_classes=10)\n",
    "\n",
    "lt_model = LightningModel.load_from_checkpoint(\n",
    "    checkpoint_path=\"lt_model.ckpt\", model=pt_model\n",
    ")"
   ],
   "metadata": {
    "collapsed": false,
    "ExecuteTime": {
     "end_time": "2023-10-21T17:22:55.254463800Z",
     "start_time": "2023-10-21T17:22:54.956278400Z"
    }
   }
  },
  {
   "cell_type": "code",
   "execution_count": 3,
   "outputs": [],
   "source": [
    "d_module = MNISTDataModule()\n",
    "d_module.setup(stage=\"test\")"
   ],
   "metadata": {
    "collapsed": false,
    "ExecuteTime": {
     "end_time": "2023-10-21T17:23:42.890098300Z",
     "start_time": "2023-10-21T17:23:42.826104900Z"
    }
   }
  },
  {
   "cell_type": "markdown",
   "source": [
    "### Use new data for prediction"
   ],
   "metadata": {
    "collapsed": false
   }
  },
  {
   "cell_type": "code",
   "execution_count": 4,
   "outputs": [],
   "source": [
    "import torchmetrics\n",
    "\n",
    "test_dataloader = d_module.test_dataloader()\n",
    "acc = torchmetrics.Accuracy(task=\"multiclass\", num_classes=10)"
   ],
   "metadata": {
    "collapsed": false,
    "ExecuteTime": {
     "end_time": "2023-10-21T17:24:32.405136700Z",
     "start_time": "2023-10-21T17:24:32.387908600Z"
    }
   }
  },
  {
   "cell_type": "code",
   "execution_count": 5,
   "outputs": [
    {
     "data": {
      "text/plain": "tensor([1, 2, 3, 4, 5])"
     },
     "execution_count": 5,
     "metadata": {},
     "output_type": "execute_result"
    }
   ],
   "source": [
    "for batch in test_dataloader:\n",
    "\n",
    "    features, true_labels = batch\n",
    "\n",
    "    with torch.inference_mode():\n",
    "        logits = lt_model(features)\n",
    "\n",
    "    predicted_labels = torch.argmax(logits, dim=1)\n",
    "    acc(predicted_labels, true_labels)\n",
    "\n",
    "predicted_labels[:5]"
   ],
   "metadata": {
    "collapsed": false,
    "ExecuteTime": {
     "end_time": "2023-10-21T17:26:37.719468200Z",
     "start_time": "2023-10-21T17:26:36.033862300Z"
    }
   }
  },
  {
   "cell_type": "code",
   "execution_count": 6,
   "outputs": [
    {
     "name": "stdout",
     "output_type": "stream",
     "text": [
      "test accuracy: 96.53%\n"
     ]
    }
   ],
   "source": [
    "test_acc = acc.compute()\n",
    "print(f\"test accuracy: {test_acc * 100:.2f}%\")"
   ],
   "metadata": {
    "collapsed": false,
    "ExecuteTime": {
     "end_time": "2023-10-21T17:27:39.484004300Z",
     "start_time": "2023-10-21T17:27:39.473884600Z"
    }
   }
  },
  {
   "cell_type": "markdown",
   "source": [],
   "metadata": {
    "collapsed": false
   }
  },
  {
   "cell_type": "code",
   "execution_count": null,
   "outputs": [],
   "source": [],
   "metadata": {
    "collapsed": false
   }
  }
 ],
 "metadata": {
  "kernelspec": {
   "display_name": "Python 3",
   "language": "python",
   "name": "python3"
  },
  "language_info": {
   "codemirror_mode": {
    "name": "ipython",
    "version": 2
   },
   "file_extension": ".py",
   "mimetype": "text/x-python",
   "name": "python",
   "nbconvert_exporter": "python",
   "pygments_lexer": "ipython2",
   "version": "2.7.6"
  }
 },
 "nbformat": 4,
 "nbformat_minor": 0
}
