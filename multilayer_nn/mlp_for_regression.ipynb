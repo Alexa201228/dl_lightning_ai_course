{
 "cells": [
  {
   "cell_type": "code",
   "execution_count": 1,
   "metadata": {
    "collapsed": true,
    "ExecuteTime": {
     "end_time": "2023-10-15T18:05:37.879889300Z",
     "start_time": "2023-10-15T18:05:35.634363200Z"
    }
   },
   "outputs": [],
   "source": [
    "\n",
    "import torch\n",
    "\n",
    "X_train = torch.tensor(\n",
    "    [258.0, 270.0, 294.0, 320.0, 342.0, 368.0, 396.0, 446.0, 480.0, 586.0]\n",
    ").view(-1, 1)\n",
    "\n",
    "y_train = torch.tensor(\n",
    "    [236.4, 234.4, 252.8, 298.6, 314.2, 342.2, 360.8, 368.0, 391.2, 390.8]\n",
    ")"
   ]
  },
  {
   "cell_type": "code",
   "execution_count": 2,
   "outputs": [
    {
     "data": {
      "text/plain": "<Figure size 640x480 with 1 Axes>",
      "image/png": "[encoded data removed]"
     },
     "metadata": {},
     "output_type": "display_data"
    }
   ],
   "source": [
    "import matplotlib.pyplot as plt\n",
    "\n",
    "plt.scatter(X_train, y_train)\n",
    "plt.xlabel(\"Feature variable\")\n",
    "plt.ylabel(\"Target variable\")\n",
    "plt.show()"
   ],
   "metadata": {
    "collapsed": false,
    "ExecuteTime": {
     "end_time": "2023-10-15T18:05:38.663094900Z",
     "start_time": "2023-10-15T18:05:37.882889500Z"
    }
   }
  },
  {
   "cell_type": "code",
   "execution_count": 3,
   "outputs": [],
   "source": [
    "class RegressionMLP(torch.nn.Module):\n",
    "\n",
    "    def __init__(self, num_features):\n",
    "        super().__init__()\n",
    "\n",
    "        self.all_layers = torch.nn.Sequential(\n",
    "\n",
    "            # first hidden layer\n",
    "            torch.nn.Linear(num_features, 50),\n",
    "            torch.nn.ReLU(),\n",
    "\n",
    "            # second hidden layer\n",
    "            torch.nn.Linear(50, 25),\n",
    "            torch.nn.ReLU(),\n",
    "\n",
    "            # output layer\n",
    "            torch.nn.Linear(25, 1),\n",
    "        )\n",
    "\n",
    "\n",
    "    def forward(self, x):\n",
    "        logits = self.all_layers(x).flatten()\n",
    "        return logits"
   ],
   "metadata": {
    "collapsed": false,
    "ExecuteTime": {
     "end_time": "2023-10-15T18:07:59.720282700Z",
     "start_time": "2023-10-15T18:07:59.710662300Z"
    }
   }
  },
  {
   "cell_type": "code",
   "execution_count": 4,
   "outputs": [],
   "source": [
    "x_mean, x_std = X_train.mean(), X_train.std()\n",
    "y_mean, y_std = y_train.mean(), y_train.std()\n",
    "\n",
    "X_train_norm = (X_train - x_mean) / x_std\n",
    "y_train_norm = (y_train - y_mean) / y_std\n"
   ],
   "metadata": {
    "collapsed": false,
    "ExecuteTime": {
     "end_time": "2023-10-15T18:10:43.671754800Z",
     "start_time": "2023-10-15T18:10:43.574846300Z"
    }
   }
  },
  {
   "cell_type": "code",
   "execution_count": 5,
   "outputs": [],
   "source": [
    "from torch.utils.data import Dataset, DataLoader\n",
    "\n",
    "\n",
    "class CustomDataset(Dataset):\n",
    "\n",
    "    def __init__(self, X, y):\n",
    "\n",
    "        self._features = X\n",
    "        self._targets = y\n",
    "\n",
    "    def __getitem__(self, index):\n",
    "\n",
    "        x = self._features[index]\n",
    "        y = self._targets[index]\n",
    "\n",
    "        return x, y\n",
    "\n",
    "    def __len__(self):\n",
    "        return self._targets.shape[0]\n",
    "\n",
    "\n",
    "train_dataset = CustomDataset(X_train_norm, y_train_norm)\n",
    "\n",
    "train_dataloader = DataLoader(\n",
    "    dataset=train_dataset,\n",
    "    batch_size=20,\n",
    "    shuffle=True\n",
    ")"
   ],
   "metadata": {
    "collapsed": false,
    "ExecuteTime": {
     "end_time": "2023-10-15T18:14:00.431259Z",
     "start_time": "2023-10-15T18:14:00.419260200Z"
    }
   }
  },
  {
   "cell_type": "code",
   "execution_count": 6,
   "outputs": [
    {
     "name": "stdout",
     "output_type": "stream",
     "text": [
      "Epoch: 001/030 | Batch 000/001 | Train Loss: 0.86\n",
      "Epoch: 002/030 | Batch 000/001 | Train Loss: 0.63\n",
      "Epoch: 003/030 | Batch 000/001 | Train Loss: 0.45\n",
      "Epoch: 004/030 | Batch 000/001 | Train Loss: 0.29\n",
      "Epoch: 005/030 | Batch 000/001 | Train Loss: 0.18\n",
      "Epoch: 006/030 | Batch 000/001 | Train Loss: 0.11\n",
      "Epoch: 007/030 | Batch 000/001 | Train Loss: 0.08\n",
      "Epoch: 008/030 | Batch 000/001 | Train Loss: 0.07\n",
      "Epoch: 009/030 | Batch 000/001 | Train Loss: 0.06\n",
      "Epoch: 010/030 | Batch 000/001 | Train Loss: 0.05\n",
      "Epoch: 011/030 | Batch 000/001 | Train Loss: 0.05\n",
      "Epoch: 012/030 | Batch 000/001 | Train Loss: 0.04\n",
      "Epoch: 013/030 | Batch 000/001 | Train Loss: 0.04\n",
      "Epoch: 014/030 | Batch 000/001 | Train Loss: 0.04\n",
      "Epoch: 015/030 | Batch 000/001 | Train Loss: 0.03\n",
      "Epoch: 016/030 | Batch 000/001 | Train Loss: 0.03\n",
      "Epoch: 017/030 | Batch 000/001 | Train Loss: 0.03\n",
      "Epoch: 018/030 | Batch 000/001 | Train Loss: 0.02\n",
      "Epoch: 019/030 | Batch 000/001 | Train Loss: 0.02\n",
      "Epoch: 020/030 | Batch 000/001 | Train Loss: 0.02\n",
      "Epoch: 021/030 | Batch 000/001 | Train Loss: 0.02\n",
      "Epoch: 022/030 | Batch 000/001 | Train Loss: 0.02\n",
      "Epoch: 023/030 | Batch 000/001 | Train Loss: 0.02\n",
      "Epoch: 024/030 | Batch 000/001 | Train Loss: 0.02\n",
      "Epoch: 025/030 | Batch 000/001 | Train Loss: 0.02\n",
      "Epoch: 026/030 | Batch 000/001 | Train Loss: 0.02\n",
      "Epoch: 027/030 | Batch 000/001 | Train Loss: 0.01\n",
      "Epoch: 028/030 | Batch 000/001 | Train Loss: 0.01\n",
      "Epoch: 029/030 | Batch 000/001 | Train Loss: 0.01\n",
      "Epoch: 030/030 | Batch 000/001 | Train Loss: 0.01\n"
     ]
    }
   ],
   "source": [
    "import torch.nn.functional as F\n",
    "\n",
    "torch.manual_seed(1)\n",
    "model = RegressionMLP(num_features=1)\n",
    "\n",
    "optimizer = torch.optim.SGD(model.parameters(), lr=0.1)\n",
    "\n",
    "num_epochs = 30\n",
    "\n",
    "loss_list = []\n",
    "train_acc_list, val_acc_list = [], []\n",
    "for epoch in range(num_epochs):\n",
    "\n",
    "    model = model.train()\n",
    "    for batch_idx, (features, targets) in enumerate(train_dataloader):\n",
    "\n",
    "        logits = model(features)\n",
    "        loss = F.mse_loss(logits, targets)\n",
    "\n",
    "        optimizer.zero_grad()\n",
    "        loss.backward()\n",
    "        optimizer.step()\n",
    "\n",
    "        if not batch_idx % 250:\n",
    "            ### LOGGING\n",
    "            print(\n",
    "                f\"Epoch: {epoch+1:03d}/{num_epochs:03d}\"\n",
    "                f\" | Batch {batch_idx:03d}/{len(train_dataloader):03d}\"\n",
    "                f\" | Train Loss: {loss:.2f}\"\n",
    "            )\n",
    "        loss_list.append(loss.item())"
   ],
   "metadata": {
    "collapsed": false,
    "ExecuteTime": {
     "end_time": "2023-10-15T18:16:45.243277500Z",
     "start_time": "2023-10-15T18:16:44.137439500Z"
    }
   }
  },
  {
   "cell_type": "code",
   "execution_count": 7,
   "outputs": [],
   "source": [
    "model.eval()\n",
    "\n",
    "X_range = torch.arange(150, 800, 0.1).view(-1, 1)\n",
    "X_range_norm = (X_range - x_mean) / x_std\n"
   ],
   "metadata": {
    "collapsed": false,
    "ExecuteTime": {
     "end_time": "2023-10-15T18:20:06.357810700Z",
     "start_time": "2023-10-15T18:20:06.288024300Z"
    }
   }
  },
  {
   "cell_type": "code",
   "execution_count": 8,
   "outputs": [],
   "source": [
    "with torch.no_grad():\n",
    "    y_mlp_norm = model.forward(X_range_norm)\n",
    "\n",
    "\n",
    "y_mlp = y_mlp_norm * y_std + y_mean"
   ],
   "metadata": {
    "collapsed": false,
    "ExecuteTime": {
     "end_time": "2023-10-15T18:21:46.315021300Z",
     "start_time": "2023-10-15T18:21:46.200933100Z"
    }
   }
  },
  {
   "cell_type": "code",
   "execution_count": 9,
   "outputs": [
    {
     "data": {
      "text/plain": "<Figure size 640x480 with 1 Axes>",
      "image/png": "[encoded data removed]"
     },
     "metadata": {},
     "output_type": "display_data"
    }
   ],
   "source": [
    "plt.scatter(X_train, y_train, label=\"Training points\")\n",
    "plt.plot(X_range, y_mlp, color=\"C1\", label=\"MLP fit\", linestyle=\"-\")\n",
    "\n",
    "\n",
    "plt.xlabel(\"Feature variable\")\n",
    "plt.ylabel(\"Target variable\")\n",
    "plt.legend()\n",
    "\n",
    "plt.show()"
   ],
   "metadata": {
    "collapsed": false,
    "ExecuteTime": {
     "end_time": "2023-10-15T18:22:38.093273700Z",
     "start_time": "2023-10-15T18:22:37.838694500Z"
    }
   }
  }
 ],
 "metadata": {
  "kernelspec": {
   "display_name": "Python 3",
   "language": "python",
   "name": "python3"
  },
  "language_info": {
   "codemirror_mode": {
    "name": "ipython",
    "version": 2
   },
   "file_extension": ".py",
   "mimetype": "text/x-python",
   "name": "python",
   "nbconvert_exporter": "python",
   "pygments_lexer": "ipython2",
   "version": "2.7.6"
  }
 },
 "nbformat": 4,
 "nbformat_minor": 0
}
