{
 "cells": [
  {
   "cell_type": "code",
   "execution_count": 3,
   "metadata": {
    "collapsed": true
   },
   "outputs": [
    {
     "name": "stdout",
     "output_type": "stream",
     "text": [
      "\u001B[2K     \u001B[90m━━━━━━━━━━━━━━━━━━━━━━━━━━━━━━━━━━━━━━━\u001B[0m \u001B[32m670.2/670.2 MB\u001B[0m \u001B[31m1.1 MB/s\u001B[0m eta \u001B[36m0:00:00\u001B[0m00:01\u001B[0m00:12\u001B[0m\r\n",
      "\u001B[?25hCollecting scikit-learn\r\n",
      "  Downloading scikit_learn-1.3.1-cp310-cp310-manylinux_2_17_x86_64.manylinux2014_x86_64.whl (10.8 MB)\r\n",
      "\u001B[2K     \u001B[90m━━━━━━━━━━━━━━━━━━━━━━━━━━━━━━━━━━━━━━━━\u001B[0m \u001B[32m10.8/10.8 MB\u001B[0m \u001B[31m1.1 MB/s\u001B[0m eta \u001B[36m0:00:00\u001B[0m00:01\u001B[0m00:01\u001B[0mm\r\n",
      "\u001B[?25hRequirement already satisfied: python-dateutil>=2.8.2 in /home/alexa/codingTime/dl_lightning_ai_course/venv/lib/python3.10/site-packages (from pandas) (2.8.2)\r\n",
      "Requirement already satisfied: pytz>=2020.1 in /home/alexa/codingTime/dl_lightning_ai_course/venv/lib/python3.10/site-packages (from pandas) (2023.3.post1)\r\n",
      "Requirement already satisfied: tzdata>=2022.1 in /home/alexa/codingTime/dl_lightning_ai_course/venv/lib/python3.10/site-packages (from pandas) (2023.3)\r\n",
      "Requirement already satisfied: contourpy>=1.0.1 in /home/alexa/codingTime/dl_lightning_ai_course/venv/lib/python3.10/site-packages (from matplotlib) (1.1.1)\r\n",
      "Requirement already satisfied: pyparsing>=2.3.1 in /home/alexa/codingTime/dl_lightning_ai_course/venv/lib/python3.10/site-packages (from matplotlib) (3.1.1)\r\n",
      "Requirement already satisfied: packaging>=20.0 in /home/alexa/codingTime/dl_lightning_ai_course/venv/lib/python3.10/site-packages (from matplotlib) (23.2)\r\n",
      "Requirement already satisfied: cycler>=0.10 in /home/alexa/codingTime/dl_lightning_ai_course/venv/lib/python3.10/site-packages (from matplotlib) (0.12.1)\r\n",
      "Requirement already satisfied: fonttools>=4.22.0 in /home/alexa/codingTime/dl_lightning_ai_course/venv/lib/python3.10/site-packages (from matplotlib) (4.43.1)\r\n",
      "Requirement already satisfied: kiwisolver>=1.0.1 in /home/alexa/codingTime/dl_lightning_ai_course/venv/lib/python3.10/site-packages (from matplotlib) (1.4.5)\r\n",
      "Requirement already satisfied: pillow>=6.2.0 in /home/alexa/codingTime/dl_lightning_ai_course/venv/lib/python3.10/site-packages (from matplotlib) (10.0.1)\r\n",
      "Collecting triton==2.1.0\r\n",
      "  Downloading triton-2.1.0-0-cp310-cp310-manylinux2014_x86_64.manylinux_2_17_x86_64.whl (89.2 MB)\r\n",
      "\u001B[2K     \u001B[90m━━━━━━━━━━━━━━━━━━━━━━━━━━━━━━━━━━━━━━━━\u001B[0m \u001B[32m89.2/89.2 MB\u001B[0m \u001B[31m1.0 MB/s\u001B[0m eta \u001B[36m0:00:00\u001B[0m00:01\u001B[0mm00:03\u001B[0m\r\n",
      "\u001B[?25hRequirement already satisfied: networkx in /home/alexa/codingTime/dl_lightning_ai_course/venv/lib/python3.10/site-packages (from torch) (3.1)\r\n",
      "Requirement already satisfied: fsspec in /home/alexa/codingTime/dl_lightning_ai_course/venv/lib/python3.10/site-packages (from torch) (2023.9.2)\r\n",
      "Requirement already satisfied: typing-extensions in /home/alexa/codingTime/dl_lightning_ai_course/venv/lib/python3.10/site-packages (from torch) (4.8.0)\r\n",
      "Collecting nvidia-cuda-cupti-cu12==12.1.105\r\n",
      "  Downloading nvidia_cuda_cupti_cu12-12.1.105-py3-none-manylinux1_x86_64.whl (14.1 MB)\r\n",
      "\u001B[2K     \u001B[90m━━━━━━━━━━━━━━━━━━━━━━━━━━━━━━━━━━━━━━━━\u001B[0m \u001B[32m14.1/14.1 MB\u001B[0m \u001B[31m1.1 MB/s\u001B[0m eta \u001B[36m0:00:00\u001B[0m00:01\u001B[0m00:01\u001B[0mm\r\n",
      "\u001B[?25hCollecting nvidia-cudnn-cu12==8.9.2.26\r\n",
      "  Downloading nvidia_cudnn_cu12-8.9.2.26-py3-none-manylinux1_x86_64.whl (731.7 MB)\r\n",
      "\u001B[2K     \u001B[90m━━━━━━━━━━━━━━━━━━━━━━━━━━━━━━━━━━━━━\u001B[0m \u001B[32m731.7/731.7 MB\u001B[0m \u001B[31m801.8 kB/s\u001B[0m eta \u001B[36m0:00:00\u001B[0m00:01\u001B[0m00:26\u001B[0m\r\n",
      "\u001B[?25hRequirement already satisfied: filelock in /home/alexa/codingTime/dl_lightning_ai_course/venv/lib/python3.10/site-packages (from torch) (3.12.4)\r\n",
      "Collecting nvidia-cufft-cu12==11.0.2.54\r\n",
      "  Using cached nvidia_cufft_cu12-11.0.2.54-py3-none-manylinux1_x86_64.whl (121.6 MB)\r\n",
      "Collecting nvidia-cusparse-cu12==12.1.0.106\r\n",
      "  Using cached nvidia_cusparse_cu12-12.1.0.106-py3-none-manylinux1_x86_64.whl (196.0 MB)\r\n",
      "Collecting nvidia-nvtx-cu12==12.1.105\r\n",
      "  Using cached nvidia_nvtx_cu12-12.1.105-py3-none-manylinux1_x86_64.whl (99 kB)\r\n",
      "Collecting nvidia-curand-cu12==10.3.2.106\r\n",
      "  Using cached nvidia_curand_cu12-10.3.2.106-py3-none-manylinux1_x86_64.whl (56.5 MB)\r\n",
      "Collecting nvidia-cusolver-cu12==11.4.5.107\r\n",
      "  Using cached nvidia_cusolver_cu12-11.4.5.107-py3-none-manylinux1_x86_64.whl (124.2 MB)\r\n",
      "Requirement already satisfied: sympy in /home/alexa/codingTime/dl_lightning_ai_course/venv/lib/python3.10/site-packages (from torch) (1.12)\r\n",
      "Collecting nvidia-nccl-cu12==2.18.1\r\n",
      "  Using cached nvidia_nccl_cu12-2.18.1-py3-none-manylinux1_x86_64.whl (209.8 MB)\r\n",
      "Collecting nvidia-cuda-runtime-cu12==12.1.105\r\n",
      "  Using cached nvidia_cuda_runtime_cu12-12.1.105-py3-none-manylinux1_x86_64.whl (823 kB)\r\n",
      "Collecting nvidia-cuda-nvrtc-cu12==12.1.105\r\n",
      "  Using cached nvidia_cuda_nvrtc_cu12-12.1.105-py3-none-manylinux1_x86_64.whl (23.7 MB)\r\n",
      "Collecting nvidia-cublas-cu12==12.1.3.1\r\n",
      "  Downloading nvidia_cublas_cu12-12.1.3.1-py3-none-manylinux1_x86_64.whl (410.6 MB)\r\n",
      "\u001B[2K     \u001B[90m━━━━━━━━━━━━━━━━━━━━━━━━━━━━━━━━━━━━━━━\u001B[0m \u001B[32m410.6/410.6 MB\u001B[0m \u001B[31m1.0 MB/s\u001B[0m eta \u001B[36m0:00:00\u001B[0m00:01\u001B[0m00:08\u001B[0m\r\n",
      "\u001B[?25hRequirement already satisfied: jinja2 in /home/alexa/codingTime/dl_lightning_ai_course/venv/lib/python3.10/site-packages (from torch) (3.1.2)\r\n",
      "Collecting nvidia-nvjitlink-cu12\r\n",
      "  Downloading nvidia_nvjitlink_cu12-12.2.140-py3-none-manylinux1_x86_64.whl (20.2 MB)\r\n",
      "\u001B[2K     \u001B[90m━━━━━━━━━━━━━━━━━━━━━━━━━━━━━━━━━━━━━━━━\u001B[0m \u001B[32m20.2/20.2 MB\u001B[0m \u001B[31m1.2 MB/s\u001B[0m eta \u001B[36m0:00:00\u001B[0m00:01\u001B[0m00:01\u001B[0mm\r\n",
      "\u001B[?25hCollecting joblib>=1.1.1\r\n",
      "  Downloading joblib-1.3.2-py3-none-any.whl (302 kB)\r\n",
      "\u001B[2K     \u001B[90m━━━━━━━━━━━━━━━━━━━━━━━━━━━━━━━━━━━━━━━\u001B[0m \u001B[32m302.2/302.2 kB\u001B[0m \u001B[31m1.0 MB/s\u001B[0m eta \u001B[36m0:00:00\u001B[0ma \u001B[36m0:00:01\u001B[0m\r\n",
      "\u001B[?25hCollecting scipy>=1.5.0\r\n",
      "  Downloading scipy-1.11.3-cp310-cp310-manylinux_2_17_x86_64.manylinux2014_x86_64.whl (36.4 MB)\r\n",
      "\u001B[2K     \u001B[90m━━━━━━━━━━━━━━━━━━━━━━━━━━━━━━━━━━━━━━━━\u001B[0m \u001B[32m36.4/36.4 MB\u001B[0m \u001B[31m1.1 MB/s\u001B[0m eta \u001B[36m0:00:00\u001B[0m00:01\u001B[0m00:01\u001B[0m\r\n",
      "\u001B[?25hCollecting threadpoolctl>=2.0.0\r\n",
      "  Downloading threadpoolctl-3.2.0-py3-none-any.whl (15 kB)\r\n",
      "Requirement already satisfied: six>=1.5 in /home/alexa/codingTime/dl_lightning_ai_course/venv/lib/python3.10/site-packages (from python-dateutil>=2.8.2->pandas) (1.16.0)\r\n",
      "Requirement already satisfied: MarkupSafe>=2.0 in /home/alexa/codingTime/dl_lightning_ai_course/venv/lib/python3.10/site-packages (from jinja2->torch) (2.1.3)\r\n",
      "Requirement already satisfied: mpmath>=0.19 in /home/alexa/codingTime/dl_lightning_ai_course/venv/lib/python3.10/site-packages (from sympy->torch) (1.3.0)\r\n",
      "Installing collected packages: triton, threadpoolctl, scipy, nvidia-nvtx-cu12, nvidia-nvjitlink-cu12, nvidia-nccl-cu12, nvidia-curand-cu12, nvidia-cufft-cu12, nvidia-cuda-runtime-cu12, nvidia-cuda-nvrtc-cu12, nvidia-cuda-cupti-cu12, nvidia-cublas-cu12, joblib, scikit-learn, nvidia-cusparse-cu12, nvidia-cudnn-cu12, nvidia-cusolver-cu12, torch\r\n",
      "Successfully installed joblib-1.3.2 nvidia-cublas-cu12-12.1.3.1 nvidia-cuda-cupti-cu12-12.1.105 nvidia-cuda-nvrtc-cu12-12.1.105 nvidia-cuda-runtime-cu12-12.1.105 nvidia-cudnn-cu12-8.9.2.26 nvidia-cufft-cu12-11.0.2.54 nvidia-curand-cu12-10.3.2.106 nvidia-cusolver-cu12-11.4.5.107 nvidia-cusparse-cu12-12.1.0.106 nvidia-nccl-cu12-2.18.1 nvidia-nvjitlink-cu12-12.2.140 nvidia-nvtx-cu12-12.1.105 scikit-learn-1.3.1 scipy-1.11.3 threadpoolctl-3.2.0 torch-2.1.0 triton-2.1.0\r\n",
      "\r\n",
      "\u001B[1m[\u001B[0m\u001B[34;49mnotice\u001B[0m\u001B[1;39;49m]\u001B[0m\u001B[39;49m A new release of pip available: \u001B[0m\u001B[31;49m22.3.1\u001B[0m\u001B[39;49m -> \u001B[0m\u001B[32;49m23.2.1\u001B[0m\r\n",
      "\u001B[1m[\u001B[0m\u001B[34;49mnotice\u001B[0m\u001B[1;39;49m]\u001B[0m\u001B[39;49m To update, run: \u001B[0m\u001B[32;49mpip install --upgrade pip\u001B[0m\r\n",
      "Requirement already satisfied: numpy in /home/alexa/codingTime/dl_lightning_ai_course/venv/lib/python3.10/site-packages (1.26.0)\r\n",
      "Requirement already satisfied: pandas in /home/alexa/codingTime/dl_lightning_ai_course/venv/lib/python3.10/site-packages (2.1.1)\r\n",
      "Requirement already satisfied: matplotlib in /home/alexa/codingTime/dl_lightning_ai_course/venv/lib/python3.10/site-packages (3.8.0)\r\n",
      "Requirement already satisfied: torch in /home/alexa/codingTime/dl_lightning_ai_course/venv/lib/python3.10/site-packages (2.1.0)\r\n",
      "Requirement already satisfied: scikit-learn in /home/alexa/codingTime/dl_lightning_ai_course/venv/lib/python3.10/site-packages (1.3.1)\r\n",
      "Requirement already satisfied: python-dateutil>=2.8.2 in /home/alexa/codingTime/dl_lightning_ai_course/venv/lib/python3.10/site-packages (from pandas) (2.8.2)\r\n",
      "Requirement already satisfied: pytz>=2020.1 in /home/alexa/codingTime/dl_lightning_ai_course/venv/lib/python3.10/site-packages (from pandas) (2023.3.post1)\r\n",
      "Requirement already satisfied: tzdata>=2022.1 in /home/alexa/codingTime/dl_lightning_ai_course/venv/lib/python3.10/site-packages (from pandas) (2023.3)\r\n",
      "Requirement already satisfied: contourpy>=1.0.1 in /home/alexa/codingTime/dl_lightning_ai_course/venv/lib/python3.10/site-packages (from matplotlib) (1.1.1)\r\n",
      "Requirement already satisfied: cycler>=0.10 in /home/alexa/codingTime/dl_lightning_ai_course/venv/lib/python3.10/site-packages (from matplotlib) (0.12.1)\r\n",
      "Requirement already satisfied: packaging>=20.0 in /home/alexa/codingTime/dl_lightning_ai_course/venv/lib/python3.10/site-packages (from matplotlib) (23.2)\r\n",
      "Requirement already satisfied: pillow>=6.2.0 in /home/alexa/codingTime/dl_lightning_ai_course/venv/lib/python3.10/site-packages (from matplotlib) (10.0.1)\r\n",
      "Requirement already satisfied: kiwisolver>=1.0.1 in /home/alexa/codingTime/dl_lightning_ai_course/venv/lib/python3.10/site-packages (from matplotlib) (1.4.5)\r\n",
      "Requirement already satisfied: pyparsing>=2.3.1 in /home/alexa/codingTime/dl_lightning_ai_course/venv/lib/python3.10/site-packages (from matplotlib) (3.1.1)\r\n",
      "Requirement already satisfied: fonttools>=4.22.0 in /home/alexa/codingTime/dl_lightning_ai_course/venv/lib/python3.10/site-packages (from matplotlib) (4.43.1)\r\n",
      "Requirement already satisfied: fsspec in /home/alexa/codingTime/dl_lightning_ai_course/venv/lib/python3.10/site-packages (from torch) (2023.9.2)\r\n",
      "Requirement already satisfied: triton==2.1.0 in /home/alexa/codingTime/dl_lightning_ai_course/venv/lib/python3.10/site-packages (from torch) (2.1.0)\r\n",
      "Requirement already satisfied: networkx in /home/alexa/codingTime/dl_lightning_ai_course/venv/lib/python3.10/site-packages (from torch) (3.1)\r\n",
      "Requirement already satisfied: nvidia-nvtx-cu12==12.1.105 in /home/alexa/codingTime/dl_lightning_ai_course/venv/lib/python3.10/site-packages (from torch) (12.1.105)\r\n",
      "Requirement already satisfied: nvidia-cusolver-cu12==11.4.5.107 in /home/alexa/codingTime/dl_lightning_ai_course/venv/lib/python3.10/site-packages (from torch) (11.4.5.107)\r\n",
      "Requirement already satisfied: nvidia-curand-cu12==10.3.2.106 in /home/alexa/codingTime/dl_lightning_ai_course/venv/lib/python3.10/site-packages (from torch) (10.3.2.106)\r\n",
      "Requirement already satisfied: nvidia-cuda-runtime-cu12==12.1.105 in /home/alexa/codingTime/dl_lightning_ai_course/venv/lib/python3.10/site-packages (from torch) (12.1.105)\r\n",
      "Requirement already satisfied: jinja2 in /home/alexa/codingTime/dl_lightning_ai_course/venv/lib/python3.10/site-packages (from torch) (3.1.2)\r\n",
      "Requirement already satisfied: nvidia-nccl-cu12==2.18.1 in /home/alexa/codingTime/dl_lightning_ai_course/venv/lib/python3.10/site-packages (from torch) (2.18.1)\r\n",
      "Requirement already satisfied: nvidia-cuda-nvrtc-cu12==12.1.105 in /home/alexa/codingTime/dl_lightning_ai_course/venv/lib/python3.10/site-packages (from torch) (12.1.105)\r\n",
      "Requirement already satisfied: nvidia-cufft-cu12==11.0.2.54 in /home/alexa/codingTime/dl_lightning_ai_course/venv/lib/python3.10/site-packages (from torch) (11.0.2.54)\r\n",
      "Requirement already satisfied: nvidia-cusparse-cu12==12.1.0.106 in /home/alexa/codingTime/dl_lightning_ai_course/venv/lib/python3.10/site-packages (from torch) (12.1.0.106)\r\n",
      "Requirement already satisfied: nvidia-cudnn-cu12==8.9.2.26 in /home/alexa/codingTime/dl_lightning_ai_course/venv/lib/python3.10/site-packages (from torch) (8.9.2.26)\r\n",
      "Requirement already satisfied: nvidia-cuda-cupti-cu12==12.1.105 in /home/alexa/codingTime/dl_lightning_ai_course/venv/lib/python3.10/site-packages (from torch) (12.1.105)\r\n",
      "Requirement already satisfied: nvidia-cublas-cu12==12.1.3.1 in /home/alexa/codingTime/dl_lightning_ai_course/venv/lib/python3.10/site-packages (from torch) (12.1.3.1)\r\n",
      "Requirement already satisfied: sympy in /home/alexa/codingTime/dl_lightning_ai_course/venv/lib/python3.10/site-packages (from torch) (1.12)\r\n",
      "Requirement already satisfied: filelock in /home/alexa/codingTime/dl_lightning_ai_course/venv/lib/python3.10/site-packages (from torch) (3.12.4)\r\n",
      "Requirement already satisfied: typing-extensions in /home/alexa/codingTime/dl_lightning_ai_course/venv/lib/python3.10/site-packages (from torch) (4.8.0)\r\n",
      "Requirement already satisfied: nvidia-nvjitlink-cu12 in /home/alexa/codingTime/dl_lightning_ai_course/venv/lib/python3.10/site-packages (from nvidia-cusolver-cu12==11.4.5.107->torch) (12.2.140)\r\n",
      "Requirement already satisfied: joblib>=1.1.1 in /home/alexa/codingTime/dl_lightning_ai_course/venv/lib/python3.10/site-packages (from scikit-learn) (1.3.2)\r\n",
      "Requirement already satisfied: threadpoolctl>=2.0.0 in /home/alexa/codingTime/dl_lightning_ai_course/venv/lib/python3.10/site-packages (from scikit-learn) (3.2.0)\r\n",
      "Requirement already satisfied: scipy>=1.5.0 in /home/alexa/codingTime/dl_lightning_ai_course/venv/lib/python3.10/site-packages (from scikit-learn) (1.11.3)\r\n",
      "Requirement already satisfied: six>=1.5 in /home/alexa/codingTime/dl_lightning_ai_course/venv/lib/python3.10/site-packages (from python-dateutil>=2.8.2->pandas) (1.16.0)\r\n",
      "Requirement already satisfied: MarkupSafe>=2.0 in /home/alexa/codingTime/dl_lightning_ai_course/venv/lib/python3.10/site-packages (from jinja2->torch) (2.1.3)\r\n",
      "Requirement already satisfied: mpmath>=0.19 in /home/alexa/codingTime/dl_lightning_ai_course/venv/lib/python3.10/site-packages (from sympy->torch) (1.3.0)\r\n",
      "\r\n",
      "\u001B[1m[\u001B[0m\u001B[34;49mnotice\u001B[0m\u001B[1;39;49m]\u001B[0m\u001B[39;49m A new release of pip available: \u001B[0m\u001B[31;49m22.3.1\u001B[0m\u001B[39;49m -> \u001B[0m\u001B[32;49m23.2.1\u001B[0m\r\n",
      "\u001B[1m[\u001B[0m\u001B[34;49mnotice\u001B[0m\u001B[1;39;49m]\u001B[0m\u001B[39;49m To update, run: \u001B[0m\u001B[32;49mpip install --upgrade pip\u001B[0m\r\n"
     ]
    }
   ],
   "source": [
    "!pip install numpy pandas matplotlib torch scikit-learn"
   ]
  },
  {
   "cell_type": "code",
   "execution_count": 4,
   "outputs": [],
   "source": [
    "import pandas as pd"
   ],
   "metadata": {
    "collapsed": false,
    "ExecuteTime": {
     "end_time": "2023-10-14T12:35:01.772959144Z",
     "start_time": "2023-10-14T12:34:59.131506285Z"
    }
   }
  },
  {
   "cell_type": "markdown",
   "source": [
    "### Loading dataset"
   ],
   "metadata": {
    "collapsed": false
   }
  },
  {
   "cell_type": "code",
   "execution_count": 5,
   "outputs": [
    {
     "data": {
      "text/plain": "         x1        x2  class label\n0  0.781306  1.062984            0\n1 -1.060524 -1.095550            0\n2  0.632125  0.674028            0\n3 -1.424712  0.535203            1\n4  1.383161  1.368510            0",
      "text/html": "<div>\n<style scoped>\n    .dataframe tbody tr th:only-of-type {\n        vertical-align: middle;\n    }\n\n    .dataframe tbody tr th {\n        vertical-align: top;\n    }\n\n    .dataframe thead th {\n        text-align: right;\n    }\n</style>\n<table border=\"1\" class=\"dataframe\">\n  <thead>\n    <tr style=\"text-align: right;\">\n      <th></th>\n      <th>x1</th>\n      <th>x2</th>\n      <th>class label</th>\n    </tr>\n  </thead>\n  <tbody>\n    <tr>\n      <th>0</th>\n      <td>0.781306</td>\n      <td>1.062984</td>\n      <td>0</td>\n    </tr>\n    <tr>\n      <th>1</th>\n      <td>-1.060524</td>\n      <td>-1.095550</td>\n      <td>0</td>\n    </tr>\n    <tr>\n      <th>2</th>\n      <td>0.632125</td>\n      <td>0.674028</td>\n      <td>0</td>\n    </tr>\n    <tr>\n      <th>3</th>\n      <td>-1.424712</td>\n      <td>0.535203</td>\n      <td>1</td>\n    </tr>\n    <tr>\n      <th>4</th>\n      <td>1.383161</td>\n      <td>1.368510</td>\n      <td>0</td>\n    </tr>\n  </tbody>\n</table>\n</div>"
     },
     "execution_count": 5,
     "metadata": {},
     "output_type": "execute_result"
    }
   ],
   "source": [
    "df = pd.read_csv(\"xor.csv\")\n",
    "df.head()"
   ],
   "metadata": {
    "collapsed": false,
    "ExecuteTime": {
     "end_time": "2023-10-14T12:35:01.827215476Z",
     "start_time": "2023-10-14T12:35:01.773765193Z"
    }
   }
  },
  {
   "cell_type": "code",
   "execution_count": 6,
   "outputs": [],
   "source": [
    "X = df[[\"x1\", \"x2\"]].values\n",
    "y = df[\"class label\"].values"
   ],
   "metadata": {
    "collapsed": false,
    "ExecuteTime": {
     "end_time": "2023-10-14T12:35:01.829654535Z",
     "start_time": "2023-10-14T12:35:01.826340202Z"
    }
   }
  },
  {
   "cell_type": "code",
   "execution_count": 7,
   "outputs": [],
   "source": [
    "from sklearn.model_selection import train_test_split\n",
    "\n",
    "X_train, X_test, y_train, y_test = train_test_split(X, y, test_size=0.15, random_state=42, shuffle=True, stratify=y)\n"
   ],
   "metadata": {
    "collapsed": false,
    "ExecuteTime": {
     "end_time": "2023-10-14T12:35:02.341760377Z",
     "start_time": "2023-10-14T12:35:01.829879995Z"
    }
   }
  },
  {
   "cell_type": "code",
   "execution_count": 8,
   "outputs": [],
   "source": [
    "X_train, X_val, y_train, y_val = train_test_split(X_train, y_train, test_size=0.1, random_state=42, shuffle=True, stratify=y_train)"
   ],
   "metadata": {
    "collapsed": false,
    "ExecuteTime": {
     "end_time": "2023-10-14T12:35:02.350317215Z",
     "start_time": "2023-10-14T12:35:02.342413926Z"
    }
   }
  },
  {
   "cell_type": "code",
   "execution_count": 9,
   "outputs": [
    {
     "name": "stdout",
     "output_type": "stream",
     "text": [
      "Train size (573, 2)\n",
      "Validation size (64, 2)\n",
      "Test size (113, 2)\n"
     ]
    }
   ],
   "source": [
    "print(f\"Train size {X_train.shape}\")\n",
    "print(f\"Validation size {X_val.shape}\")\n",
    "print(f\"Test size {X_test.shape}\")"
   ],
   "metadata": {
    "collapsed": false,
    "ExecuteTime": {
     "end_time": "2023-10-14T12:35:02.393041667Z",
     "start_time": "2023-10-14T12:35:02.389805605Z"
    }
   }
  },
  {
   "cell_type": "code",
   "execution_count": 10,
   "outputs": [
    {
     "data": {
      "text/plain": "<Figure size 640x480 with 1 Axes>",
      "image/png": "[encoded data removed]"
     },
     "metadata": {},
     "output_type": "display_data"
    }
   ],
   "source": [
    "import matplotlib.pyplot as plt\n",
    "\n",
    "\n",
    "plt.plot(\n",
    "    X_train[y_train == 0, 0],\n",
    "    X_train[y_train == 0, 1],\n",
    "    marker=\"D\",\n",
    "    markersize=10,\n",
    "    linestyle=\"\",\n",
    "    label=\"Class 0\",\n",
    ")\n",
    "\n",
    "plt.plot(\n",
    "    X_train[y_train == 1, 0],\n",
    "    X_train[y_train == 1, 1],\n",
    "    marker=\"^\",\n",
    "    markersize=13,\n",
    "    linestyle=\"\",\n",
    "    label=\"Class 1\",\n",
    ")\n",
    "\n",
    "plt.legend(loc=2)\n",
    "\n",
    "plt.xlim([-5, 5])\n",
    "plt.ylim([-5, 5])\n",
    "\n",
    "plt.xlabel(\"Feature $x_1$\", fontsize=12)\n",
    "plt.ylabel(\"Feature $x_2$\", fontsize=12)\n",
    "\n",
    "plt.grid()\n",
    "plt.show()"
   ],
   "metadata": {
    "collapsed": false,
    "ExecuteTime": {
     "end_time": "2023-10-14T12:35:03.357563483Z",
     "start_time": "2023-10-14T12:35:02.390097879Z"
    }
   }
  },
  {
   "cell_type": "markdown",
   "source": [
    "### Implement Model"
   ],
   "metadata": {
    "collapsed": false
   }
  },
  {
   "cell_type": "code",
   "execution_count": 11,
   "outputs": [],
   "source": [
    "import torch\n",
    "\n",
    "class PyTorchMLP(torch.nn.Module):\n",
    "\n",
    "    def __init__(self, num_features, num_classes):\n",
    "        super().__init__()\n",
    "\n",
    "        self.all_layers = torch.nn.Sequential(\n",
    "\n",
    "            # first hidden layer\n",
    "            torch.nn.Linear(num_features, 25),\n",
    "            torch.nn.ReLU(),\n",
    "\n",
    "            # second hidden layer\n",
    "            torch.nn.Linear(25, 15),\n",
    "            torch.nn.ReLU(),\n",
    "\n",
    "            # output layer\n",
    "            torch.nn.Linear(15, num_classes),\n",
    "        )\n",
    "\n",
    "\n",
    "    def forward(self, x):\n",
    "        logits = self.all_layers(x)\n",
    "        return logits"
   ],
   "metadata": {
    "collapsed": false,
    "ExecuteTime": {
     "end_time": "2023-10-14T12:35:05.159307615Z",
     "start_time": "2023-10-14T12:35:03.367304749Z"
    }
   }
  },
  {
   "cell_type": "markdown",
   "source": [
    "### Define DataLoader"
   ],
   "metadata": {
    "collapsed": false
   }
  },
  {
   "cell_type": "code",
   "execution_count": 12,
   "outputs": [],
   "source": [
    "from torch.utils.data import Dataset, DataLoader\n",
    "\n",
    "\n",
    "class MyDataset(Dataset):\n",
    "    def __init__(self, X, y):\n",
    "\n",
    "        self.features = torch.tensor(X, dtype=torch.float32)\n",
    "        self.labels = torch.tensor(y, dtype=torch.int64)\n",
    "\n",
    "    def __getitem__(self, index):\n",
    "        x = self.features[index]\n",
    "        y = self.labels[index]\n",
    "        return x, y\n",
    "\n",
    "    def __len__(self):\n",
    "        return self.labels.shape[0]\n",
    "\n",
    "\n",
    "train_ds = MyDataset(X_train, y_train)\n",
    "val_ds = MyDataset(X_val, y_val)\n",
    "test_ds = MyDataset(X_test, y_test)\n",
    "\n",
    "train_loader = DataLoader(\n",
    "    dataset=train_ds,\n",
    "    batch_size=32,\n",
    "    shuffle=True,\n",
    ")\n",
    "\n",
    "val_loader = DataLoader(\n",
    "    dataset=val_ds,\n",
    "    batch_size=32,\n",
    "    shuffle=False,\n",
    ")\n",
    "\n",
    "test_loader = DataLoader(\n",
    "    dataset=test_ds,\n",
    "    batch_size=32,\n",
    "    shuffle=False,\n",
    ")"
   ],
   "metadata": {
    "collapsed": false,
    "ExecuteTime": {
     "end_time": "2023-10-14T12:35:05.175344759Z",
     "start_time": "2023-10-14T12:35:05.165299708Z"
    }
   }
  },
  {
   "cell_type": "markdown",
   "source": [
    "### Training loop"
   ],
   "metadata": {
    "collapsed": false
   }
  },
  {
   "cell_type": "code",
   "execution_count": 13,
   "outputs": [],
   "source": [
    "def compute_accuracy(model, dataloader):\n",
    "\n",
    "    model = model.eval()\n",
    "\n",
    "    correct = 0.0\n",
    "    total_examples = 0\n",
    "\n",
    "    for idx, (features, labels) in enumerate(dataloader):\n",
    "\n",
    "        with torch.inference_mode():\n",
    "            logits = model(features)\n",
    "\n",
    "        predictions = torch.argmax(logits, dim=1)\n",
    "\n",
    "\n",
    "        compare = labels == predictions\n",
    "        correct += torch.sum(compare)\n",
    "        total_examples += len(compare)\n",
    "\n",
    "    return correct / total_examples"
   ],
   "metadata": {
    "collapsed": false,
    "ExecuteTime": {
     "end_time": "2023-10-14T12:35:05.179721804Z",
     "start_time": "2023-10-14T12:35:05.173947644Z"
    }
   }
  },
  {
   "cell_type": "code",
   "execution_count": 14,
   "outputs": [
    {
     "name": "stderr",
     "output_type": "stream",
     "text": [
      "/home/alexa/codingTime/dl_lightning_ai_course/venv/lib/python3.10/site-packages/torch/autograd/__init__.py:251: UserWarning: CUDA initialization: The NVIDIA driver on your system is too old (found version 11060). Please update your GPU driver by downloading and installing a new version from the URL: http://www.nvidia.com/Download/index.aspx Alternatively, go to: https://pytorch.org to install a PyTorch version that has been compiled with your version of the CUDA driver. (Triggered internally at ../c10/cuda/CUDAFunctions.cpp:108.)\n",
      "  Variable._execution_engine.run_backward(  # Calls into the C++ engine to run the backward pass\n"
     ]
    },
    {
     "name": "stdout",
     "output_type": "stream",
     "text": [
      "Epoch: 001 / 010 | Batch 000 / 018 | Train/Val loss: 0.687770\n",
      "Epoch: 001 / 010 | Batch 001 / 018 | Train/Val loss: 0.673314\n",
      "Epoch: 001 / 010 | Batch 002 / 018 | Train/Val loss: 0.690216\n",
      "Epoch: 001 / 010 | Batch 003 / 018 | Train/Val loss: 0.674187\n",
      "Epoch: 001 / 010 | Batch 004 / 018 | Train/Val loss: 0.658506\n",
      "Epoch: 001 / 010 | Batch 005 / 018 | Train/Val loss: 0.674150\n",
      "Epoch: 001 / 010 | Batch 006 / 018 | Train/Val loss: 0.652452\n",
      "Epoch: 001 / 010 | Batch 007 / 018 | Train/Val loss: 0.682071\n",
      "Epoch: 001 / 010 | Batch 008 / 018 | Train/Val loss: 0.670620\n",
      "Epoch: 001 / 010 | Batch 009 / 018 | Train/Val loss: 0.674305\n",
      "Epoch: 001 / 010 | Batch 010 / 018 | Train/Val loss: 0.668361\n",
      "Epoch: 001 / 010 | Batch 011 / 018 | Train/Val loss: 0.666243\n",
      "Epoch: 001 / 010 | Batch 012 / 018 | Train/Val loss: 0.667774\n",
      "Epoch: 001 / 010 | Batch 013 / 018 | Train/Val loss: 0.660209\n",
      "Epoch: 001 / 010 | Batch 014 / 018 | Train/Val loss: 0.655131\n",
      "Epoch: 001 / 010 | Batch 015 / 018 | Train/Val loss: 0.670250\n",
      "Epoch: 001 / 010 | Batch 016 / 018 | Train/Val loss: 0.668859\n",
      "Epoch: 001 / 010 | Batch 017 / 018 | Train/Val loss: 0.661687\n",
      "Train accuracy: 0.7225130796432495 | Val accuracy: 0.65625\n",
      "Epoch: 002 / 010 | Batch 000 / 018 | Train/Val loss: 0.647981\n",
      "Epoch: 002 / 010 | Batch 001 / 018 | Train/Val loss: 0.662855\n",
      "Epoch: 002 / 010 | Batch 002 / 018 | Train/Val loss: 0.638548\n",
      "Epoch: 002 / 010 | Batch 003 / 018 | Train/Val loss: 0.656284\n",
      "Epoch: 002 / 010 | Batch 004 / 018 | Train/Val loss: 0.662187\n",
      "Epoch: 002 / 010 | Batch 005 / 018 | Train/Val loss: 0.649334\n",
      "Epoch: 002 / 010 | Batch 006 / 018 | Train/Val loss: 0.640519\n",
      "Epoch: 002 / 010 | Batch 007 / 018 | Train/Val loss: 0.642840\n",
      "Epoch: 002 / 010 | Batch 008 / 018 | Train/Val loss: 0.650089\n",
      "Epoch: 002 / 010 | Batch 009 / 018 | Train/Val loss: 0.651269\n",
      "Epoch: 002 / 010 | Batch 010 / 018 | Train/Val loss: 0.635857\n",
      "Epoch: 002 / 010 | Batch 011 / 018 | Train/Val loss: 0.624334\n",
      "Epoch: 002 / 010 | Batch 012 / 018 | Train/Val loss: 0.648386\n",
      "Epoch: 002 / 010 | Batch 013 / 018 | Train/Val loss: 0.660128\n",
      "Epoch: 002 / 010 | Batch 014 / 018 | Train/Val loss: 0.652671\n",
      "Epoch: 002 / 010 | Batch 015 / 018 | Train/Val loss: 0.636729\n",
      "Epoch: 002 / 010 | Batch 016 / 018 | Train/Val loss: 0.643354\n",
      "Epoch: 002 / 010 | Batch 017 / 018 | Train/Val loss: 0.638711\n",
      "Train accuracy: 0.8935427665710449 | Val accuracy: 0.859375\n",
      "Epoch: 003 / 010 | Batch 000 / 018 | Train/Val loss: 0.650253\n",
      "Epoch: 003 / 010 | Batch 001 / 018 | Train/Val loss: 0.630321\n",
      "Epoch: 003 / 010 | Batch 002 / 018 | Train/Val loss: 0.632874\n",
      "Epoch: 003 / 010 | Batch 003 / 018 | Train/Val loss: 0.627764\n",
      "Epoch: 003 / 010 | Batch 004 / 018 | Train/Val loss: 0.623807\n",
      "Epoch: 003 / 010 | Batch 005 / 018 | Train/Val loss: 0.625752\n",
      "Epoch: 003 / 010 | Batch 006 / 018 | Train/Val loss: 0.619116\n",
      "Epoch: 003 / 010 | Batch 007 / 018 | Train/Val loss: 0.618372\n",
      "Epoch: 003 / 010 | Batch 008 / 018 | Train/Val loss: 0.611606\n",
      "Epoch: 003 / 010 | Batch 009 / 018 | Train/Val loss: 0.618743\n",
      "Epoch: 003 / 010 | Batch 010 / 018 | Train/Val loss: 0.611878\n",
      "Epoch: 003 / 010 | Batch 011 / 018 | Train/Val loss: 0.616755\n",
      "Epoch: 003 / 010 | Batch 012 / 018 | Train/Val loss: 0.615765\n",
      "Epoch: 003 / 010 | Batch 013 / 018 | Train/Val loss: 0.600959\n",
      "Epoch: 003 / 010 | Batch 014 / 018 | Train/Val loss: 0.587413\n",
      "Epoch: 003 / 010 | Batch 015 / 018 | Train/Val loss: 0.601205\n",
      "Epoch: 003 / 010 | Batch 016 / 018 | Train/Val loss: 0.601360\n",
      "Epoch: 003 / 010 | Batch 017 / 018 | Train/Val loss: 0.582367\n",
      "Train accuracy: 0.897033154964447 | Val accuracy: 0.875\n",
      "Epoch: 004 / 010 | Batch 000 / 018 | Train/Val loss: 0.615639\n",
      "Epoch: 004 / 010 | Batch 001 / 018 | Train/Val loss: 0.599418\n",
      "Epoch: 004 / 010 | Batch 002 / 018 | Train/Val loss: 0.567089\n",
      "Epoch: 004 / 010 | Batch 003 / 018 | Train/Val loss: 0.587052\n",
      "Epoch: 004 / 010 | Batch 004 / 018 | Train/Val loss: 0.601783\n",
      "Epoch: 004 / 010 | Batch 005 / 018 | Train/Val loss: 0.564457\n",
      "Epoch: 004 / 010 | Batch 006 / 018 | Train/Val loss: 0.577422\n",
      "Epoch: 004 / 010 | Batch 007 / 018 | Train/Val loss: 0.580011\n",
      "Epoch: 004 / 010 | Batch 008 / 018 | Train/Val loss: 0.540458\n",
      "Epoch: 004 / 010 | Batch 009 / 018 | Train/Val loss: 0.559290\n",
      "Epoch: 004 / 010 | Batch 010 / 018 | Train/Val loss: 0.574049\n",
      "Epoch: 004 / 010 | Batch 011 / 018 | Train/Val loss: 0.567390\n",
      "Epoch: 004 / 010 | Batch 012 / 018 | Train/Val loss: 0.554118\n",
      "Epoch: 004 / 010 | Batch 013 / 018 | Train/Val loss: 0.580332\n",
      "Epoch: 004 / 010 | Batch 014 / 018 | Train/Val loss: 0.562876\n",
      "Epoch: 004 / 010 | Batch 015 / 018 | Train/Val loss: 0.562635\n",
      "Epoch: 004 / 010 | Batch 016 / 018 | Train/Val loss: 0.567016\n",
      "Epoch: 004 / 010 | Batch 017 / 018 | Train/Val loss: 0.538418\n",
      "Train accuracy: 0.9249563813209534 | Val accuracy: 0.9375\n",
      "Epoch: 005 / 010 | Batch 000 / 018 | Train/Val loss: 0.550300\n",
      "Epoch: 005 / 010 | Batch 001 / 018 | Train/Val loss: 0.535655\n",
      "Epoch: 005 / 010 | Batch 002 / 018 | Train/Val loss: 0.529105\n",
      "Epoch: 005 / 010 | Batch 003 / 018 | Train/Val loss: 0.518194\n",
      "Epoch: 005 / 010 | Batch 004 / 018 | Train/Val loss: 0.514992\n",
      "Epoch: 005 / 010 | Batch 005 / 018 | Train/Val loss: 0.542798\n",
      "Epoch: 005 / 010 | Batch 006 / 018 | Train/Val loss: 0.554813\n",
      "Epoch: 005 / 010 | Batch 007 / 018 | Train/Val loss: 0.538735\n",
      "Epoch: 005 / 010 | Batch 008 / 018 | Train/Val loss: 0.552906\n",
      "Epoch: 005 / 010 | Batch 009 / 018 | Train/Val loss: 0.508472\n",
      "Epoch: 005 / 010 | Batch 010 / 018 | Train/Val loss: 0.492858\n",
      "Epoch: 005 / 010 | Batch 011 / 018 | Train/Val loss: 0.517906\n",
      "Epoch: 005 / 010 | Batch 012 / 018 | Train/Val loss: 0.500946\n",
      "Epoch: 005 / 010 | Batch 013 / 018 | Train/Val loss: 0.480153\n",
      "Epoch: 005 / 010 | Batch 014 / 018 | Train/Val loss: 0.498837\n",
      "Epoch: 005 / 010 | Batch 015 / 018 | Train/Val loss: 0.502371\n",
      "Epoch: 005 / 010 | Batch 016 / 018 | Train/Val loss: 0.461548\n",
      "Epoch: 005 / 010 | Batch 017 / 018 | Train/Val loss: 0.489287\n",
      "Train accuracy: 0.9249563813209534 | Val accuracy: 0.9375\n",
      "Epoch: 006 / 010 | Batch 000 / 018 | Train/Val loss: 0.442491\n",
      "Epoch: 006 / 010 | Batch 001 / 018 | Train/Val loss: 0.471872\n",
      "Epoch: 006 / 010 | Batch 002 / 018 | Train/Val loss: 0.509074\n",
      "Epoch: 006 / 010 | Batch 003 / 018 | Train/Val loss: 0.457922\n",
      "Epoch: 006 / 010 | Batch 004 / 018 | Train/Val loss: 0.486551\n",
      "Epoch: 006 / 010 | Batch 005 / 018 | Train/Val loss: 0.492146\n",
      "Epoch: 006 / 010 | Batch 006 / 018 | Train/Val loss: 0.467551\n",
      "Epoch: 006 / 010 | Batch 007 / 018 | Train/Val loss: 0.455808\n",
      "Epoch: 006 / 010 | Batch 008 / 018 | Train/Val loss: 0.454101\n",
      "Epoch: 006 / 010 | Batch 009 / 018 | Train/Val loss: 0.434925\n",
      "Epoch: 006 / 010 | Batch 010 / 018 | Train/Val loss: 0.442823\n",
      "Epoch: 006 / 010 | Batch 011 / 018 | Train/Val loss: 0.470518\n",
      "Epoch: 006 / 010 | Batch 012 / 018 | Train/Val loss: 0.447044\n",
      "Epoch: 006 / 010 | Batch 013 / 018 | Train/Val loss: 0.443476\n",
      "Epoch: 006 / 010 | Batch 014 / 018 | Train/Val loss: 0.377822\n",
      "Epoch: 006 / 010 | Batch 015 / 018 | Train/Val loss: 0.431847\n",
      "Epoch: 006 / 010 | Batch 016 / 018 | Train/Val loss: 0.423039\n",
      "Epoch: 006 / 010 | Batch 017 / 018 | Train/Val loss: 0.467488\n",
      "Train accuracy: 0.9476439952850342 | Val accuracy: 0.96875\n",
      "Epoch: 007 / 010 | Batch 000 / 018 | Train/Val loss: 0.421341\n",
      "Epoch: 007 / 010 | Batch 001 / 018 | Train/Val loss: 0.422948\n",
      "Epoch: 007 / 010 | Batch 002 / 018 | Train/Val loss: 0.441207\n",
      "Epoch: 007 / 010 | Batch 003 / 018 | Train/Val loss: 0.406194\n",
      "Epoch: 007 / 010 | Batch 004 / 018 | Train/Val loss: 0.380500\n",
      "Epoch: 007 / 010 | Batch 005 / 018 | Train/Val loss: 0.369338\n",
      "Epoch: 007 / 010 | Batch 006 / 018 | Train/Val loss: 0.362873\n",
      "Epoch: 007 / 010 | Batch 007 / 018 | Train/Val loss: 0.408358\n",
      "Epoch: 007 / 010 | Batch 008 / 018 | Train/Val loss: 0.395088\n",
      "Epoch: 007 / 010 | Batch 009 / 018 | Train/Val loss: 0.384327\n",
      "Epoch: 007 / 010 | Batch 010 / 018 | Train/Val loss: 0.417748\n",
      "Epoch: 007 / 010 | Batch 011 / 018 | Train/Val loss: 0.347408\n",
      "Epoch: 007 / 010 | Batch 012 / 018 | Train/Val loss: 0.410697\n",
      "Epoch: 007 / 010 | Batch 013 / 018 | Train/Val loss: 0.330615\n",
      "Epoch: 007 / 010 | Batch 014 / 018 | Train/Val loss: 0.405914\n",
      "Epoch: 007 / 010 | Batch 015 / 018 | Train/Val loss: 0.331094\n",
      "Epoch: 007 / 010 | Batch 016 / 018 | Train/Val loss: 0.374281\n",
      "Epoch: 007 / 010 | Batch 017 / 018 | Train/Val loss: 0.379570\n",
      "Train accuracy: 0.9668411612510681 | Val accuracy: 0.96875\n",
      "Epoch: 008 / 010 | Batch 000 / 018 | Train/Val loss: 0.371958\n",
      "Epoch: 008 / 010 | Batch 001 / 018 | Train/Val loss: 0.310968\n",
      "Epoch: 008 / 010 | Batch 002 / 018 | Train/Val loss: 0.345649\n",
      "Epoch: 008 / 010 | Batch 003 / 018 | Train/Val loss: 0.341324\n",
      "Epoch: 008 / 010 | Batch 004 / 018 | Train/Val loss: 0.372228\n",
      "Epoch: 008 / 010 | Batch 005 / 018 | Train/Val loss: 0.332387\n",
      "Epoch: 008 / 010 | Batch 006 / 018 | Train/Val loss: 0.364565\n",
      "Epoch: 008 / 010 | Batch 007 / 018 | Train/Val loss: 0.321745\n",
      "Epoch: 008 / 010 | Batch 008 / 018 | Train/Val loss: 0.317720\n",
      "Epoch: 008 / 010 | Batch 009 / 018 | Train/Val loss: 0.335479\n",
      "Epoch: 008 / 010 | Batch 010 / 018 | Train/Val loss: 0.301349\n",
      "Epoch: 008 / 010 | Batch 011 / 018 | Train/Val loss: 0.298301\n",
      "Epoch: 008 / 010 | Batch 012 / 018 | Train/Val loss: 0.337508\n",
      "Epoch: 008 / 010 | Batch 013 / 018 | Train/Val loss: 0.309372\n",
      "Epoch: 008 / 010 | Batch 014 / 018 | Train/Val loss: 0.314339\n",
      "Epoch: 008 / 010 | Batch 015 / 018 | Train/Val loss: 0.313274\n",
      "Epoch: 008 / 010 | Batch 016 / 018 | Train/Val loss: 0.289638\n",
      "Epoch: 008 / 010 | Batch 017 / 018 | Train/Val loss: 0.294707\n",
      "Train accuracy: 0.9825479984283447 | Val accuracy: 0.96875\n",
      "Epoch: 009 / 010 | Batch 000 / 018 | Train/Val loss: 0.336534\n",
      "Epoch: 009 / 010 | Batch 001 / 018 | Train/Val loss: 0.224737\n",
      "Epoch: 009 / 010 | Batch 002 / 018 | Train/Val loss: 0.270494\n",
      "Epoch: 009 / 010 | Batch 003 / 018 | Train/Val loss: 0.310327\n",
      "Epoch: 009 / 010 | Batch 004 / 018 | Train/Val loss: 0.297636\n",
      "Epoch: 009 / 010 | Batch 005 / 018 | Train/Val loss: 0.320290\n",
      "Epoch: 009 / 010 | Batch 006 / 018 | Train/Val loss: 0.279773\n",
      "Epoch: 009 / 010 | Batch 007 / 018 | Train/Val loss: 0.254868\n",
      "Epoch: 009 / 010 | Batch 008 / 018 | Train/Val loss: 0.260669\n",
      "Epoch: 009 / 010 | Batch 009 / 018 | Train/Val loss: 0.231636\n",
      "Epoch: 009 / 010 | Batch 010 / 018 | Train/Val loss: 0.303729\n",
      "Epoch: 009 / 010 | Batch 011 / 018 | Train/Val loss: 0.263212\n",
      "Epoch: 009 / 010 | Batch 012 / 018 | Train/Val loss: 0.316759\n",
      "Epoch: 009 / 010 | Batch 013 / 018 | Train/Val loss: 0.259675\n",
      "Epoch: 009 / 010 | Batch 014 / 018 | Train/Val loss: 0.266349\n",
      "Epoch: 009 / 010 | Batch 015 / 018 | Train/Val loss: 0.275782\n",
      "Epoch: 009 / 010 | Batch 016 / 018 | Train/Val loss: 0.211525\n",
      "Epoch: 009 / 010 | Batch 017 / 018 | Train/Val loss: 0.215122\n",
      "Train accuracy: 0.9877836108207703 | Val accuracy: 0.984375\n",
      "Epoch: 010 / 010 | Batch 000 / 018 | Train/Val loss: 0.242777\n",
      "Epoch: 010 / 010 | Batch 001 / 018 | Train/Val loss: 0.286252\n",
      "Epoch: 010 / 010 | Batch 002 / 018 | Train/Val loss: 0.250516\n",
      "Epoch: 010 / 010 | Batch 003 / 018 | Train/Val loss: 0.209173\n",
      "Epoch: 010 / 010 | Batch 004 / 018 | Train/Val loss: 0.204213\n",
      "Epoch: 010 / 010 | Batch 005 / 018 | Train/Val loss: 0.233581\n",
      "Epoch: 010 / 010 | Batch 006 / 018 | Train/Val loss: 0.243144\n",
      "Epoch: 010 / 010 | Batch 007 / 018 | Train/Val loss: 0.159486\n",
      "Epoch: 010 / 010 | Batch 008 / 018 | Train/Val loss: 0.231165\n",
      "Epoch: 010 / 010 | Batch 009 / 018 | Train/Val loss: 0.248322\n",
      "Epoch: 010 / 010 | Batch 010 / 018 | Train/Val loss: 0.175058\n",
      "Epoch: 010 / 010 | Batch 011 / 018 | Train/Val loss: 0.179188\n",
      "Epoch: 010 / 010 | Batch 012 / 018 | Train/Val loss: 0.274783\n",
      "Epoch: 010 / 010 | Batch 013 / 018 | Train/Val loss: 0.179757\n",
      "Epoch: 010 / 010 | Batch 014 / 018 | Train/Val loss: 0.212006\n",
      "Epoch: 010 / 010 | Batch 015 / 018 | Train/Val loss: 0.252063\n",
      "Epoch: 010 / 010 | Batch 016 / 018 | Train/Val loss: 0.252701\n",
      "Epoch: 010 / 010 | Batch 017 / 018 | Train/Val loss: 0.209264\n",
      "Train accuracy: 0.9877836108207703 | Val accuracy: 0.984375\n"
     ]
    }
   ],
   "source": [
    "import torch.nn.functional as F\n",
    "\n",
    "torch.manual_seed(1)\n",
    "\n",
    "model = PyTorchMLP(num_features=2, num_classes=2)\n",
    "optimizer = torch.optim.SGD(model.parameters(), lr=0.05)\n",
    "num_epochs = 10\n",
    "\n",
    "for epoch in range(num_epochs):\n",
    "    model = model.train()\n",
    "\n",
    "    for batch_idx, (features, labels) in enumerate(train_loader):\n",
    "\n",
    "        logits = model(features)\n",
    "        loss = F.cross_entropy(logits, labels)\n",
    "\n",
    "        optimizer.zero_grad()\n",
    "        loss.backward()\n",
    "        optimizer.step()\n",
    "\n",
    "        print(f\"Epoch: {epoch + 1:03d} / {num_epochs:03d}\"\n",
    "              f\" | Batch {batch_idx:03d} / {len(train_loader):03d}\"\n",
    "              f\" | Train/Val loss: {loss:2f}\")\n",
    "\n",
    "    train_acc = compute_accuracy(model, train_loader)\n",
    "    val_acc = compute_accuracy(model, val_loader)\n",
    "    print(f\"Train accuracy: {train_acc} | Val accuracy: {val_acc}\")"
   ],
   "metadata": {
    "collapsed": false,
    "ExecuteTime": {
     "end_time": "2023-10-14T12:35:06.072184516Z",
     "start_time": "2023-10-14T12:35:05.180811875Z"
    }
   }
  },
  {
   "cell_type": "markdown",
   "source": [
    "### Model evaluation"
   ],
   "metadata": {
    "collapsed": false
   }
  },
  {
   "cell_type": "code",
   "execution_count": 15,
   "outputs": [
    {
     "name": "stdout",
     "output_type": "stream",
     "text": [
      "Requirement already satisfied: matplotlib in /home/alexa/codingTime/dl_lightning_ai_course/venv/lib/python3.10/site-packages (3.8.0)\r\n",
      "Requirement already satisfied: cycler>=0.10 in /home/alexa/codingTime/dl_lightning_ai_course/venv/lib/python3.10/site-packages (from matplotlib) (0.12.1)\r\n",
      "Requirement already satisfied: packaging>=20.0 in /home/alexa/codingTime/dl_lightning_ai_course/venv/lib/python3.10/site-packages (from matplotlib) (23.2)\r\n",
      "Requirement already satisfied: contourpy>=1.0.1 in /home/alexa/codingTime/dl_lightning_ai_course/venv/lib/python3.10/site-packages (from matplotlib) (1.1.1)\r\n",
      "Requirement already satisfied: pillow>=6.2.0 in /home/alexa/codingTime/dl_lightning_ai_course/venv/lib/python3.10/site-packages (from matplotlib) (10.0.1)\r\n",
      "Requirement already satisfied: numpy<2,>=1.21 in /home/alexa/codingTime/dl_lightning_ai_course/venv/lib/python3.10/site-packages (from matplotlib) (1.26.0)\r\n",
      "Requirement already satisfied: kiwisolver>=1.0.1 in /home/alexa/codingTime/dl_lightning_ai_course/venv/lib/python3.10/site-packages (from matplotlib) (1.4.5)\r\n",
      "Requirement already satisfied: python-dateutil>=2.7 in /home/alexa/codingTime/dl_lightning_ai_course/venv/lib/python3.10/site-packages (from matplotlib) (2.8.2)\r\n",
      "Requirement already satisfied: fonttools>=4.22.0 in /home/alexa/codingTime/dl_lightning_ai_course/venv/lib/python3.10/site-packages (from matplotlib) (4.43.1)\r\n",
      "Requirement already satisfied: pyparsing>=2.3.1 in /home/alexa/codingTime/dl_lightning_ai_course/venv/lib/python3.10/site-packages (from matplotlib) (3.1.1)\r\n",
      "Requirement already satisfied: six>=1.5 in /home/alexa/codingTime/dl_lightning_ai_course/venv/lib/python3.10/site-packages (from python-dateutil>=2.7->matplotlib) (1.16.0)\r\n",
      "\r\n",
      "\u001B[1m[\u001B[0m\u001B[34;49mnotice\u001B[0m\u001B[1;39;49m]\u001B[0m\u001B[39;49m A new release of pip available: \u001B[0m\u001B[31;49m22.3.1\u001B[0m\u001B[39;49m -> \u001B[0m\u001B[32;49m23.2.1\u001B[0m\r\n",
      "\u001B[1m[\u001B[0m\u001B[34;49mnotice\u001B[0m\u001B[1;39;49m]\u001B[0m\u001B[39;49m To update, run: \u001B[0m\u001B[32;49mpip install --upgrade pip\u001B[0m\r\n"
     ]
    }
   ],
   "source": [
    "!pip install --upgrade matplotlib"
   ],
   "metadata": {
    "collapsed": false,
    "ExecuteTime": {
     "end_time": "2023-10-14T12:35:09.208783045Z",
     "start_time": "2023-10-14T12:35:06.064768299Z"
    }
   }
  },
  {
   "cell_type": "code",
   "execution_count": 16,
   "outputs": [],
   "source": [
    "import matplotlib.pyplot as plt\n",
    "from matplotlib.colors import ListedColormap\n",
    "import numpy as np\n",
    "\n",
    "\n",
    "def plot_decision_regions(X, y, classifier, resolution=0.02):\n",
    "\n",
    "    # setup marker generator and color map\n",
    "    markers = ('D', '^', 'x', 's', 'v')\n",
    "    colors = ('C0', 'C1', 'C2', 'C3', 'C4')\n",
    "    cmap = ListedColormap(colors[:len(np.unique(y))])\n",
    "\n",
    "    plt.figure()\n",
    "\n",
    "    # plot the decision surface\n",
    "    x1_min, x1_max = X[:, 0].min() - 1, X[:, 0].max() + 1\n",
    "    x2_min, x2_max = X[:, 1].min() - 1, X[:, 1].max() + 1\n",
    "    xx1, xx2 = np.meshgrid(np.arange(x1_min, x1_max, resolution),\n",
    "                           np.arange(x2_min, x2_max, resolution))\n",
    "    tensor = torch.tensor(np.array([xx1.ravel(), xx2.ravel()]).T).float()\n",
    "    logits = classifier.forward(tensor)\n",
    "    Z = np.argmax(logits.detach().numpy(), axis=1)\n",
    "\n",
    "    Z = Z.reshape(xx1.shape)\n",
    "    plt.contourf(xx1, xx2, Z, alpha=0.4, cmap=cmap)\n",
    "    plt.xlim(xx1.min(), xx1.max())\n",
    "    plt.ylim(xx2.min(), xx2.max())\n",
    "\n",
    "    # plot class samples\n",
    "    for idx, cl in enumerate(np.unique(y)):\n",
    "        plt.scatter(x=X[y == cl, 0], y=X[y == cl, 1],\n",
    "                    alpha=0.8, color=cmap(idx),\n",
    "                    #edgecolor='black',\n",
    "                    marker=markers[idx],\n",
    "                    label=cl)"
   ],
   "metadata": {
    "collapsed": false,
    "ExecuteTime": {
     "end_time": "2023-10-14T12:35:09.209076381Z",
     "start_time": "2023-10-14T12:35:09.208594795Z"
    }
   }
  },
  {
   "cell_type": "code",
   "execution_count": 17,
   "outputs": [
    {
     "ename": "ValueError",
     "evalue": "'C0' is not a valid color value.",
     "output_type": "error",
     "traceback": [
      "\u001B[0;31m---------------------------------------------------------------------------\u001B[0m",
      "\u001B[0;31mValueError\u001B[0m                                Traceback (most recent call last)",
      "Cell \u001B[0;32mIn[17], line 1\u001B[0m\n\u001B[0;32m----> 1\u001B[0m \u001B[43mplot_decision_regions\u001B[49m\u001B[43m(\u001B[49m\u001B[43mX_train\u001B[49m\u001B[43m,\u001B[49m\u001B[43m \u001B[49m\u001B[43my_train\u001B[49m\u001B[43m,\u001B[49m\u001B[43m \u001B[49m\u001B[43mclassifier\u001B[49m\u001B[38;5;241;43m=\u001B[39;49m\u001B[43mmodel\u001B[49m\u001B[43m)\u001B[49m\n",
      "Cell \u001B[0;32mIn[16], line 25\u001B[0m, in \u001B[0;36mplot_decision_regions\u001B[0;34m(X, y, classifier, resolution)\u001B[0m\n\u001B[1;32m     22\u001B[0m Z \u001B[38;5;241m=\u001B[39m np\u001B[38;5;241m.\u001B[39margmax(logits\u001B[38;5;241m.\u001B[39mdetach()\u001B[38;5;241m.\u001B[39mnumpy(), axis\u001B[38;5;241m=\u001B[39m\u001B[38;5;241m1\u001B[39m)\n\u001B[1;32m     24\u001B[0m Z \u001B[38;5;241m=\u001B[39m Z\u001B[38;5;241m.\u001B[39mreshape(xx1\u001B[38;5;241m.\u001B[39mshape)\n\u001B[0;32m---> 25\u001B[0m \u001B[43mplt\u001B[49m\u001B[38;5;241;43m.\u001B[39;49m\u001B[43mcontourf\u001B[49m\u001B[43m(\u001B[49m\u001B[43mxx1\u001B[49m\u001B[43m,\u001B[49m\u001B[43m \u001B[49m\u001B[43mxx2\u001B[49m\u001B[43m,\u001B[49m\u001B[43m \u001B[49m\u001B[43mZ\u001B[49m\u001B[43m,\u001B[49m\u001B[43m \u001B[49m\u001B[43malpha\u001B[49m\u001B[38;5;241;43m=\u001B[39;49m\u001B[38;5;241;43m0.4\u001B[39;49m\u001B[43m,\u001B[49m\u001B[43m \u001B[49m\u001B[43mcmap\u001B[49m\u001B[38;5;241;43m=\u001B[39;49m\u001B[43mcmap\u001B[49m\u001B[43m)\u001B[49m\n\u001B[1;32m     26\u001B[0m plt\u001B[38;5;241m.\u001B[39mxlim(xx1\u001B[38;5;241m.\u001B[39mmin(), xx1\u001B[38;5;241m.\u001B[39mmax())\n\u001B[1;32m     27\u001B[0m plt\u001B[38;5;241m.\u001B[39mylim(xx2\u001B[38;5;241m.\u001B[39mmin(), xx2\u001B[38;5;241m.\u001B[39mmax())\n",
      "File \u001B[0;32m~/codingTime/dl_lightning_ai_course/venv/lib/python3.10/site-packages/matplotlib/pyplot.py:2938\u001B[0m, in \u001B[0;36mcontourf\u001B[0;34m(data, *args, **kwargs)\u001B[0m\n\u001B[1;32m   2936\u001B[0m \u001B[38;5;129m@_copy_docstring_and_deprecators\u001B[39m(Axes\u001B[38;5;241m.\u001B[39mcontourf)\n\u001B[1;32m   2937\u001B[0m \u001B[38;5;28;01mdef\u001B[39;00m \u001B[38;5;21mcontourf\u001B[39m(\u001B[38;5;241m*\u001B[39margs, data\u001B[38;5;241m=\u001B[39m\u001B[38;5;28;01mNone\u001B[39;00m, \u001B[38;5;241m*\u001B[39m\u001B[38;5;241m*\u001B[39mkwargs) \u001B[38;5;241m-\u001B[39m\u001B[38;5;241m>\u001B[39m QuadContourSet:\n\u001B[0;32m-> 2938\u001B[0m     __ret \u001B[38;5;241m=\u001B[39m \u001B[43mgca\u001B[49m\u001B[43m(\u001B[49m\u001B[43m)\u001B[49m\u001B[38;5;241;43m.\u001B[39;49m\u001B[43mcontourf\u001B[49m\u001B[43m(\u001B[49m\n\u001B[1;32m   2939\u001B[0m \u001B[43m        \u001B[49m\u001B[38;5;241;43m*\u001B[39;49m\u001B[43margs\u001B[49m\u001B[43m,\u001B[49m\u001B[43m \u001B[49m\u001B[38;5;241;43m*\u001B[39;49m\u001B[38;5;241;43m*\u001B[39;49m\u001B[43m(\u001B[49m\u001B[43m{\u001B[49m\u001B[38;5;124;43m\"\u001B[39;49m\u001B[38;5;124;43mdata\u001B[39;49m\u001B[38;5;124;43m\"\u001B[39;49m\u001B[43m:\u001B[49m\u001B[43m \u001B[49m\u001B[43mdata\u001B[49m\u001B[43m}\u001B[49m\u001B[43m \u001B[49m\u001B[38;5;28;43;01mif\u001B[39;49;00m\u001B[43m \u001B[49m\u001B[43mdata\u001B[49m\u001B[43m \u001B[49m\u001B[38;5;129;43;01mis\u001B[39;49;00m\u001B[43m \u001B[49m\u001B[38;5;129;43;01mnot\u001B[39;49;00m\u001B[43m \u001B[49m\u001B[38;5;28;43;01mNone\u001B[39;49;00m\u001B[43m \u001B[49m\u001B[38;5;28;43;01melse\u001B[39;49;00m\u001B[43m \u001B[49m\u001B[43m{\u001B[49m\u001B[43m}\u001B[49m\u001B[43m)\u001B[49m\u001B[43m,\u001B[49m\u001B[43m \u001B[49m\u001B[38;5;241;43m*\u001B[39;49m\u001B[38;5;241;43m*\u001B[39;49m\u001B[43mkwargs\u001B[49m\n\u001B[1;32m   2940\u001B[0m \u001B[43m    \u001B[49m\u001B[43m)\u001B[49m\n\u001B[1;32m   2941\u001B[0m     \u001B[38;5;28;01mif\u001B[39;00m __ret\u001B[38;5;241m.\u001B[39m_A \u001B[38;5;129;01mis\u001B[39;00m \u001B[38;5;129;01mnot\u001B[39;00m \u001B[38;5;28;01mNone\u001B[39;00m:  \u001B[38;5;66;03m# type: ignore[attr-defined]\u001B[39;00m\n\u001B[1;32m   2942\u001B[0m         sci(__ret)\n",
      "File \u001B[0;32m~/codingTime/dl_lightning_ai_course/venv/lib/python3.10/site-packages/matplotlib/__init__.py:1465\u001B[0m, in \u001B[0;36m_preprocess_data.<locals>.inner\u001B[0;34m(ax, data, *args, **kwargs)\u001B[0m\n\u001B[1;32m   1462\u001B[0m \u001B[38;5;129m@functools\u001B[39m\u001B[38;5;241m.\u001B[39mwraps(func)\n\u001B[1;32m   1463\u001B[0m \u001B[38;5;28;01mdef\u001B[39;00m \u001B[38;5;21minner\u001B[39m(ax, \u001B[38;5;241m*\u001B[39margs, data\u001B[38;5;241m=\u001B[39m\u001B[38;5;28;01mNone\u001B[39;00m, \u001B[38;5;241m*\u001B[39m\u001B[38;5;241m*\u001B[39mkwargs):\n\u001B[1;32m   1464\u001B[0m     \u001B[38;5;28;01mif\u001B[39;00m data \u001B[38;5;129;01mis\u001B[39;00m \u001B[38;5;28;01mNone\u001B[39;00m:\n\u001B[0;32m-> 1465\u001B[0m         \u001B[38;5;28;01mreturn\u001B[39;00m \u001B[43mfunc\u001B[49m\u001B[43m(\u001B[49m\u001B[43max\u001B[49m\u001B[43m,\u001B[49m\u001B[43m \u001B[49m\u001B[38;5;241;43m*\u001B[39;49m\u001B[38;5;28;43mmap\u001B[39;49m\u001B[43m(\u001B[49m\u001B[43msanitize_sequence\u001B[49m\u001B[43m,\u001B[49m\u001B[43m \u001B[49m\u001B[43margs\u001B[49m\u001B[43m)\u001B[49m\u001B[43m,\u001B[49m\u001B[43m \u001B[49m\u001B[38;5;241;43m*\u001B[39;49m\u001B[38;5;241;43m*\u001B[39;49m\u001B[43mkwargs\u001B[49m\u001B[43m)\u001B[49m\n\u001B[1;32m   1467\u001B[0m     bound \u001B[38;5;241m=\u001B[39m new_sig\u001B[38;5;241m.\u001B[39mbind(ax, \u001B[38;5;241m*\u001B[39margs, \u001B[38;5;241m*\u001B[39m\u001B[38;5;241m*\u001B[39mkwargs)\n\u001B[1;32m   1468\u001B[0m     auto_label \u001B[38;5;241m=\u001B[39m (bound\u001B[38;5;241m.\u001B[39marguments\u001B[38;5;241m.\u001B[39mget(label_namer)\n\u001B[1;32m   1469\u001B[0m                   \u001B[38;5;129;01mor\u001B[39;00m bound\u001B[38;5;241m.\u001B[39mkwargs\u001B[38;5;241m.\u001B[39mget(label_namer))\n",
      "File \u001B[0;32m~/codingTime/dl_lightning_ai_course/venv/lib/python3.10/site-packages/matplotlib/axes/_axes.py:6528\u001B[0m, in \u001B[0;36mAxes.contourf\u001B[0;34m(self, *args, **kwargs)\u001B[0m\n\u001B[1;32m   6519\u001B[0m \u001B[38;5;250m\u001B[39m\u001B[38;5;124;03m\"\"\"\u001B[39;00m\n\u001B[1;32m   6520\u001B[0m \u001B[38;5;124;03mPlot filled contours.\u001B[39;00m\n\u001B[1;32m   6521\u001B[0m \n\u001B[0;32m   (...)\u001B[0m\n\u001B[1;32m   6525\u001B[0m \u001B[38;5;124;03m%(contour_doc)s\u001B[39;00m\n\u001B[1;32m   6526\u001B[0m \u001B[38;5;124;03m\"\"\"\u001B[39;00m\n\u001B[1;32m   6527\u001B[0m kwargs[\u001B[38;5;124m'\u001B[39m\u001B[38;5;124mfilled\u001B[39m\u001B[38;5;124m'\u001B[39m] \u001B[38;5;241m=\u001B[39m \u001B[38;5;28;01mTrue\u001B[39;00m\n\u001B[0;32m-> 6528\u001B[0m contours \u001B[38;5;241m=\u001B[39m \u001B[43mmcontour\u001B[49m\u001B[38;5;241;43m.\u001B[39;49m\u001B[43mQuadContourSet\u001B[49m\u001B[43m(\u001B[49m\u001B[38;5;28;43mself\u001B[39;49m\u001B[43m,\u001B[49m\u001B[43m \u001B[49m\u001B[38;5;241;43m*\u001B[39;49m\u001B[43margs\u001B[49m\u001B[43m,\u001B[49m\u001B[43m \u001B[49m\u001B[38;5;241;43m*\u001B[39;49m\u001B[38;5;241;43m*\u001B[39;49m\u001B[43mkwargs\u001B[49m\u001B[43m)\u001B[49m\n\u001B[1;32m   6529\u001B[0m \u001B[38;5;28mself\u001B[39m\u001B[38;5;241m.\u001B[39m_request_autoscale_view()\n\u001B[1;32m   6530\u001B[0m \u001B[38;5;28;01mreturn\u001B[39;00m contours\n",
      "File \u001B[0;32m~/codingTime/dl_lightning_ai_course/venv/lib/python3.10/site-packages/matplotlib/contour.py:887\u001B[0m, in \u001B[0;36mContourSet.__init__\u001B[0;34m(self, ax, levels, filled, linewidths, linestyles, hatches, alpha, origin, extent, cmap, colors, norm, vmin, vmax, extend, antialiased, nchunk, locator, transform, negative_linestyles, clip_path, *args, **kwargs)\u001B[0m\n\u001B[1;32m    884\u001B[0m \u001B[38;5;28mself\u001B[39m\u001B[38;5;241m.\u001B[39mlabelTexts \u001B[38;5;241m=\u001B[39m []\n\u001B[1;32m    885\u001B[0m \u001B[38;5;28mself\u001B[39m\u001B[38;5;241m.\u001B[39mlabelCValues \u001B[38;5;241m=\u001B[39m []\n\u001B[0;32m--> 887\u001B[0m \u001B[38;5;28;43mself\u001B[39;49m\u001B[38;5;241;43m.\u001B[39;49m\u001B[43mset_cmap\u001B[49m\u001B[43m(\u001B[49m\u001B[43mcmap\u001B[49m\u001B[43m)\u001B[49m\n\u001B[1;32m    888\u001B[0m \u001B[38;5;28;01mif\u001B[39;00m norm \u001B[38;5;129;01mis\u001B[39;00m \u001B[38;5;129;01mnot\u001B[39;00m \u001B[38;5;28;01mNone\u001B[39;00m:\n\u001B[1;32m    889\u001B[0m     \u001B[38;5;28mself\u001B[39m\u001B[38;5;241m.\u001B[39mset_norm(norm)\n",
      "File \u001B[0;32m~/codingTime/dl_lightning_ai_course/venv/lib/python3.10/site-packages/matplotlib/cm.py:602\u001B[0m, in \u001B[0;36mScalarMappable.set_cmap\u001B[0;34m(self, cmap)\u001B[0m\n\u001B[1;32m    600\u001B[0m \u001B[38;5;28mself\u001B[39m\u001B[38;5;241m.\u001B[39mcmap \u001B[38;5;241m=\u001B[39m _ensure_cmap(cmap)\n\u001B[1;32m    601\u001B[0m \u001B[38;5;28;01mif\u001B[39;00m \u001B[38;5;129;01mnot\u001B[39;00m in_init:\n\u001B[0;32m--> 602\u001B[0m     \u001B[38;5;28;43mself\u001B[39;49m\u001B[38;5;241;43m.\u001B[39;49m\u001B[43mchanged\u001B[49m\u001B[43m(\u001B[49m\u001B[43m)\u001B[49m\n",
      "File \u001B[0;32m~/codingTime/dl_lightning_ai_course/venv/lib/python3.10/site-packages/matplotlib/contour.py:1145\u001B[0m, in \u001B[0;36mContourSet.changed\u001B[0;34m(self)\u001B[0m\n\u001B[1;32m   1143\u001B[0m \u001B[38;5;28;01mdef\u001B[39;00m \u001B[38;5;21mchanged\u001B[39m(\u001B[38;5;28mself\u001B[39m):\n\u001B[1;32m   1144\u001B[0m     \u001B[38;5;28;01mif\u001B[39;00m \u001B[38;5;129;01mnot\u001B[39;00m \u001B[38;5;28mhasattr\u001B[39m(\u001B[38;5;28mself\u001B[39m, \u001B[38;5;124m\"\u001B[39m\u001B[38;5;124mcvalues\u001B[39m\u001B[38;5;124m\"\u001B[39m):\n\u001B[0;32m-> 1145\u001B[0m         \u001B[38;5;28;43mself\u001B[39;49m\u001B[38;5;241;43m.\u001B[39;49m\u001B[43m_process_colors\u001B[49m\u001B[43m(\u001B[49m\u001B[43m)\u001B[49m  \u001B[38;5;66;03m# Sets cvalues.\u001B[39;00m\n\u001B[1;32m   1146\u001B[0m     \u001B[38;5;66;03m# Force an autoscale immediately because self.to_rgba() calls\u001B[39;00m\n\u001B[1;32m   1147\u001B[0m     \u001B[38;5;66;03m# autoscale_None() internally with the data passed to it,\u001B[39;00m\n\u001B[1;32m   1148\u001B[0m     \u001B[38;5;66;03m# so if vmin/vmax are not set yet, this would override them with\u001B[39;00m\n\u001B[1;32m   1149\u001B[0m     \u001B[38;5;66;03m# content from *cvalues* rather than levels like we want\u001B[39;00m\n\u001B[1;32m   1150\u001B[0m     \u001B[38;5;28mself\u001B[39m\u001B[38;5;241m.\u001B[39mnorm\u001B[38;5;241m.\u001B[39mautoscale_None(\u001B[38;5;28mself\u001B[39m\u001B[38;5;241m.\u001B[39mlevels)\n",
      "File \u001B[0;32m~/codingTime/dl_lightning_ai_course/venv/lib/python3.10/site-packages/matplotlib/contour.py:1302\u001B[0m, in \u001B[0;36mContourSet._process_colors\u001B[0;34m(self)\u001B[0m\n\u001B[1;32m   1300\u001B[0m \u001B[38;5;28;01melse\u001B[39;00m:\n\u001B[1;32m   1301\u001B[0m     \u001B[38;5;28mself\u001B[39m\u001B[38;5;241m.\u001B[39mcvalues \u001B[38;5;241m=\u001B[39m \u001B[38;5;28mself\u001B[39m\u001B[38;5;241m.\u001B[39mlayers\n\u001B[0;32m-> 1302\u001B[0m \u001B[38;5;28;43mself\u001B[39;49m\u001B[38;5;241;43m.\u001B[39;49m\u001B[43mnorm\u001B[49m\u001B[38;5;241;43m.\u001B[39;49m\u001B[43mautoscale_None\u001B[49m\u001B[43m(\u001B[49m\u001B[38;5;28;43mself\u001B[39;49m\u001B[38;5;241;43m.\u001B[39;49m\u001B[43mlevels\u001B[49m\u001B[43m)\u001B[49m\n\u001B[1;32m   1303\u001B[0m \u001B[38;5;28mself\u001B[39m\u001B[38;5;241m.\u001B[39mset_array(\u001B[38;5;28mself\u001B[39m\u001B[38;5;241m.\u001B[39mcvalues)\n\u001B[1;32m   1304\u001B[0m \u001B[38;5;28mself\u001B[39m\u001B[38;5;241m.\u001B[39mupdate_scalarmappable()\n",
      "File \u001B[0;32m~/codingTime/dl_lightning_ai_course/venv/lib/python3.10/site-packages/matplotlib/colors.py:1408\u001B[0m, in \u001B[0;36mNormalize.autoscale_None\u001B[0;34m(self, A)\u001B[0m\n\u001B[1;32m   1405\u001B[0m         A \u001B[38;5;241m=\u001B[39m A\u001B[38;5;241m.\u001B[39mdata\n\u001B[1;32m   1407\u001B[0m \u001B[38;5;28;01mif\u001B[39;00m \u001B[38;5;28mself\u001B[39m\u001B[38;5;241m.\u001B[39mvmin \u001B[38;5;129;01mis\u001B[39;00m \u001B[38;5;28;01mNone\u001B[39;00m \u001B[38;5;129;01mand\u001B[39;00m A\u001B[38;5;241m.\u001B[39msize:\n\u001B[0;32m-> 1408\u001B[0m     \u001B[38;5;28;43mself\u001B[39;49m\u001B[38;5;241;43m.\u001B[39;49m\u001B[43mvmin\u001B[49m \u001B[38;5;241m=\u001B[39m A\u001B[38;5;241m.\u001B[39mmin()\n\u001B[1;32m   1409\u001B[0m \u001B[38;5;28;01mif\u001B[39;00m \u001B[38;5;28mself\u001B[39m\u001B[38;5;241m.\u001B[39mvmax \u001B[38;5;129;01mis\u001B[39;00m \u001B[38;5;28;01mNone\u001B[39;00m \u001B[38;5;129;01mand\u001B[39;00m A\u001B[38;5;241m.\u001B[39msize:\n\u001B[1;32m   1410\u001B[0m     \u001B[38;5;28mself\u001B[39m\u001B[38;5;241m.\u001B[39mvmax \u001B[38;5;241m=\u001B[39m A\u001B[38;5;241m.\u001B[39mmax()\n",
      "File \u001B[0;32m~/codingTime/dl_lightning_ai_course/venv/lib/python3.10/site-packages/matplotlib/colors.py:1264\u001B[0m, in \u001B[0;36mNormalize.vmin\u001B[0;34m(self, value)\u001B[0m\n\u001B[1;32m   1262\u001B[0m \u001B[38;5;28;01mif\u001B[39;00m value \u001B[38;5;241m!=\u001B[39m \u001B[38;5;28mself\u001B[39m\u001B[38;5;241m.\u001B[39m_vmin:\n\u001B[1;32m   1263\u001B[0m     \u001B[38;5;28mself\u001B[39m\u001B[38;5;241m.\u001B[39m_vmin \u001B[38;5;241m=\u001B[39m value\n\u001B[0;32m-> 1264\u001B[0m     \u001B[38;5;28;43mself\u001B[39;49m\u001B[38;5;241;43m.\u001B[39;49m\u001B[43m_changed\u001B[49m\u001B[43m(\u001B[49m\u001B[43m)\u001B[49m\n",
      "File \u001B[0;32m~/codingTime/dl_lightning_ai_course/venv/lib/python3.10/site-packages/matplotlib/colors.py:1292\u001B[0m, in \u001B[0;36mNormalize._changed\u001B[0;34m(self)\u001B[0m\n\u001B[1;32m   1287\u001B[0m \u001B[38;5;28;01mdef\u001B[39;00m \u001B[38;5;21m_changed\u001B[39m(\u001B[38;5;28mself\u001B[39m):\n\u001B[1;32m   1288\u001B[0m \u001B[38;5;250m    \u001B[39m\u001B[38;5;124;03m\"\"\"\u001B[39;00m\n\u001B[1;32m   1289\u001B[0m \u001B[38;5;124;03m    Call this whenever the norm is changed to notify all the\u001B[39;00m\n\u001B[1;32m   1290\u001B[0m \u001B[38;5;124;03m    callback listeners to the 'changed' signal.\u001B[39;00m\n\u001B[1;32m   1291\u001B[0m \u001B[38;5;124;03m    \"\"\"\u001B[39;00m\n\u001B[0;32m-> 1292\u001B[0m     \u001B[38;5;28;43mself\u001B[39;49m\u001B[38;5;241;43m.\u001B[39;49m\u001B[43mcallbacks\u001B[49m\u001B[38;5;241;43m.\u001B[39;49m\u001B[43mprocess\u001B[49m\u001B[43m(\u001B[49m\u001B[38;5;124;43m'\u001B[39;49m\u001B[38;5;124;43mchanged\u001B[39;49m\u001B[38;5;124;43m'\u001B[39;49m\u001B[43m)\u001B[49m\n",
      "File \u001B[0;32m~/codingTime/dl_lightning_ai_course/venv/lib/python3.10/site-packages/matplotlib/cbook.py:303\u001B[0m, in \u001B[0;36mCallbackRegistry.process\u001B[0;34m(self, s, *args, **kwargs)\u001B[0m\n\u001B[1;32m    301\u001B[0m \u001B[38;5;28;01mexcept\u001B[39;00m \u001B[38;5;167;01mException\u001B[39;00m \u001B[38;5;28;01mas\u001B[39;00m exc:\n\u001B[1;32m    302\u001B[0m     \u001B[38;5;28;01mif\u001B[39;00m \u001B[38;5;28mself\u001B[39m\u001B[38;5;241m.\u001B[39mexception_handler \u001B[38;5;129;01mis\u001B[39;00m \u001B[38;5;129;01mnot\u001B[39;00m \u001B[38;5;28;01mNone\u001B[39;00m:\n\u001B[0;32m--> 303\u001B[0m         \u001B[38;5;28;43mself\u001B[39;49m\u001B[38;5;241;43m.\u001B[39;49m\u001B[43mexception_handler\u001B[49m\u001B[43m(\u001B[49m\u001B[43mexc\u001B[49m\u001B[43m)\u001B[49m\n\u001B[1;32m    304\u001B[0m     \u001B[38;5;28;01melse\u001B[39;00m:\n\u001B[1;32m    305\u001B[0m         \u001B[38;5;28;01mraise\u001B[39;00m\n",
      "File \u001B[0;32m~/codingTime/dl_lightning_ai_course/venv/lib/python3.10/site-packages/matplotlib/cbook.py:87\u001B[0m, in \u001B[0;36m_exception_printer\u001B[0;34m(exc)\u001B[0m\n\u001B[1;32m     85\u001B[0m \u001B[38;5;28;01mdef\u001B[39;00m \u001B[38;5;21m_exception_printer\u001B[39m(exc):\n\u001B[1;32m     86\u001B[0m     \u001B[38;5;28;01mif\u001B[39;00m _get_running_interactive_framework() \u001B[38;5;129;01min\u001B[39;00m [\u001B[38;5;124m\"\u001B[39m\u001B[38;5;124mheadless\u001B[39m\u001B[38;5;124m\"\u001B[39m, \u001B[38;5;28;01mNone\u001B[39;00m]:\n\u001B[0;32m---> 87\u001B[0m         \u001B[38;5;28;01mraise\u001B[39;00m exc\n\u001B[1;32m     88\u001B[0m     \u001B[38;5;28;01melse\u001B[39;00m:\n\u001B[1;32m     89\u001B[0m         traceback\u001B[38;5;241m.\u001B[39mprint_exc()\n",
      "File \u001B[0;32m~/codingTime/dl_lightning_ai_course/venv/lib/python3.10/site-packages/matplotlib/cbook.py:298\u001B[0m, in \u001B[0;36mCallbackRegistry.process\u001B[0;34m(self, s, *args, **kwargs)\u001B[0m\n\u001B[1;32m    296\u001B[0m \u001B[38;5;28;01mif\u001B[39;00m func \u001B[38;5;129;01mis\u001B[39;00m \u001B[38;5;129;01mnot\u001B[39;00m \u001B[38;5;28;01mNone\u001B[39;00m:\n\u001B[1;32m    297\u001B[0m     \u001B[38;5;28;01mtry\u001B[39;00m:\n\u001B[0;32m--> 298\u001B[0m         \u001B[43mfunc\u001B[49m\u001B[43m(\u001B[49m\u001B[38;5;241;43m*\u001B[39;49m\u001B[43margs\u001B[49m\u001B[43m,\u001B[49m\u001B[43m \u001B[49m\u001B[38;5;241;43m*\u001B[39;49m\u001B[38;5;241;43m*\u001B[39;49m\u001B[43mkwargs\u001B[49m\u001B[43m)\u001B[49m\n\u001B[1;32m    299\u001B[0m     \u001B[38;5;66;03m# this does not capture KeyboardInterrupt, SystemExit,\u001B[39;00m\n\u001B[1;32m    300\u001B[0m     \u001B[38;5;66;03m# and GeneratorExit\u001B[39;00m\n\u001B[1;32m    301\u001B[0m     \u001B[38;5;28;01mexcept\u001B[39;00m \u001B[38;5;167;01mException\u001B[39;00m \u001B[38;5;28;01mas\u001B[39;00m exc:\n",
      "File \u001B[0;32m~/codingTime/dl_lightning_ai_course/venv/lib/python3.10/site-packages/matplotlib/contour.py:1150\u001B[0m, in \u001B[0;36mContourSet.changed\u001B[0;34m(self)\u001B[0m\n\u001B[1;32m   1145\u001B[0m     \u001B[38;5;28mself\u001B[39m\u001B[38;5;241m.\u001B[39m_process_colors()  \u001B[38;5;66;03m# Sets cvalues.\u001B[39;00m\n\u001B[1;32m   1146\u001B[0m \u001B[38;5;66;03m# Force an autoscale immediately because self.to_rgba() calls\u001B[39;00m\n\u001B[1;32m   1147\u001B[0m \u001B[38;5;66;03m# autoscale_None() internally with the data passed to it,\u001B[39;00m\n\u001B[1;32m   1148\u001B[0m \u001B[38;5;66;03m# so if vmin/vmax are not set yet, this would override them with\u001B[39;00m\n\u001B[1;32m   1149\u001B[0m \u001B[38;5;66;03m# content from *cvalues* rather than levels like we want\u001B[39;00m\n\u001B[0;32m-> 1150\u001B[0m \u001B[38;5;28;43mself\u001B[39;49m\u001B[38;5;241;43m.\u001B[39;49m\u001B[43mnorm\u001B[49m\u001B[38;5;241;43m.\u001B[39;49m\u001B[43mautoscale_None\u001B[49m\u001B[43m(\u001B[49m\u001B[38;5;28;43mself\u001B[39;49m\u001B[38;5;241;43m.\u001B[39;49m\u001B[43mlevels\u001B[49m\u001B[43m)\u001B[49m\n\u001B[1;32m   1151\u001B[0m \u001B[38;5;28mself\u001B[39m\u001B[38;5;241m.\u001B[39mset_array(\u001B[38;5;28mself\u001B[39m\u001B[38;5;241m.\u001B[39mcvalues)\n\u001B[1;32m   1152\u001B[0m \u001B[38;5;28mself\u001B[39m\u001B[38;5;241m.\u001B[39mupdate_scalarmappable()\n",
      "File \u001B[0;32m~/codingTime/dl_lightning_ai_course/venv/lib/python3.10/site-packages/matplotlib/colors.py:1410\u001B[0m, in \u001B[0;36mNormalize.autoscale_None\u001B[0;34m(self, A)\u001B[0m\n\u001B[1;32m   1408\u001B[0m     \u001B[38;5;28mself\u001B[39m\u001B[38;5;241m.\u001B[39mvmin \u001B[38;5;241m=\u001B[39m A\u001B[38;5;241m.\u001B[39mmin()\n\u001B[1;32m   1409\u001B[0m \u001B[38;5;28;01mif\u001B[39;00m \u001B[38;5;28mself\u001B[39m\u001B[38;5;241m.\u001B[39mvmax \u001B[38;5;129;01mis\u001B[39;00m \u001B[38;5;28;01mNone\u001B[39;00m \u001B[38;5;129;01mand\u001B[39;00m A\u001B[38;5;241m.\u001B[39msize:\n\u001B[0;32m-> 1410\u001B[0m     \u001B[38;5;28;43mself\u001B[39;49m\u001B[38;5;241;43m.\u001B[39;49m\u001B[43mvmax\u001B[49m \u001B[38;5;241m=\u001B[39m A\u001B[38;5;241m.\u001B[39mmax()\n",
      "File \u001B[0;32m~/codingTime/dl_lightning_ai_course/venv/lib/python3.10/site-packages/matplotlib/colors.py:1275\u001B[0m, in \u001B[0;36mNormalize.vmax\u001B[0;34m(self, value)\u001B[0m\n\u001B[1;32m   1273\u001B[0m \u001B[38;5;28;01mif\u001B[39;00m value \u001B[38;5;241m!=\u001B[39m \u001B[38;5;28mself\u001B[39m\u001B[38;5;241m.\u001B[39m_vmax:\n\u001B[1;32m   1274\u001B[0m     \u001B[38;5;28mself\u001B[39m\u001B[38;5;241m.\u001B[39m_vmax \u001B[38;5;241m=\u001B[39m value\n\u001B[0;32m-> 1275\u001B[0m     \u001B[38;5;28;43mself\u001B[39;49m\u001B[38;5;241;43m.\u001B[39;49m\u001B[43m_changed\u001B[49m\u001B[43m(\u001B[49m\u001B[43m)\u001B[49m\n",
      "File \u001B[0;32m~/codingTime/dl_lightning_ai_course/venv/lib/python3.10/site-packages/matplotlib/colors.py:1292\u001B[0m, in \u001B[0;36mNormalize._changed\u001B[0;34m(self)\u001B[0m\n\u001B[1;32m   1287\u001B[0m \u001B[38;5;28;01mdef\u001B[39;00m \u001B[38;5;21m_changed\u001B[39m(\u001B[38;5;28mself\u001B[39m):\n\u001B[1;32m   1288\u001B[0m \u001B[38;5;250m    \u001B[39m\u001B[38;5;124;03m\"\"\"\u001B[39;00m\n\u001B[1;32m   1289\u001B[0m \u001B[38;5;124;03m    Call this whenever the norm is changed to notify all the\u001B[39;00m\n\u001B[1;32m   1290\u001B[0m \u001B[38;5;124;03m    callback listeners to the 'changed' signal.\u001B[39;00m\n\u001B[1;32m   1291\u001B[0m \u001B[38;5;124;03m    \"\"\"\u001B[39;00m\n\u001B[0;32m-> 1292\u001B[0m     \u001B[38;5;28;43mself\u001B[39;49m\u001B[38;5;241;43m.\u001B[39;49m\u001B[43mcallbacks\u001B[49m\u001B[38;5;241;43m.\u001B[39;49m\u001B[43mprocess\u001B[49m\u001B[43m(\u001B[49m\u001B[38;5;124;43m'\u001B[39;49m\u001B[38;5;124;43mchanged\u001B[39;49m\u001B[38;5;124;43m'\u001B[39;49m\u001B[43m)\u001B[49m\n",
      "File \u001B[0;32m~/codingTime/dl_lightning_ai_course/venv/lib/python3.10/site-packages/matplotlib/cbook.py:303\u001B[0m, in \u001B[0;36mCallbackRegistry.process\u001B[0;34m(self, s, *args, **kwargs)\u001B[0m\n\u001B[1;32m    301\u001B[0m \u001B[38;5;28;01mexcept\u001B[39;00m \u001B[38;5;167;01mException\u001B[39;00m \u001B[38;5;28;01mas\u001B[39;00m exc:\n\u001B[1;32m    302\u001B[0m     \u001B[38;5;28;01mif\u001B[39;00m \u001B[38;5;28mself\u001B[39m\u001B[38;5;241m.\u001B[39mexception_handler \u001B[38;5;129;01mis\u001B[39;00m \u001B[38;5;129;01mnot\u001B[39;00m \u001B[38;5;28;01mNone\u001B[39;00m:\n\u001B[0;32m--> 303\u001B[0m         \u001B[38;5;28;43mself\u001B[39;49m\u001B[38;5;241;43m.\u001B[39;49m\u001B[43mexception_handler\u001B[49m\u001B[43m(\u001B[49m\u001B[43mexc\u001B[49m\u001B[43m)\u001B[49m\n\u001B[1;32m    304\u001B[0m     \u001B[38;5;28;01melse\u001B[39;00m:\n\u001B[1;32m    305\u001B[0m         \u001B[38;5;28;01mraise\u001B[39;00m\n",
      "File \u001B[0;32m~/codingTime/dl_lightning_ai_course/venv/lib/python3.10/site-packages/matplotlib/cbook.py:87\u001B[0m, in \u001B[0;36m_exception_printer\u001B[0;34m(exc)\u001B[0m\n\u001B[1;32m     85\u001B[0m \u001B[38;5;28;01mdef\u001B[39;00m \u001B[38;5;21m_exception_printer\u001B[39m(exc):\n\u001B[1;32m     86\u001B[0m     \u001B[38;5;28;01mif\u001B[39;00m _get_running_interactive_framework() \u001B[38;5;129;01min\u001B[39;00m [\u001B[38;5;124m\"\u001B[39m\u001B[38;5;124mheadless\u001B[39m\u001B[38;5;124m\"\u001B[39m, \u001B[38;5;28;01mNone\u001B[39;00m]:\n\u001B[0;32m---> 87\u001B[0m         \u001B[38;5;28;01mraise\u001B[39;00m exc\n\u001B[1;32m     88\u001B[0m     \u001B[38;5;28;01melse\u001B[39;00m:\n\u001B[1;32m     89\u001B[0m         traceback\u001B[38;5;241m.\u001B[39mprint_exc()\n",
      "File \u001B[0;32m~/codingTime/dl_lightning_ai_course/venv/lib/python3.10/site-packages/matplotlib/cbook.py:298\u001B[0m, in \u001B[0;36mCallbackRegistry.process\u001B[0;34m(self, s, *args, **kwargs)\u001B[0m\n\u001B[1;32m    296\u001B[0m \u001B[38;5;28;01mif\u001B[39;00m func \u001B[38;5;129;01mis\u001B[39;00m \u001B[38;5;129;01mnot\u001B[39;00m \u001B[38;5;28;01mNone\u001B[39;00m:\n\u001B[1;32m    297\u001B[0m     \u001B[38;5;28;01mtry\u001B[39;00m:\n\u001B[0;32m--> 298\u001B[0m         \u001B[43mfunc\u001B[49m\u001B[43m(\u001B[49m\u001B[38;5;241;43m*\u001B[39;49m\u001B[43margs\u001B[49m\u001B[43m,\u001B[49m\u001B[43m \u001B[49m\u001B[38;5;241;43m*\u001B[39;49m\u001B[38;5;241;43m*\u001B[39;49m\u001B[43mkwargs\u001B[49m\u001B[43m)\u001B[49m\n\u001B[1;32m    299\u001B[0m     \u001B[38;5;66;03m# this does not capture KeyboardInterrupt, SystemExit,\u001B[39;00m\n\u001B[1;32m    300\u001B[0m     \u001B[38;5;66;03m# and GeneratorExit\u001B[39;00m\n\u001B[1;32m    301\u001B[0m     \u001B[38;5;28;01mexcept\u001B[39;00m \u001B[38;5;167;01mException\u001B[39;00m \u001B[38;5;28;01mas\u001B[39;00m exc:\n",
      "File \u001B[0;32m~/codingTime/dl_lightning_ai_course/venv/lib/python3.10/site-packages/matplotlib/contour.py:1152\u001B[0m, in \u001B[0;36mContourSet.changed\u001B[0;34m(self)\u001B[0m\n\u001B[1;32m   1150\u001B[0m \u001B[38;5;28mself\u001B[39m\u001B[38;5;241m.\u001B[39mnorm\u001B[38;5;241m.\u001B[39mautoscale_None(\u001B[38;5;28mself\u001B[39m\u001B[38;5;241m.\u001B[39mlevels)\n\u001B[1;32m   1151\u001B[0m \u001B[38;5;28mself\u001B[39m\u001B[38;5;241m.\u001B[39mset_array(\u001B[38;5;28mself\u001B[39m\u001B[38;5;241m.\u001B[39mcvalues)\n\u001B[0;32m-> 1152\u001B[0m \u001B[38;5;28;43mself\u001B[39;49m\u001B[38;5;241;43m.\u001B[39;49m\u001B[43mupdate_scalarmappable\u001B[49m\u001B[43m(\u001B[49m\u001B[43m)\u001B[49m\n\u001B[1;32m   1153\u001B[0m alphas \u001B[38;5;241m=\u001B[39m np\u001B[38;5;241m.\u001B[39mbroadcast_to(\u001B[38;5;28mself\u001B[39m\u001B[38;5;241m.\u001B[39mget_alpha(), \u001B[38;5;28mlen\u001B[39m(\u001B[38;5;28mself\u001B[39m\u001B[38;5;241m.\u001B[39mcvalues))\n\u001B[1;32m   1154\u001B[0m \u001B[38;5;28;01mfor\u001B[39;00m label, cv, alpha \u001B[38;5;129;01min\u001B[39;00m \u001B[38;5;28mzip\u001B[39m(\u001B[38;5;28mself\u001B[39m\u001B[38;5;241m.\u001B[39mlabelTexts, \u001B[38;5;28mself\u001B[39m\u001B[38;5;241m.\u001B[39mlabelCValues, alphas):\n",
      "File \u001B[0;32m~/codingTime/dl_lightning_ai_course/venv/lib/python3.10/site-packages/matplotlib/collections.py:920\u001B[0m, in \u001B[0;36mCollection.update_scalarmappable\u001B[0;34m(self)\u001B[0m\n\u001B[1;32m    918\u001B[0m         \u001B[38;5;66;03m# pcolormesh, scatter, maybe others flatten their _A\u001B[39;00m\n\u001B[1;32m    919\u001B[0m         \u001B[38;5;28mself\u001B[39m\u001B[38;5;241m.\u001B[39m_alpha \u001B[38;5;241m=\u001B[39m \u001B[38;5;28mself\u001B[39m\u001B[38;5;241m.\u001B[39m_alpha\u001B[38;5;241m.\u001B[39mreshape(\u001B[38;5;28mself\u001B[39m\u001B[38;5;241m.\u001B[39m_A\u001B[38;5;241m.\u001B[39mshape)\n\u001B[0;32m--> 920\u001B[0m     \u001B[38;5;28mself\u001B[39m\u001B[38;5;241m.\u001B[39m_mapped_colors \u001B[38;5;241m=\u001B[39m \u001B[38;5;28;43mself\u001B[39;49m\u001B[38;5;241;43m.\u001B[39;49m\u001B[43mto_rgba\u001B[49m\u001B[43m(\u001B[49m\u001B[38;5;28;43mself\u001B[39;49m\u001B[38;5;241;43m.\u001B[39;49m\u001B[43m_A\u001B[49m\u001B[43m,\u001B[49m\u001B[43m \u001B[49m\u001B[38;5;28;43mself\u001B[39;49m\u001B[38;5;241;43m.\u001B[39;49m\u001B[43m_alpha\u001B[49m\u001B[43m)\u001B[49m\n\u001B[1;32m    922\u001B[0m \u001B[38;5;28;01mif\u001B[39;00m \u001B[38;5;28mself\u001B[39m\u001B[38;5;241m.\u001B[39m_face_is_mapped:\n\u001B[1;32m    923\u001B[0m     \u001B[38;5;28mself\u001B[39m\u001B[38;5;241m.\u001B[39m_facecolors \u001B[38;5;241m=\u001B[39m \u001B[38;5;28mself\u001B[39m\u001B[38;5;241m.\u001B[39m_mapped_colors\n",
      "File \u001B[0;32m~/codingTime/dl_lightning_ai_course/venv/lib/python3.10/site-packages/matplotlib/cm.py:509\u001B[0m, in \u001B[0;36mScalarMappable.to_rgba\u001B[0;34m(self, x, alpha, bytes, norm)\u001B[0m\n\u001B[1;32m    507\u001B[0m \u001B[38;5;28;01mif\u001B[39;00m norm:\n\u001B[1;32m    508\u001B[0m     x \u001B[38;5;241m=\u001B[39m \u001B[38;5;28mself\u001B[39m\u001B[38;5;241m.\u001B[39mnorm(x)\n\u001B[0;32m--> 509\u001B[0m rgba \u001B[38;5;241m=\u001B[39m \u001B[38;5;28;43mself\u001B[39;49m\u001B[38;5;241;43m.\u001B[39;49m\u001B[43mcmap\u001B[49m\u001B[43m(\u001B[49m\u001B[43mx\u001B[49m\u001B[43m,\u001B[49m\u001B[43m \u001B[49m\u001B[43malpha\u001B[49m\u001B[38;5;241;43m=\u001B[39;49m\u001B[43malpha\u001B[49m\u001B[43m,\u001B[49m\u001B[43m \u001B[49m\u001B[38;5;28;43mbytes\u001B[39;49m\u001B[38;5;241;43m=\u001B[39;49m\u001B[38;5;28;43mbytes\u001B[39;49m\u001B[43m)\u001B[49m\n\u001B[1;32m    510\u001B[0m \u001B[38;5;28;01mreturn\u001B[39;00m rgba\n",
      "File \u001B[0;32m~/codingTime/dl_lightning_ai_course/venv/lib/python3.10/site-packages/matplotlib/colors.py:725\u001B[0m, in \u001B[0;36mColormap.__call__\u001B[0;34m(self, X, alpha, bytes)\u001B[0m\n\u001B[1;32m    702\u001B[0m \u001B[38;5;250m\u001B[39m\u001B[38;5;124mr\u001B[39m\u001B[38;5;124;03m\"\"\"\u001B[39;00m\n\u001B[1;32m    703\u001B[0m \u001B[38;5;124;03mParameters\u001B[39;00m\n\u001B[1;32m    704\u001B[0m \u001B[38;5;124;03m----------\u001B[39;00m\n\u001B[0;32m   (...)\u001B[0m\n\u001B[1;32m    722\u001B[0m \u001B[38;5;124;03mRGBA values with a shape of ``X.shape + (4, )``.\u001B[39;00m\n\u001B[1;32m    723\u001B[0m \u001B[38;5;124;03m\"\"\"\u001B[39;00m\n\u001B[1;32m    724\u001B[0m \u001B[38;5;28;01mif\u001B[39;00m \u001B[38;5;129;01mnot\u001B[39;00m \u001B[38;5;28mself\u001B[39m\u001B[38;5;241m.\u001B[39m_isinit:\n\u001B[0;32m--> 725\u001B[0m     \u001B[38;5;28;43mself\u001B[39;49m\u001B[38;5;241;43m.\u001B[39;49m\u001B[43m_init\u001B[49m\u001B[43m(\u001B[49m\u001B[43m)\u001B[49m\n\u001B[1;32m    727\u001B[0m xa \u001B[38;5;241m=\u001B[39m np\u001B[38;5;241m.\u001B[39marray(X, copy\u001B[38;5;241m=\u001B[39m\u001B[38;5;28;01mTrue\u001B[39;00m)\n\u001B[1;32m    728\u001B[0m \u001B[38;5;28;01mif\u001B[39;00m \u001B[38;5;129;01mnot\u001B[39;00m xa\u001B[38;5;241m.\u001B[39mdtype\u001B[38;5;241m.\u001B[39misnative:\n\u001B[1;32m    729\u001B[0m     \u001B[38;5;66;03m# Native byteorder is faster.\u001B[39;00m\n",
      "File \u001B[0;32m~/codingTime/dl_lightning_ai_course/venv/lib/python3.10/site-packages/matplotlib/colors.py:1175\u001B[0m, in \u001B[0;36mListedColormap._init\u001B[0;34m(self)\u001B[0m\n\u001B[1;32m   1173\u001B[0m \u001B[38;5;28;01mdef\u001B[39;00m \u001B[38;5;21m_init\u001B[39m(\u001B[38;5;28mself\u001B[39m):\n\u001B[1;32m   1174\u001B[0m     \u001B[38;5;28mself\u001B[39m\u001B[38;5;241m.\u001B[39m_lut \u001B[38;5;241m=\u001B[39m np\u001B[38;5;241m.\u001B[39mzeros((\u001B[38;5;28mself\u001B[39m\u001B[38;5;241m.\u001B[39mN \u001B[38;5;241m+\u001B[39m \u001B[38;5;241m3\u001B[39m, \u001B[38;5;241m4\u001B[39m), \u001B[38;5;28mfloat\u001B[39m)\n\u001B[0;32m-> 1175\u001B[0m     \u001B[38;5;28mself\u001B[39m\u001B[38;5;241m.\u001B[39m_lut[:\u001B[38;5;241m-\u001B[39m\u001B[38;5;241m3\u001B[39m] \u001B[38;5;241m=\u001B[39m \u001B[43mto_rgba_array\u001B[49m\u001B[43m(\u001B[49m\u001B[38;5;28;43mself\u001B[39;49m\u001B[38;5;241;43m.\u001B[39;49m\u001B[43mcolors\u001B[49m\u001B[43m)\u001B[49m\n\u001B[1;32m   1176\u001B[0m     \u001B[38;5;28mself\u001B[39m\u001B[38;5;241m.\u001B[39m_isinit \u001B[38;5;241m=\u001B[39m \u001B[38;5;28;01mTrue\u001B[39;00m\n\u001B[1;32m   1177\u001B[0m     \u001B[38;5;28mself\u001B[39m\u001B[38;5;241m.\u001B[39m_set_extremes()\n",
      "File \u001B[0;32m~/codingTime/dl_lightning_ai_course/venv/lib/python3.10/site-packages/matplotlib/colors.py:489\u001B[0m, in \u001B[0;36mto_rgba_array\u001B[0;34m(c, alpha)\u001B[0m\n\u001B[1;32m    487\u001B[0m         \u001B[38;5;28;01mraise\u001B[39;00m e\n\u001B[1;32m    488\u001B[0m \u001B[38;5;28;01mif\u001B[39;00m \u001B[38;5;28misinstance\u001B[39m(c, \u001B[38;5;28mstr\u001B[39m):\n\u001B[0;32m--> 489\u001B[0m     \u001B[38;5;28;01mraise\u001B[39;00m \u001B[38;5;167;01mValueError\u001B[39;00m(\u001B[38;5;124mf\u001B[39m\u001B[38;5;124m\"\u001B[39m\u001B[38;5;132;01m{\u001B[39;00mc\u001B[38;5;132;01m!r}\u001B[39;00m\u001B[38;5;124m is not a valid color value.\u001B[39m\u001B[38;5;124m\"\u001B[39m)\n\u001B[1;32m    491\u001B[0m \u001B[38;5;28;01mif\u001B[39;00m \u001B[38;5;28mlen\u001B[39m(c) \u001B[38;5;241m==\u001B[39m \u001B[38;5;241m0\u001B[39m:\n\u001B[1;32m    492\u001B[0m     \u001B[38;5;28;01mreturn\u001B[39;00m np\u001B[38;5;241m.\u001B[39mzeros((\u001B[38;5;241m0\u001B[39m, \u001B[38;5;241m4\u001B[39m), \u001B[38;5;28mfloat\u001B[39m)\n",
      "\u001B[0;31mValueError\u001B[0m: 'C0' is not a valid color value."
     ]
    },
    {
     "data": {
      "text/plain": "<Figure size 640x480 with 1 Axes>",
      "image/png": "[encoded data removed]"
     },
     "metadata": {},
     "output_type": "display_data"
    }
   ],
   "source": [
    "plot_decision_regions(X_train, y_train, classifier=model)"
   ],
   "metadata": {
    "collapsed": false,
    "ExecuteTime": {
     "end_time": "2023-10-14T12:35:10.914893823Z",
     "start_time": "2023-10-14T12:35:09.208987418Z"
    }
   }
  }
 ],
 "metadata": {
  "kernelspec": {
   "display_name": "Python 3",
   "language": "python",
   "name": "python3"
  },
  "language_info": {
   "codemirror_mode": {
    "name": "ipython",
    "version": 2
   },
   "file_extension": ".py",
   "mimetype": "text/x-python",
   "name": "python",
   "nbconvert_exporter": "python",
   "pygments_lexer": "ipython2",
   "version": "2.7.6"
  }
 },
 "nbformat": 4,
 "nbformat_minor": 0
}
