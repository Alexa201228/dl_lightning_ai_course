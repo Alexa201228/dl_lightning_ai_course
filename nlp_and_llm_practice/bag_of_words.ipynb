{
 "cells": [
  {
   "cell_type": "code",
   "execution_count": 1,
   "metadata": {
    "collapsed": true,
    "ExecuteTime": {
     "end_time": "2023-12-10T13:55:07.435995500Z",
     "start_time": "2023-12-10T13:55:02.184995200Z"
    }
   },
   "outputs": [],
   "source": [
    "import os.path as op\n",
    "\n",
    "import numpy as np\n",
    "import pandas as pd\n",
    "import torch\n",
    "import lightning as L\n",
    "from lightning.pytorch.loggers import CSVLogger\n",
    "\n",
    "from tools import download_dataset, load_dataset_into_to_dataframe, partition_dataset, plot_csv_logger, LightningModel"
   ]
  },
  {
   "cell_type": "markdown",
   "source": [
    "## Load dataset"
   ],
   "metadata": {
    "collapsed": false
   }
  },
  {
   "cell_type": "code",
   "execution_count": 2,
   "outputs": [],
   "source": [
    "download_dataset()"
   ],
   "metadata": {
    "collapsed": false,
    "ExecuteTime": {
     "end_time": "2023-12-10T13:55:07.451995800Z",
     "start_time": "2023-12-10T13:55:07.435995500Z"
    }
   }
  },
  {
   "cell_type": "code",
   "execution_count": 3,
   "outputs": [
    {
     "name": "stderr",
     "output_type": "stream",
     "text": [
      "100%|██████████| 50000/50000 [01:39<00:00, 502.33it/s] "
     ]
    },
    {
     "name": "stdout",
     "output_type": "stream",
     "text": [
      "Class distribution:\n"
     ]
    },
    {
     "name": "stderr",
     "output_type": "stream",
     "text": [
      "\n"
     ]
    },
    {
     "data": {
      "text/plain": "                                                text  label\n0  I went and saw this movie last night after bei...      1\n0  Actor turned director Bill Paxton follows up h...      1\n0  As a recreational golfer with some knowledge o...      1\n0  I saw this film in a sneak preview, and it is ...      1\n0  Bill Paxton has taken the true story of the 19...      1",
      "text/html": "<div>\n<style scoped>\n    .dataframe tbody tr th:only-of-type {\n        vertical-align: middle;\n    }\n\n    .dataframe tbody tr th {\n        vertical-align: top;\n    }\n\n    .dataframe thead th {\n        text-align: right;\n    }\n</style>\n<table border=\"1\" class=\"dataframe\">\n  <thead>\n    <tr style=\"text-align: right;\">\n      <th></th>\n      <th>text</th>\n      <th>label</th>\n    </tr>\n  </thead>\n  <tbody>\n    <tr>\n      <th>0</th>\n      <td>I went and saw this movie last night after bei...</td>\n      <td>1</td>\n    </tr>\n    <tr>\n      <th>0</th>\n      <td>Actor turned director Bill Paxton follows up h...</td>\n      <td>1</td>\n    </tr>\n    <tr>\n      <th>0</th>\n      <td>As a recreational golfer with some knowledge o...</td>\n      <td>1</td>\n    </tr>\n    <tr>\n      <th>0</th>\n      <td>I saw this film in a sneak preview, and it is ...</td>\n      <td>1</td>\n    </tr>\n    <tr>\n      <th>0</th>\n      <td>Bill Paxton has taken the true story of the 19...</td>\n      <td>1</td>\n    </tr>\n  </tbody>\n</table>\n</div>"
     },
     "execution_count": 3,
     "metadata": {},
     "output_type": "execute_result"
    }
   ],
   "source": [
    "df = load_dataset_into_to_dataframe()\n",
    "\n",
    "df.head()"
   ],
   "metadata": {
    "collapsed": false,
    "ExecuteTime": {
     "end_time": "2023-12-10T13:56:47.052024300Z",
     "start_time": "2023-12-10T13:55:07.452997Z"
    }
   }
  },
  {
   "cell_type": "code",
   "execution_count": 4,
   "outputs": [],
   "source": [
    "partition_dataset(df)"
   ],
   "metadata": {
    "collapsed": false,
    "ExecuteTime": {
     "end_time": "2023-12-10T13:56:48.373995800Z",
     "start_time": "2023-12-10T13:56:47.023997Z"
    }
   }
  },
  {
   "cell_type": "code",
   "execution_count": 5,
   "outputs": [
    {
     "data": {
      "text/plain": "       index                                               text  label\n34995      0  Frank Capra's creativity must have been just a...      0\n34996      0  Just saw the film tonight in a preview and it'...      0\n34997      0  If you love Japanese monster movies, you'll lo...      1\n34998      0  Because it came from HBO and based on the IMDb...      0\n34999      0  WARNING!!! SOME POSSIBLE PLOT SPOILERS, AS IF ...      0",
      "text/html": "<div>\n<style scoped>\n    .dataframe tbody tr th:only-of-type {\n        vertical-align: middle;\n    }\n\n    .dataframe tbody tr th {\n        vertical-align: top;\n    }\n\n    .dataframe thead th {\n        text-align: right;\n    }\n</style>\n<table border=\"1\" class=\"dataframe\">\n  <thead>\n    <tr style=\"text-align: right;\">\n      <th></th>\n      <th>index</th>\n      <th>text</th>\n      <th>label</th>\n    </tr>\n  </thead>\n  <tbody>\n    <tr>\n      <th>34995</th>\n      <td>0</td>\n      <td>Frank Capra's creativity must have been just a...</td>\n      <td>0</td>\n    </tr>\n    <tr>\n      <th>34996</th>\n      <td>0</td>\n      <td>Just saw the film tonight in a preview and it'...</td>\n      <td>0</td>\n    </tr>\n    <tr>\n      <th>34997</th>\n      <td>0</td>\n      <td>If you love Japanese monster movies, you'll lo...</td>\n      <td>1</td>\n    </tr>\n    <tr>\n      <th>34998</th>\n      <td>0</td>\n      <td>Because it came from HBO and based on the IMDb...</td>\n      <td>0</td>\n    </tr>\n    <tr>\n      <th>34999</th>\n      <td>0</td>\n      <td>WARNING!!! SOME POSSIBLE PLOT SPOILERS, AS IF ...</td>\n      <td>0</td>\n    </tr>\n  </tbody>\n</table>\n</div>"
     },
     "execution_count": 5,
     "metadata": {},
     "output_type": "execute_result"
    }
   ],
   "source": [
    "df_training = pd.read_csv(\"train.csv\")\n",
    "df_training.tail()"
   ],
   "metadata": {
    "collapsed": false,
    "ExecuteTime": {
     "end_time": "2023-12-10T13:56:48.903997100Z",
     "start_time": "2023-12-10T13:56:48.376996400Z"
    }
   }
  },
  {
   "cell_type": "code",
   "execution_count": 6,
   "outputs": [
    {
     "data": {
      "text/plain": "array([17452, 17548], dtype=int64)"
     },
     "execution_count": 6,
     "metadata": {},
     "output_type": "execute_result"
    }
   ],
   "source": [
    "np.bincount(df_training[\"label\"])"
   ],
   "metadata": {
    "collapsed": false,
    "ExecuteTime": {
     "end_time": "2023-12-10T13:56:48.936997600Z",
     "start_time": "2023-12-10T13:56:48.907995500Z"
    }
   }
  },
  {
   "cell_type": "code",
   "execution_count": 7,
   "outputs": [
    {
     "data": {
      "text/plain": "      index                                               text  label\n4995      0  The Matador is a strange film. Its main charac...      1\n4996      0  Not bad performances. Whoopi plays the wise/wa...      0\n4997      0  I was surprised when I saw this film. I'd hear...      0\n4998      0  When great director/actor combinations are tal...      0\n4999      0  This show is non Stop hilarity. the first joke...      1",
      "text/html": "<div>\n<style scoped>\n    .dataframe tbody tr th:only-of-type {\n        vertical-align: middle;\n    }\n\n    .dataframe tbody tr th {\n        vertical-align: top;\n    }\n\n    .dataframe thead th {\n        text-align: right;\n    }\n</style>\n<table border=\"1\" class=\"dataframe\">\n  <thead>\n    <tr style=\"text-align: right;\">\n      <th></th>\n      <th>index</th>\n      <th>text</th>\n      <th>label</th>\n    </tr>\n  </thead>\n  <tbody>\n    <tr>\n      <th>4995</th>\n      <td>0</td>\n      <td>The Matador is a strange film. Its main charac...</td>\n      <td>1</td>\n    </tr>\n    <tr>\n      <th>4996</th>\n      <td>0</td>\n      <td>Not bad performances. Whoopi plays the wise/wa...</td>\n      <td>0</td>\n    </tr>\n    <tr>\n      <th>4997</th>\n      <td>0</td>\n      <td>I was surprised when I saw this film. I'd hear...</td>\n      <td>0</td>\n    </tr>\n    <tr>\n      <th>4998</th>\n      <td>0</td>\n      <td>When great director/actor combinations are tal...</td>\n      <td>0</td>\n    </tr>\n    <tr>\n      <th>4999</th>\n      <td>0</td>\n      <td>This show is non Stop hilarity. the first joke...</td>\n      <td>1</td>\n    </tr>\n  </tbody>\n</table>\n</div>"
     },
     "execution_count": 7,
     "metadata": {},
     "output_type": "execute_result"
    }
   ],
   "source": [
    "df_val = pd.read_csv(\"val.csv\")\n",
    "df_val.tail()"
   ],
   "metadata": {
    "collapsed": false,
    "ExecuteTime": {
     "end_time": "2023-12-10T13:56:49.023995400Z",
     "start_time": "2023-12-10T13:56:48.920997400Z"
    }
   }
  },
  {
   "cell_type": "code",
   "execution_count": 8,
   "outputs": [
    {
     "data": {
      "text/plain": "array([2542, 2458], dtype=int64)"
     },
     "execution_count": 8,
     "metadata": {},
     "output_type": "execute_result"
    }
   ],
   "source": [
    "np.bincount(df_val[\"label\"])"
   ],
   "metadata": {
    "collapsed": false,
    "ExecuteTime": {
     "end_time": "2023-12-10T13:56:49.038000200Z",
     "start_time": "2023-12-10T13:56:49.014996800Z"
    }
   }
  },
  {
   "cell_type": "code",
   "execution_count": 9,
   "outputs": [
    {
     "data": {
      "text/plain": "      index                                               text  label\n9995      0  Every generation fully believes it is living i...      0\n9996      0  Possibly the most brilliant thing about Che: P...      1\n9997      0  I was unsure of this movie before renting and ...      1\n9998      0  Just got out of an advance screening, and wow ...      1\n9999      0  I sense out there a mix of confusion and varyi...      1",
      "text/html": "<div>\n<style scoped>\n    .dataframe tbody tr th:only-of-type {\n        vertical-align: middle;\n    }\n\n    .dataframe tbody tr th {\n        vertical-align: top;\n    }\n\n    .dataframe thead th {\n        text-align: right;\n    }\n</style>\n<table border=\"1\" class=\"dataframe\">\n  <thead>\n    <tr style=\"text-align: right;\">\n      <th></th>\n      <th>index</th>\n      <th>text</th>\n      <th>label</th>\n    </tr>\n  </thead>\n  <tbody>\n    <tr>\n      <th>9995</th>\n      <td>0</td>\n      <td>Every generation fully believes it is living i...</td>\n      <td>0</td>\n    </tr>\n    <tr>\n      <th>9996</th>\n      <td>0</td>\n      <td>Possibly the most brilliant thing about Che: P...</td>\n      <td>1</td>\n    </tr>\n    <tr>\n      <th>9997</th>\n      <td>0</td>\n      <td>I was unsure of this movie before renting and ...</td>\n      <td>1</td>\n    </tr>\n    <tr>\n      <th>9998</th>\n      <td>0</td>\n      <td>Just got out of an advance screening, and wow ...</td>\n      <td>1</td>\n    </tr>\n    <tr>\n      <th>9999</th>\n      <td>0</td>\n      <td>I sense out there a mix of confusion and varyi...</td>\n      <td>1</td>\n    </tr>\n  </tbody>\n</table>\n</div>"
     },
     "execution_count": 9,
     "metadata": {},
     "output_type": "execute_result"
    }
   ],
   "source": [
    "df_test = pd.read_csv(\"test.csv\")\n",
    "df_test.tail()"
   ],
   "metadata": {
    "collapsed": false,
    "ExecuteTime": {
     "end_time": "2023-12-10T13:56:49.183996100Z",
     "start_time": "2023-12-10T13:56:49.029996100Z"
    }
   }
  },
  {
   "cell_type": "code",
   "execution_count": 10,
   "outputs": [
    {
     "data": {
      "text/plain": "array([5006, 4994], dtype=int64)"
     },
     "execution_count": 10,
     "metadata": {},
     "output_type": "execute_result"
    }
   ],
   "source": [
    "np.bincount(df_test[\"label\"])"
   ],
   "metadata": {
    "collapsed": false,
    "ExecuteTime": {
     "end_time": "2023-12-10T13:56:49.213995600Z",
     "start_time": "2023-12-10T13:56:49.185998100Z"
    }
   }
  },
  {
   "cell_type": "markdown",
   "source": [
    "## Bag of Words model"
   ],
   "metadata": {
    "collapsed": false
   }
  },
  {
   "cell_type": "code",
   "execution_count": 11,
   "outputs": [
    {
     "name": "stdout",
     "output_type": "stream",
     "text": [
      "Requirement already satisfied: scikit-learn in d:\\programming train\\dl_lightning_ai_course\\venv\\lib\\site-packages (1.3.1)\n",
      "Requirement already satisfied: numpy<2.0,>=1.17.3 in d:\\programming train\\dl_lightning_ai_course\\venv\\lib\\site-packages (from scikit-learn) (1.26.0)\n",
      "Requirement already satisfied: scipy>=1.5.0 in d:\\programming train\\dl_lightning_ai_course\\venv\\lib\\site-packages (from scikit-learn) (1.11.3)\n",
      "Requirement already satisfied: joblib>=1.1.1 in d:\\programming train\\dl_lightning_ai_course\\venv\\lib\\site-packages (from scikit-learn) (1.3.2)\n",
      "Requirement already satisfied: threadpoolctl>=2.0.0 in d:\\programming train\\dl_lightning_ai_course\\venv\\lib\\site-packages (from scikit-learn) (3.2.0)\n"
     ]
    },
    {
     "name": "stderr",
     "output_type": "stream",
     "text": [
      "WARNING: Ignoring invalid distribution -ightning (d:\\programming train\\dl_lightning_ai_course\\venv\\lib\\site-packages)\n",
      "WARNING: Ignoring invalid distribution -ightning (d:\\programming train\\dl_lightning_ai_course\\venv\\lib\\site-packages)\n",
      "WARNING: There was an error checking the latest version of pip.\n"
     ]
    }
   ],
   "source": [
    "!pip install scikit-learn"
   ],
   "metadata": {
    "collapsed": false,
    "ExecuteTime": {
     "end_time": "2023-12-10T13:56:54.247032800Z",
     "start_time": "2023-12-10T13:56:49.202997100Z"
    }
   }
  },
  {
   "cell_type": "code",
   "execution_count": 12,
   "outputs": [],
   "source": [
    "from sklearn.feature_extraction.text import CountVectorizer"
   ],
   "metadata": {
    "collapsed": false,
    "ExecuteTime": {
     "end_time": "2023-12-10T13:56:56.575997500Z",
     "start_time": "2023-12-10T13:56:54.249996200Z"
    }
   }
  },
  {
   "cell_type": "code",
   "execution_count": 13,
   "outputs": [],
   "source": [
    "count_vect = CountVectorizer(\n",
    "    lowercase=True,\n",
    "    max_features=10000,\n",
    "    stop_words=\"english\"\n",
    ")"
   ],
   "metadata": {
    "collapsed": false,
    "ExecuteTime": {
     "end_time": "2023-12-10T13:56:56.591995200Z",
     "start_time": "2023-12-10T13:56:56.578998300Z"
    }
   }
  },
  {
   "cell_type": "code",
   "execution_count": 14,
   "outputs": [
    {
     "data": {
      "text/plain": "CountVectorizer(max_features=10000, stop_words='english')",
      "text/html": "<style>#sk-container-id-1 {color: black;}#sk-container-id-1 pre{padding: 0;}#sk-container-id-1 div.sk-toggleable {background-color: white;}#sk-container-id-1 label.sk-toggleable__label {cursor: pointer;display: block;width: 100%;margin-bottom: 0;padding: 0.3em;box-sizing: border-box;text-align: center;}#sk-container-id-1 label.sk-toggleable__label-arrow:before {content: \"▸\";float: left;margin-right: 0.25em;color: #696969;}#sk-container-id-1 label.sk-toggleable__label-arrow:hover:before {color: black;}#sk-container-id-1 div.sk-estimator:hover label.sk-toggleable__label-arrow:before {color: black;}#sk-container-id-1 div.sk-toggleable__content {max-height: 0;max-width: 0;overflow: hidden;text-align: left;background-color: #f0f8ff;}#sk-container-id-1 div.sk-toggleable__content pre {margin: 0.2em;color: black;border-radius: 0.25em;background-color: #f0f8ff;}#sk-container-id-1 input.sk-toggleable__control:checked~div.sk-toggleable__content {max-height: 200px;max-width: 100%;overflow: auto;}#sk-container-id-1 input.sk-toggleable__control:checked~label.sk-toggleable__label-arrow:before {content: \"▾\";}#sk-container-id-1 div.sk-estimator input.sk-toggleable__control:checked~label.sk-toggleable__label {background-color: #d4ebff;}#sk-container-id-1 div.sk-label input.sk-toggleable__control:checked~label.sk-toggleable__label {background-color: #d4ebff;}#sk-container-id-1 input.sk-hidden--visually {border: 0;clip: rect(1px 1px 1px 1px);clip: rect(1px, 1px, 1px, 1px);height: 1px;margin: -1px;overflow: hidden;padding: 0;position: absolute;width: 1px;}#sk-container-id-1 div.sk-estimator {font-family: monospace;background-color: #f0f8ff;border: 1px dotted black;border-radius: 0.25em;box-sizing: border-box;margin-bottom: 0.5em;}#sk-container-id-1 div.sk-estimator:hover {background-color: #d4ebff;}#sk-container-id-1 div.sk-parallel-item::after {content: \"\";width: 100%;border-bottom: 1px solid gray;flex-grow: 1;}#sk-container-id-1 div.sk-label:hover label.sk-toggleable__label {background-color: #d4ebff;}#sk-container-id-1 div.sk-serial::before {content: \"\";position: absolute;border-left: 1px solid gray;box-sizing: border-box;top: 0;bottom: 0;left: 50%;z-index: 0;}#sk-container-id-1 div.sk-serial {display: flex;flex-direction: column;align-items: center;background-color: white;padding-right: 0.2em;padding-left: 0.2em;position: relative;}#sk-container-id-1 div.sk-item {position: relative;z-index: 1;}#sk-container-id-1 div.sk-parallel {display: flex;align-items: stretch;justify-content: center;background-color: white;position: relative;}#sk-container-id-1 div.sk-item::before, #sk-container-id-1 div.sk-parallel-item::before {content: \"\";position: absolute;border-left: 1px solid gray;box-sizing: border-box;top: 0;bottom: 0;left: 50%;z-index: -1;}#sk-container-id-1 div.sk-parallel-item {display: flex;flex-direction: column;z-index: 1;position: relative;background-color: white;}#sk-container-id-1 div.sk-parallel-item:first-child::after {align-self: flex-end;width: 50%;}#sk-container-id-1 div.sk-parallel-item:last-child::after {align-self: flex-start;width: 50%;}#sk-container-id-1 div.sk-parallel-item:only-child::after {width: 0;}#sk-container-id-1 div.sk-dashed-wrapped {border: 1px dashed gray;margin: 0 0.4em 0.5em 0.4em;box-sizing: border-box;padding-bottom: 0.4em;background-color: white;}#sk-container-id-1 div.sk-label label {font-family: monospace;font-weight: bold;display: inline-block;line-height: 1.2em;}#sk-container-id-1 div.sk-label-container {text-align: center;}#sk-container-id-1 div.sk-container {/* jupyter's `normalize.less` sets `[hidden] { display: none; }` but bootstrap.min.css set `[hidden] { display: none !important; }` so we also need the `!important` here to be able to override the default hidden behavior on the sphinx rendered scikit-learn.org. See: https://github.com/scikit-learn/scikit-learn/issues/21755 */display: inline-block !important;position: relative;}#sk-container-id-1 div.sk-text-repr-fallback {display: none;}</style><div id=\"sk-container-id-1\" class=\"sk-top-container\"><div class=\"sk-text-repr-fallback\"><pre>CountVectorizer(max_features=10000, stop_words=&#x27;english&#x27;)</pre><b>In a Jupyter environment, please rerun this cell to show the HTML representation or trust the notebook. <br />On GitHub, the HTML representation is unable to render, please try loading this page with nbviewer.org.</b></div><div class=\"sk-container\" hidden><div class=\"sk-item\"><div class=\"sk-estimator sk-toggleable\"><input class=\"sk-toggleable__control sk-hidden--visually\" id=\"sk-estimator-id-1\" type=\"checkbox\" checked><label for=\"sk-estimator-id-1\" class=\"sk-toggleable__label sk-toggleable__label-arrow\">CountVectorizer</label><div class=\"sk-toggleable__content\"><pre>CountVectorizer(max_features=10000, stop_words=&#x27;english&#x27;)</pre></div></div></div></div></div>"
     },
     "execution_count": 14,
     "metadata": {},
     "output_type": "execute_result"
    }
   ],
   "source": [
    "count_vect.fit(df_training[\"text\"])"
   ],
   "metadata": {
    "collapsed": false,
    "ExecuteTime": {
     "end_time": "2023-12-10T13:57:01.258998700Z",
     "start_time": "2023-12-10T13:56:56.593996900Z"
    }
   }
  },
  {
   "cell_type": "code",
   "execution_count": 15,
   "outputs": [
    {
     "data": {
      "text/plain": "{'started': 8515,\n 'watching': 9725,\n 'series': 7957,\n 'cable': 1320,\n 'idea': 4488,\n 'hate': 4191,\n 'character': 1544,\n 'hold': 4339,\n 'beautifully': 892,\n 'developed': 2574,\n 'understand': 9375,\n 'react': 7196,\n 'frustration': 3737,\n 'fear': 3439,\n 'greed': 4020,\n 'temptation': 8974,\n 'way': 9736,\n 'viewer': 9574,\n 'experiencing': 3280,\n 'christopher': 1656,\n 'learning': 5199,\n 'br': 1151,\n 'abuse': 188,\n 'physically': 6608,\n 'emotionally': 3046,\n 'just': 4963,\n 'read': 7199,\n 'newspaper': 6088,\n 'women': 9880,\n 'tolerate': 9134,\n 'behavior': 915,\n 'dream': 2831,\n 'house': 4418,\n 'endless': 3074,\n 'supply': 8779,\n 'expensive': 3276,\n 'things': 9036,\n 'sure': 8791,\n 'loving': 5426,\n 'faithful': 3371,\n 'husband': 4465,\n 'maybe': 5640,\n 'watch': 9719,\n 'doesn': 2754,\n 'matter': 5630,\n 'times': 9104,\n 'episode': 3140,\n 'missed': 5813,\n 'episodes': 3141,\n 'sequence': 7950,\n 'season': 7869,\n 'late': 5151,\n 'night': 6101,\n 'commercials': 1874,\n 'language': 5133,\n 'reruns': 7427,\n 'movie': 5938,\n 'network': 6077,\n 've': 9529,\n 'totally': 9171,\n 'spoiled': 8437,\n 'love': 5420,\n 'neck': 6044,\n 'favorite': 3431,\n 'johnny': 4906,\n 'boy': 1144,\n 'entered': 3112,\n 'family': 3386,\n 'sign': 8134,\n 'life': 5270,\n 'ends': 3076,\n 'collected': 1816,\n 'dvd': 2910,\n 'collection': 1818,\n 'steve': 8566,\n 'biko': 984,\n 'black': 1014,\n 'tried': 9269,\n 'resist': 7440,\n 'white': 9800,\n 'minority': 5793,\n 'south': 8365,\n 'africa': 322,\n 'gandhi': 3787,\n 'british': 1209,\n 'empire': 3054,\n 'india': 4604,\n 'richard': 7523,\n 'attenborough': 701,\n 'film': 3509,\n 'freedom': 3707,\n 'donald': 2773,\n 'woods': 9894,\n 'liberal': 5260,\n 'editor': 2967,\n 'trying': 9302,\n 'tell': 8966,\n 'story': 8605,\n 'jarring': 4858,\n 'point': 6709,\n 'view': 9572,\n 'switch': 8855,\n 'dies': 2609,\n 'prison': 6908,\n 'hands': 4136,\n 'african': 323,\n 'police': 6725,\n 'played': 6677,\n 'kevin': 5007,\n 'kline': 5057,\n 'choose': 1632,\n 'right': 7544,\n 'thing': 9035,\n 'flee': 3575,\n 'country': 2133,\n 'books': 1102,\n 'allow': 405,\n 'wife': 9816,\n 'penelope': 6526,\n 'pressure': 6873,\n 'forgetting': 3650,\n 'case': 1443,\n 'vain': 9499,\n 'begins': 908,\n 'changing': 1535,\n 'friendship': 3723,\n 'standard': 8495,\n 'numbers': 6182,\n 'escape': 3162,\n 'border': 1109,\n 'yarn': 9958,\n 'death': 2390,\n 'oscar': 6320,\n 'nominated': 6124,\n 'denzel': 2497,\n 'washington': 9713,\n 'good': 3942,\n 'fourth': 3675,\n 'wrong': 9944,\n 'tries': 9271,\n 'depict': 2505,\n 'struggles': 8653,\n 'focusing': 3610,\n 'trials': 9261,\n 'half': 4117,\n 'served': 7963,\n 'topic': 9155,\n 'better': 965,\n 'rise': 7561,\n 'instead': 4695,\n 'beginning': 907,\n 'actor': 241,\n 'leading': 5190,\n 'role': 7609,\n 'hour': 4416,\n 'wasn': 9714,\n 'exactly': 3220,\n 'big': 975,\n 'box': 1140,\n 'office': 6244,\n 'tremendous': 9255,\n 'flop': 3594,\n 'politics': 6736,\n 'aside': 639,\n 'entertains': 3121,\n 'sends': 7922,\n 'message': 5722,\n 'albeit': 372,\n 'pg': 6580,\n 'fashion': 3412,\n 'stars': 8512,\n 'short': 8087,\n 'comment': 1866,\n 'flick': 3583,\n 'pick': 6613,\n 'chances': 1529,\n 'going': 3930,\n 'positively': 6779,\n 'surprised': 8801,\n 'diversity': 2732,\n 'elements': 3010,\n 'superbly': 8768,\n 'explored': 3304,\n 'criminal': 2209,\n 'thriller': 9066,\n 'claiming': 1697,\n 'pushing': 7062,\n 'room': 7630,\n 'possible': 6788,\n 'wont': 9890,\n 'push': 7059,\n 'nerves': 6071,\n 'edge': 2957,\n 'thumbs': 9081,\n 'horror': 4403,\n 'fan': 3388,\n 'certain': 1509,\n 'marketing': 5572,\n 'used': 9480,\n 'sell': 7910,\n 'movies': 5940,\n 'especially': 3166,\n 'really': 7222,\n 'bad': 789,\n 'ones': 6268,\n 'wouldn': 9922,\n 'assumed': 667,\n 'ripping': 7559,\n 'cannibal': 1365,\n 'zombi': 9993,\n 'jungle': 4957,\n 'holocaust': 4352,\n 'unfortunately': 9405,\n 'completely': 1916,\n 'hardcore': 4160,\n 'realized': 7219,\n 'saw': 7777,\n 'odd': 6229,\n 'actual': 246,\n 'minor': 5792,\n 'warning': 9701,\n 'notice': 6156,\n 'daring': 2344,\n 'catch': 1461,\n 'group': 4057,\n 'scientists': 7822,\n 'pretty': 6880,\n 'led': 5207,\n 'sea': 7858,\n 'captain': 1383,\n 'penchant': 6525,\n 'beach': 876,\n 'search': 7864,\n 'mutated': 5982,\n 'native': 6021,\n 'killing': 5029,\n 'villagers': 9586,\n 'nuclear': 6178,\n 'bomb': 1084,\n 'supposedly': 8788,\n 'island': 4814,\n 'radiation': 7113,\n 'turned': 9315,\n 'man': 5521,\n 'rapist': 7170,\n 'killer': 5027,\n 'writer': 9939,\n 'george': 3845,\n 'succeeds': 8717,\n 'keeping': 4994,\n 'clothes': 1767,\n 'sex': 7984,\n 'scenes': 7802,\n 'whacked': 9787,\n 'walk': 9661,\n 'nude': 6179,\n 'strange': 8613,\n 'asks': 643,\n 'rape': 7164,\n 'turns': 9318,\n 'chicks': 1610,\n 'slapping': 8222,\n 'naturally': 6024,\n 'scene': 7800,\n 'chick': 1608,\n 'toss': 9168,\n 'finger': 3530,\n 'know': 5071,\n 'rest': 7458,\n 'insane': 4667,\n 'oh': 6251,\n 'kidding': 5017,\n 'ton': 9140,\n 'like': 5287,\n 'pays': 6507,\n 'guys': 4095,\n 'tag': 8887,\n 'team': 8940,\n 'taking': 8894,\n 'use': 9479,\n 'cuts': 2293,\n 'refuses': 7296,\n 'advances': 295,\n 'starts': 8519,\n 'crying': 2254,\n 'gentleman': 3839,\n 'reluctantly': 7349,\n 'lets': 5248,\n 'pleasure': 6688,\n 'crew': 2204,\n 'members': 5690,\n 'honestly': 4368,\n 'waiting': 9655,\n 'pizza': 6649,\n 'guy': 4094,\n 'ask': 640,\n 'pay': 6503,\n 'happens': 4152,\n 'conduct': 1953,\n 'research': 7431,\n 'wait': 9653,\n 'thought': 9050,\n 'zombie': 9994,\n 'enter': 3111,\n 'mark': 5568,\n 'time': 9101,\n 'plenty': 6690,\n 'hitting': 4330,\n 'fast': 3416,\n 'forward': 3670,\n 'splatter': 8430,\n 'porn': 6756,\n 'don': 2772,\n 'think': 9037,\n 'does': 2753,\n 'justice': 4964,\n 'guess': 4072,\n 'woman': 9879,\n 'talking': 8905,\n 'say': 7779,\n 'plot': 6694,\n 'hairy': 4114,\n 'funny': 3759,\n 'worked': 9900,\n 'decent': 2404,\n 'atomic': 687,\n 'bombing': 1086,\n 'bitter': 1011,\n 'shakes': 8006,\n 'head': 4213,\n 'walks': 9666,\n 'away': 758,\n 'couple': 2138,\n 'makes': 5510,\n 'wonder': 9882,\n 'disgusted': 2693,\n 'feel': 3454,\n 'sound': 8355,\n 'quality': 7073,\n 'guessed': 4073,\n 'production': 6929,\n 'shot': 8092,\n 'including': 4587,\n 'erotic': 3157,\n 'nights': 6106,\n 'living': 5344,\n 'dead': 2377,\n 'sports': 8450,\n 'cast': 1453,\n 'said': 7716,\n 'wanted': 9685,\n 'vacation': 9495,\n 'paycheck': 6504,\n 'suddenly': 8728,\n 'weird': 9767,\n 'speaking': 8388,\n 'italian': 4824,\n 'recorded': 7255,\n 'english': 3092,\n 'dialogue': 2591,\n 'people': 6532,\n 'clearly': 1724,\n 'hear': 4223,\n 'background': 781,\n 'yes': 9970,\n 'wonderful': 9884,\n 'slightly': 8248,\n 'amusing': 454,\n 'score': 7827,\n 'couldn': 2124,\n 'save': 7772,\n 'sfx': 7992,\n 'minimal': 5785,\n 'best': 959,\n 'consisted': 2006,\n 'blood': 1050,\n 'violent': 9596,\n 'bright': 1199,\n 'label': 5099,\n 'cover': 2150,\n 'ploy': 6698,\n 'presented': 6865,\n 'widescreen': 9810,\n '85': 153,\n 'aspect': 645,\n 'ratio': 7181,\n 'watched': 9721,\n 'region': 7304,\n 'rated': 7176,\n 'version': 9549,\n 'running': 7683,\n 'released': 7334,\n '2005': 104,\n 'exploitation': 3298,\n 'digital': 2623,\n 'apparently': 538,\n 'doubt': 2790,\n 'different': 2616,\n 'shouldn': 8097,\n '25': 116,\n '00': 0,\n 'copy': 2094,\n 'recommend': 7250,\n 'pretend': 6876,\n 'exist': 3256,\n 'quote': 7098,\n 'civilians': 1691,\n 'luck': 5441,\n 'monsters': 5879,\n 'extras': 3331,\n 'original': 6311,\n 'trailer': 9204,\n 'shots': 8094,\n 'kills': 5032,\n 'make': 5507,\n 'look': 5387,\n 'interesting': 4733,\n 'trailers': 9205,\n 'ss': 8467,\n 'hell': 4251,\n 'camp': 1346,\n 'informative': 4642,\n 'interview': 4750,\n 'line': 5308,\n 'lame': 5119,\n 'porno': 6757,\n 'weaker': 9741,\n 'real': 7207,\n 'rating': 7179,\n '10': 3,\n 'molly': 5856,\n 'www': 9954,\n 'com': 1836,\n 'robert': 7588,\n 'cummings': 2268,\n 'day': 2371,\n 'jean': 4866,\n 'star': 8503,\n 'beautiful': 891,\n '1940': 31,\n 'starring': 8511,\n 'billie': 986,\n 'burke': 1282,\n '15': 12,\n 'minutes': 5797,\n 'looks': 5390,\n 'playboy': 6676,\n 'desire': 2541,\n 'sisters': 8181,\n 'katherine': 4982,\n 'helen': 4248,\n 'likes': 5291,\n 'fix': 3554,\n 'cars': 1435,\n 'blonde': 1048,\n 'social': 8302,\n 'butterfly': 1307,\n 'arrives': 612,\n 'town': 9182,\n 'believing': 930,\n 'party': 6464,\n 'decides': 2409,\n 'attend': 702,\n 'given': 3892,\n 'friend': 3720,\n 'mother': 5916,\n 'dress': 2837,\n 'connect': 1976,\n 'sees': 7899,\n 'dinner': 2634,\n 'left': 5210,\n 'club': 1772,\n 'terribly': 8995,\n 'drunk': 2869,\n 'ride': 7533,\n 'car': 1391,\n 'won': 9881,\n 'let': 5245,\n 'drive': 2851,\n 'walking': 9665,\n 'awhile': 764,\n 'breaking': 1175,\n 'shoe': 8077,\n 'gets': 3859,\n 'drives': 2856,\n 'passes': 6472,\n 'takes': 8893,\n 'wheel': 9791,\n 'accidentally': 206,\n 'remember': 7364,\n 'blame': 1021,\n 'sister': 8180,\n 'shoes': 8078,\n 'plus': 6701,\n 'manner': 5540,\n 'realize': 7218,\n 'isn': 4816,\n 'telling': 8967,\n 'truth': 9298,\n 'convicted': 2071,\n 'goes': 3929,\n 'marries': 5580,\n 'leaves': 5204,\n 'america': 439,\n 'list': 5325,\n 'playing': 6681,\n 'taylor': 8932,\n 'mgm': 5737,\n 'handsome': 4137,\n 'amiable': 442,\n 'dazzling': 2375,\n 'actress': 243,\n 'constantly': 2014,\n 'didn': 2603,\n 'great': 4013,\n 'face': 3343,\n 'voice': 9626,\n 'determined': 2569,\n 'sympathetic': 8871,\n 'lovely': 5422,\n 'lousy': 5418,\n 'highly': 4296,\n 'recommended': 7252,\n 'little': 5337,\n 'gem': 3819,\n 'dark': 2345,\n 'overlooked': 6359,\n 'known': 5074,\n 'early': 2927,\n '80': 151,\n 'deserves': 2535,\n 'audience': 717,\n 'damn': 2320,\n 'shame': 8013,\n 'seen': 7898,\n 'compared': 1893,\n 'gotten': 3965,\n 'bigger': 977,\n 'years': 9964,\n 'notably': 6150,\n 'comparisons': 1897,\n 'bit': 1003,\n 'similar': 8147,\n 'slipped': 8252,\n 'acceptance': 198,\n 'remake': 7358,\n 'breathe': 1181,\n 'new': 6082,\n 'unless': 9426,\n 'drained': 2816,\n 'remakes': 7359,\n 'days': 2373,\n 'work': 9899,\n 'lesser': 5240,\n 'films': 3516,\n 'awful': 761,\n 'ghost': 3863,\n 'ship': 8064,\n 'opening': 6275,\n 'falling': 3377,\n 'utter': 9492,\n 'crap': 2169,\n 'happen': 4148,\n 'fall': 3375,\n 'lot': 5410,\n 'haven': 4201,\n 'bring': 1204,\n 'course': 2143,\n 'got': 3961,\n 'eyes': 3338,\n 'anyways': 526,\n 'fans': 3392,\n 'cause': 1474,\n 'creepy': 2203,\n 'setting': 7972,\n 'fairly': 3367,\n 'acting': 234,\n 'campy': 1354,\n 'want': 9684,\n 'nudity': 6180,\n 'gore': 3954,\n 'sorry': 8347,\n 'nonetheless': 6128,\n 'solid': 8315,\n 'enjoy': 3099,\n 'grave': 4006,\n 'robber': 7583,\n 'sitting': 8188,\n 'cell': 1491,\n 'awaiting': 750,\n 'execution': 3251,\n 'visited': 9612,\n 'monk': 5868,\n 'wishing': 9860,\n 'words': 9897,\n 'horrible': 4397,\n 'lead': 5187,\n 'reluctant': 7348,\n 'tongue': 9144,\n 'drink': 2847,\n 'young': 9975,\n 'soon': 8334,\n 'undead': 9366,\n 'bump': 1275,\n 'york': 9974,\n 'filmed': 3510,\n 'brought': 1228,\n 'spirit': 8424,\n 'andy': 467,\n 'milligan': 5769,\n 'lurking': 5457,\n 'comedies': 1850,\n 'come': 1845,\n 'rate': 7175,\n 'dominic': 2770,\n 'plays': 6682,\n 'arthur': 619,\n 'blake': 1020,\n 'ron': 7626,\n 'father': 3423,\n 'statement': 8523,\n 'getting': 3860,\n 'involved': 4786,\n 'tale': 8896,\n 'men': 5695,\n 'having': 4202,\n 'grand': 3985,\n 'old': 6256,\n 'shows': 8109,\n 'equally': 3145,\n 'music': 5972,\n 'jeff': 4869,\n 'grace': 3972,\n 'excellent': 3230,\n 'effects': 2979,\n 'perfect': 6539,\n 'sort': 8348,\n 'silliness': 8143,\n 'deal': 2381,\n 'fun': 3747,\n 'trouble': 9288,\n 'throws': 9076,\n 'net': 6075,\n 'wide': 9807,\n 'result': 7465,\n 'needed': 6047,\n 'alien': 389,\n 'body': 1075,\n 'mix': 5830,\n 'theaters': 9018,\n 'later': 5153,\n 'll': 5347,\n 'worth': 9918,\n 'liked': 5289,\n 'script': 7851,\n 'changed': 1533,\n 'reason': 7225,\n 'rodney': 7603,\n 'dangerfield': 2334,\n 'jackie': 4837,\n 'mason': 5605,\n 'did': 2602,\n 'alot': 413,\n 'kept': 5004,\n 'flaw': 3571,\n 'dan': 2324,\n 'murray': 5968,\n 'carl': 1411,\n 'quit': 7096,\n 'job': 4898,\n 'assistant': 659,\n 'joined': 4909,\n 'military': 5764,\n 'warner': 9700,\n 'bros': 1224,\n 'ii': 4509,\n 'try': 9301,\n 'seeing': 7893,\n 'possibly': 6789,\n 'disappointed': 2662,\n 'fact': 3349,\n 'director': 2646,\n 'cube': 2260,\n 'comedy': 1851,\n 'imdb': 4531,\n 'spell': 8405,\n 'word': 9896,\n 'reminiscent': 7373,\n 'builds': 1263,\n 'slowly': 8258,\n 'gradually': 3976,\n 'explanation': 3291,\n 'mainly': 5500,\n 'set': 7970,\n 'respects': 7452,\n 'probably': 6915,\n 'commented': 1870,\n 'masterpiece': 5614,\n 'spanish': 8378,\n 'cinema': 1673,\n 'masters': 5616,\n 'piece': 6623,\n 'long': 5383,\n 'ago': 338,\n 'midnight': 5753,\n 'cowboy': 2158,\n 'les': 5236,\n 'du': 2872,\n 'realistic': 7213,\n 'non': 6127,\n 'spot': 8451,\n 'trainspotting': 9210,\n 'hard': 4159,\n 'place': 6650,\n 'humour': 4446,\n 'obviously': 6214,\n 'dramatic': 2820,\n 'sense': 7926,\n 'diamond': 2593,\n 'resurrection': 7470,\n 'neo': 6064,\n 'realism': 7211,\n 'mixed': 5831,\n 'ken': 4999,\n 'discover': 2677,\n 'modern': 5849,\n 'tv': 9320,\n 'classic': 1709,\n 'bob': 1072,\n 'girlfriend': 3889,\n 'named': 6003,\n 'alicia': 388,\n 'married': 5579,\n 'bud': 1247,\n 'owen': 6375,\n 'works': 9904,\n 'jealous': 4864,\n 'hanging': 4140,\n 'hangs': 4141,\n 'secretary': 7881,\n 'heather': 4237,\n 'accident': 204,\n 'prone': 6970,\n 'kind': 5035,\n 'lonely': 5380,\n 'wishes': 9859,\n 'friends': 3722,\n 'end': 3069,\n 'looked': 5388,\n 'finally': 3521,\n 'went': 9776,\n 'driving': 2857,\n 'wedding': 9759,\n 'making': 5512,\n 'tiny': 9110,\n 'stuck': 8658,\n 'middle': 5750,\n 'happened': 4149,\n 'poor': 6744,\n 'ended': 3071,\n 'guide': 4078,\n 'fox': 3676,\n 'twice': 9323,\n 'putting': 7064,\n 'air': 356,\n 'loved': 5421,\n 'cool': 2082,\n 'glasses': 3901,\n 'hilarious': 4298,\n 'miss': 5812,\n 'reading': 7203,\n 'book': 1101,\n 'ending': 3072,\n 'missing': 5817,\n 'sad': 7707,\n 'treatment': 9250,\n 'subject': 8692,\n 'quite': 7097,\n 'controversial': 2055,\n 'comments': 1872,\n 'distinction': 2712,\n 'based': 845,\n 'believe': 926,\n 'portrayed': 6768,\n 'basically': 850,\n 'sequels': 7949,\n '30': 122,\n 'values': 9507,\n 'plan': 6658,\n 'outer': 6331,\n 'space': 8370,\n 'level': 5253,\n 'glen': 3902,\n 'glenda': 3903,\n 'ed': 2954,\n 'wood': 9892,\n 'religious': 7347,\n 'scary': 7796,\n 'add': 257,\n 'slightest': 8247,\n 'actually': 247,\n 'close': 1758,\n 'future': 3766,\n 'scarier': 7791,\n 'reasons': 7229,\n 'code': 1792,\n 'thief': 9033,\n 'explain': 3287,\n 'east': 2938,\n 'effect': 2976,\n 'happening': 4150,\n 'forget': 3647,\n 'stories': 8603,\n 'told': 9131,\n 'god': 3921,\n 'frightening': 3727,\n 'wild': 9818,\n 'rebels': 7234,\n 'frustrating': 3736,\n 'deals': 2385,\n 'race': 7104,\n 'driver': 2854,\n 'bikers': 982,\n 'called': 1331,\n 'satan': 7759,\n 'angels': 473,\n 'hang': 4139,\n 'decide': 2406,\n 'rob': 7581,\n 'bank': 818,\n 'cops': 2093,\n 'report': 7406,\n 'dated': 2360,\n 'carry': 1433,\n 'significantly': 8139,\n 'crude': 2247,\n 'stupid': 8679,\n 'band': 814,\n 'stage': 8477,\n 'performing': 6549,\n 'regular': 7308,\n 'generic': 3830,\n 'care': 1396,\n 'taken': 8891,\n 'filmmaker': 3512,\n 'logic': 5369,\n 'direction': 2643,\n 'actors': 242,\n 'parts': 6463,\n 'major': 5505,\n 'indifferent': 4612,\n 'unpredictable': 9439,\n 'comes': 1852,\n 'florida': 3595,\n 'ho': 4334,\n 'worthy': 9921,\n 'mystery': 5992,\n 'science': 7819,\n 'theater': 9017,\n '3000': 124,\n 'status': 8532,\n 'commentary': 1868,\n 'characters': 1550,\n 'screen': 7841,\n 'saying': 7780,\n 'pack': 6390,\n 'low': 5428,\n 'expectations': 3270,\n 'came': 1338,\n 'months': 5887,\n 'tragedy': 9200,\n 'open': 6273,\n 'wounds': 9925,\n 'thank': 9012,\n 'bravery': 1167,\n 'offered': 6240,\n 'closure': 1765,\n 'consider': 1998,\n 'hidden': 4285,\n 'frontier': 3731,\n 'somewhat': 8326,\n 'small': 8265,\n 'met': 5727,\n 'counting': 2130,\n 'conventions': 2062,\n '2001': 100,\n 'continue': 2036,\n 'impressed': 4559,\n 'self': 7908,\n 'studio': 8663,\n 'pictures': 6620,\n 'fancy': 3390,\n 'writers': 9940,\n 'walter': 9673,\n 'aka': 363,\n 'mr': 5942,\n 'manage': 5522,\n 'create': 2183,\n 'replacing': 7403,\n 'ghastly': 3861,\n 'experiment': 3281,\n 'enterprise': 3114,\n 'successful': 8719,\n 'arc': 571,\n 'introduction': 4765,\n 'trek': 9254,\n 'openly': 6276,\n 'gay': 3811,\n 'corey': 2098,\n 'introduced': 4762,\n 'second': 7876,\n 'soul': 8353,\n 'mate': 5622,\n 'meets': 5674,\n 'officer': 6245,\n 'recent': 7241,\n 'lines': 5312,\n 'spoiler': 8438,\n 'causing': 1477,\n 'change': 1532,\n 'conflict': 1964,\n 'relationship': 7325,\n 'uncertain': 9355,\n 'shown': 8108,\n 'chat': 1570,\n 'endure': 3077,\n 'gene': 3823,\n 'created': 2184,\n 'intention': 4723,\n 'flashy': 3566,\n 'battles': 868,\n 'popular': 6752,\n 'previous': 6886,\n 'stated': 8522,\n 'wish': 9857,\n 'higher': 4291,\n 'suffice': 8734,\n 'tradition': 9195,\n 'seven': 7978,\n 'generation': 3828,\n 'willing': 9829,\n 'bet': 960,\n 'final': 3519,\n 'debut': 2398,\n '1958': 50,\n 'enjoyed': 3101,\n 'leave': 5203,\n 'sons': 8332,\n 'harriet': 4176,\n 'dick': 2599,\n 'van': 9510,\n 'lucy': 5444,\n 'enjoying': 3102,\n 'donna': 2774,\n 'reed': 7273,\n 'stone': 8590,\n 'intelligent': 4714,\n 'mannered': 5541,\n 'problem': 6916,\n 'solving': 8321,\n 'stay': 8533,\n 'home': 4356,\n 'mom': 5857,\n 'june': 4956,\n 'contrast': 2045,\n 'ms': 5944,\n 'dad': 2304,\n 'boxing': 1143,\n 'teaching': 8939,\n 'son': 8327,\n 'defend': 2430,\n 'larger': 5141,\n 'bully': 1271,\n 'mothers': 5917,\n 'neighborhood': 6056,\n 'grew': 4030,\n 'idealistic': 4490,\n 'standards': 8496,\n 'refreshing': 7291,\n 'manners': 5543,\n 'decision': 2411,\n 'today': 9124,\n 'accepted': 199,\n 'indifference': 4611,\n 'neighbors': 6057,\n 'imagine': 4528,\n 'mary': 5599,\n 'parents': 6443,\n 'okay': 6254,\n 'leaving': 5205,\n 'dog': 2755,\n 'outside': 6345,\n 'acceptable': 197,\n 'shut': 8114,\n 'supermarket': 8775,\n 'cinematography': 1678,\n 'highlights': 4295,\n 'true': 9292,\n 'account': 216,\n '1950s': 43,\n ...}"
     },
     "execution_count": 15,
     "metadata": {},
     "output_type": "execute_result"
    }
   ],
   "source": [
    "count_vect.vocabulary_"
   ],
   "metadata": {
    "collapsed": false,
    "ExecuteTime": {
     "end_time": "2023-12-10T13:57:01.299994500Z",
     "start_time": "2023-12-10T13:57:01.259997300Z"
    }
   }
  },
  {
   "cell_type": "code",
   "execution_count": 16,
   "outputs": [],
   "source": [
    "X_train = count_vect.transform(df_training[\"text\"])\n",
    "X_val = count_vect.transform(df_val[\"text\"])\n",
    "X_test = count_vect.transform(df_test[\"text\"])"
   ],
   "metadata": {
    "collapsed": false,
    "ExecuteTime": {
     "end_time": "2023-12-10T13:57:07.747037900Z",
     "start_time": "2023-12-10T13:57:01.291997300Z"
    }
   }
  },
  {
   "cell_type": "code",
   "execution_count": 29,
   "outputs": [
    {
     "data": {
      "text/plain": "(35000, 10000)"
     },
     "execution_count": 29,
     "metadata": {},
     "output_type": "execute_result"
    }
   ],
   "source": [
    "X_train.shape"
   ],
   "metadata": {
    "collapsed": false,
    "ExecuteTime": {
     "end_time": "2023-12-10T14:06:17.090008200Z",
     "start_time": "2023-12-10T14:06:17.071008400Z"
    }
   }
  },
  {
   "cell_type": "code",
   "execution_count": 17,
   "outputs": [
    {
     "data": {
      "text/plain": "(10000,)"
     },
     "execution_count": 17,
     "metadata": {},
     "output_type": "execute_result"
    }
   ],
   "source": [
    "fc_vec = np.array(X_train[0].todense())[0]\n",
    "fc_vec.shape"
   ],
   "metadata": {
    "collapsed": false,
    "ExecuteTime": {
     "end_time": "2023-12-10T13:57:07.763997500Z",
     "start_time": "2023-12-10T13:57:07.749998200Z"
    }
   }
  },
  {
   "cell_type": "code",
   "execution_count": 18,
   "outputs": [
    {
     "data": {
      "text/plain": "array([9926,   67,    5,    0,    1,    0,    1], dtype=int64)"
     },
     "execution_count": 18,
     "metadata": {},
     "output_type": "execute_result"
    }
   ],
   "source": [
    "np.bincount(fc_vec)"
   ],
   "metadata": {
    "collapsed": false,
    "ExecuteTime": {
     "end_time": "2023-12-10T13:57:07.808997700Z",
     "start_time": "2023-12-10T13:57:07.765996600Z"
    }
   }
  },
  {
   "cell_type": "markdown",
   "source": [
    "## Custom dataloader"
   ],
   "metadata": {
    "collapsed": false
   }
  },
  {
   "cell_type": "code",
   "execution_count": 19,
   "outputs": [],
   "source": [
    "from torch.utils.data import Dataset, DataLoader\n",
    "\n",
    "class TextDataset(Dataset):\n",
    "\n",
    "    def __init__(self, X, y):\n",
    "        self._features = torch.tensor(X, dtype=torch.float32)\n",
    "        self._labels = torch.tensor(y, dtype=torch.int64)\n",
    "\n",
    "    def __getitem__(self, indx):\n",
    "        x = self._features[indx]\n",
    "        y = self._labels[indx]\n",
    "\n",
    "        return x, y\n",
    "\n",
    "    def __len__(self):\n",
    "        return self._labels.shape[0]\n",
    "\n"
   ],
   "metadata": {
    "collapsed": false,
    "ExecuteTime": {
     "end_time": "2023-12-10T13:57:07.816995900Z",
     "start_time": "2023-12-10T13:57:07.782996400Z"
    }
   }
  },
  {
   "cell_type": "code",
   "execution_count": 20,
   "outputs": [],
   "source": [
    "train_ds = TextDataset(X_train.todense(), df_training[\"label\"].values)\n",
    "\n",
    "train_dl = DataLoader(\n",
    "    dataset=train_ds,\n",
    "    batch_size=32,\n",
    "    shuffle=True,\n",
    ")"
   ],
   "metadata": {
    "collapsed": false,
    "ExecuteTime": {
     "end_time": "2023-12-10T13:57:08.824995200Z",
     "start_time": "2023-12-10T13:57:07.797000300Z"
    }
   }
  },
  {
   "cell_type": "code",
   "execution_count": 21,
   "outputs": [],
   "source": [
    "val_ds = TextDataset(X_val.todense(), df_val[\"label\"].values)\n",
    "\n",
    "val_dl = DataLoader(\n",
    "    dataset=val_ds,\n",
    "    batch_size=32,\n",
    "    shuffle=True,\n",
    ")"
   ],
   "metadata": {
    "collapsed": false,
    "ExecuteTime": {
     "end_time": "2023-12-10T13:57:09.028995800Z",
     "start_time": "2023-12-10T13:57:08.827995700Z"
    }
   }
  },
  {
   "cell_type": "code",
   "execution_count": 22,
   "outputs": [],
   "source": [
    "test_ds = TextDataset(X_test.todense(), df_test[\"label\"].values)\n",
    "\n",
    "test_dl = DataLoader(\n",
    "    dataset=test_ds,\n",
    "    batch_size=32,\n",
    "    shuffle=True,\n",
    ")"
   ],
   "metadata": {
    "collapsed": false,
    "ExecuteTime": {
     "end_time": "2023-12-10T13:57:09.372994400Z",
     "start_time": "2023-12-10T13:57:09.030996Z"
    }
   }
  },
  {
   "cell_type": "code",
   "execution_count": 23,
   "outputs": [],
   "source": [
    "for batch_idx, (features, class_labels) in enumerate(train_dl):\n",
    "    break"
   ],
   "metadata": {
    "collapsed": false,
    "ExecuteTime": {
     "end_time": "2023-12-10T13:57:09.387994800Z",
     "start_time": "2023-12-10T13:57:09.375994800Z"
    }
   }
  },
  {
   "cell_type": "markdown",
   "source": [
    "## BoW Classifier"
   ],
   "metadata": {
    "collapsed": false
   }
  },
  {
   "cell_type": "code",
   "execution_count": 24,
   "outputs": [],
   "source": [
    "class LogisticRegression(torch.nn.Module):\n",
    "\n",
    "    def __init__(self, num_features, num_classes):\n",
    "        super().__init__()\n",
    "        self._linear = torch.nn.Linear(num_features, num_classes)\n",
    "\n",
    "    def forward(self, x):\n",
    "        logits = self._linear(x)\n",
    "        return logits\n",
    "\n",
    "\n",
    "pt_model = LogisticRegression(num_features=10000, num_classes=2)"
   ],
   "metadata": {
    "collapsed": false,
    "ExecuteTime": {
     "end_time": "2023-12-10T13:57:09.409994600Z",
     "start_time": "2023-12-10T13:57:09.388996400Z"
    }
   }
  },
  {
   "cell_type": "code",
   "execution_count": 25,
   "outputs": [],
   "source": [
    "from lightning.pytorch.callbacks import ModelCheckpoint\n",
    "\n",
    "callbacks = [\n",
    "    ModelCheckpoint(save_top_k=1, mode=\"max\", monitor=\"val_acc\", save_last=True)\n",
    "]"
   ],
   "metadata": {
    "collapsed": false,
    "ExecuteTime": {
     "end_time": "2023-12-10T13:57:09.420994500Z",
     "start_time": "2023-12-10T13:57:09.405994100Z"
    }
   }
  },
  {
   "cell_type": "code",
   "execution_count": 26,
   "outputs": [],
   "source": [
    "lt_model = LightningModel(model=pt_model, learning_rate=0.01)"
   ],
   "metadata": {
    "collapsed": false,
    "ExecuteTime": {
     "end_time": "2023-12-10T13:57:09.443995800Z",
     "start_time": "2023-12-10T13:57:09.420994500Z"
    }
   }
  },
  {
   "cell_type": "code",
   "execution_count": 27,
   "outputs": [
    {
     "name": "stderr",
     "output_type": "stream",
     "text": [
      "GPU available: True (cuda), used: True\n",
      "TPU available: False, using: 0 TPU cores\n",
      "IPU available: False, using: 0 IPUs\n",
      "HPU available: False, using: 0 HPUs\n"
     ]
    }
   ],
   "source": [
    "trainer = L.Trainer(\n",
    "    callbacks=callbacks,\n",
    "    max_epochs=20,\n",
    "    accelerator=\"auto\",\n",
    "    logger=CSVLogger(save_dir=\"logs/\", name=\"lt_model\"),\n",
    "    deterministic=True\n",
    ")"
   ],
   "metadata": {
    "collapsed": false,
    "ExecuteTime": {
     "end_time": "2023-12-10T13:57:09.824995600Z",
     "start_time": "2023-12-10T13:57:09.435995800Z"
    }
   }
  },
  {
   "cell_type": "code",
   "execution_count": 30,
   "outputs": [
    {
     "name": "stderr",
     "output_type": "stream",
     "text": [
      "D:\\Programming Train\\dl_lightning_ai_course\\venv\\lib\\site-packages\\lightning\\pytorch\\callbacks\\model_checkpoint.py:630: Checkpoint directory logs/lt_model\\version_0\\checkpoints exists and is not empty.\n",
      "LOCAL_RANK: 0 - CUDA_VISIBLE_DEVICES: [0]\n",
      "\n",
      "  | Name      | Type               | Params\n",
      "-------------------------------------------------\n",
      "0 | model     | LogisticRegression | 20.0 K\n",
      "1 | train_acc | MulticlassAccuracy | 0     \n",
      "2 | val_acc   | MulticlassAccuracy | 0     \n",
      "3 | test_acc  | MulticlassAccuracy | 0     \n",
      "-------------------------------------------------\n",
      "20.0 K    Trainable params\n",
      "0         Non-trainable params\n",
      "20.0 K    Total params\n",
      "0.080     Total estimated model params size (MB)\n"
     ]
    },
    {
     "data": {
      "text/plain": "Sanity Checking: |          | 0/? [00:00<?, ?it/s]",
      "application/vnd.jupyter.widget-view+json": {
       "version_major": 2,
       "version_minor": 0,
       "model_id": "674c31b985ad4308b3f480a73c113f12"
      }
     },
     "metadata": {},
     "output_type": "display_data"
    },
    {
     "name": "stderr",
     "output_type": "stream",
     "text": [
      "D:\\Programming Train\\dl_lightning_ai_course\\venv\\lib\\site-packages\\lightning\\pytorch\\trainer\\connectors\\data_connector.py:492: Your `val_dataloader`'s sampler has shuffling enabled, it is strongly recommended that you turn shuffling off for val/test dataloaders.\n",
      "D:\\Programming Train\\dl_lightning_ai_course\\venv\\lib\\site-packages\\lightning\\pytorch\\trainer\\connectors\\data_connector.py:441: The 'val_dataloader' does not have many workers which may be a bottleneck. Consider increasing the value of the `num_workers` argument` to `num_workers=11` in the `DataLoader` to improve performance.\n",
      "D:\\Programming Train\\dl_lightning_ai_course\\venv\\lib\\site-packages\\lightning\\pytorch\\trainer\\connectors\\data_connector.py:441: The 'train_dataloader' does not have many workers which may be a bottleneck. Consider increasing the value of the `num_workers` argument` to `num_workers=11` in the `DataLoader` to improve performance.\n"
     ]
    },
    {
     "data": {
      "text/plain": "Training: |          | 0/? [00:00<?, ?it/s]",
      "application/vnd.jupyter.widget-view+json": {
       "version_major": 2,
       "version_minor": 0,
       "model_id": "2627df4818384492a2fa6f4146603cc9"
      }
     },
     "metadata": {},
     "output_type": "display_data"
    },
    {
     "data": {
      "text/plain": "Validation: |          | 0/? [00:00<?, ?it/s]",
      "application/vnd.jupyter.widget-view+json": {
       "version_major": 2,
       "version_minor": 0,
       "model_id": "923f94a2f27d42b688791b8b2cd08c0a"
      }
     },
     "metadata": {},
     "output_type": "display_data"
    },
    {
     "ename": "OSError",
     "evalue": "[WinError 1314] Клиент не обладает требуемыми правами: 'logs/lt_model\\\\version_0\\\\checkpoints\\\\epoch=1-step=2188.ckpt' -> 'logs/lt_model\\\\version_0\\\\checkpoints\\\\last.ckpt'",
     "output_type": "error",
     "traceback": [
      "\u001B[1;31m---------------------------------------------------------------------------\u001B[0m",
      "\u001B[1;31mOSError\u001B[0m                                   Traceback (most recent call last)",
      "Cell \u001B[1;32mIn[30], line 1\u001B[0m\n\u001B[1;32m----> 1\u001B[0m \u001B[43mtrainer\u001B[49m\u001B[38;5;241;43m.\u001B[39;49m\u001B[43mfit\u001B[49m\u001B[43m(\u001B[49m\u001B[43mmodel\u001B[49m\u001B[38;5;241;43m=\u001B[39;49m\u001B[43mlt_model\u001B[49m\u001B[43m,\u001B[49m\u001B[43m \u001B[49m\u001B[43mtrain_dataloaders\u001B[49m\u001B[38;5;241;43m=\u001B[39;49m\u001B[43mtrain_dl\u001B[49m\u001B[43m,\u001B[49m\u001B[43m \u001B[49m\u001B[43mval_dataloaders\u001B[49m\u001B[38;5;241;43m=\u001B[39;49m\u001B[43mval_dl\u001B[49m\u001B[43m)\u001B[49m\n",
      "File \u001B[1;32mD:\\Programming Train\\dl_lightning_ai_course\\venv\\lib\\site-packages\\lightning\\pytorch\\trainer\\trainer.py:545\u001B[0m, in \u001B[0;36mTrainer.fit\u001B[1;34m(self, model, train_dataloaders, val_dataloaders, datamodule, ckpt_path)\u001B[0m\n\u001B[0;32m    543\u001B[0m \u001B[38;5;28mself\u001B[39m\u001B[38;5;241m.\u001B[39mstate\u001B[38;5;241m.\u001B[39mstatus \u001B[38;5;241m=\u001B[39m TrainerStatus\u001B[38;5;241m.\u001B[39mRUNNING\n\u001B[0;32m    544\u001B[0m \u001B[38;5;28mself\u001B[39m\u001B[38;5;241m.\u001B[39mtraining \u001B[38;5;241m=\u001B[39m \u001B[38;5;28;01mTrue\u001B[39;00m\n\u001B[1;32m--> 545\u001B[0m \u001B[43mcall\u001B[49m\u001B[38;5;241;43m.\u001B[39;49m\u001B[43m_call_and_handle_interrupt\u001B[49m\u001B[43m(\u001B[49m\n\u001B[0;32m    546\u001B[0m \u001B[43m    \u001B[49m\u001B[38;5;28;43mself\u001B[39;49m\u001B[43m,\u001B[49m\u001B[43m \u001B[49m\u001B[38;5;28;43mself\u001B[39;49m\u001B[38;5;241;43m.\u001B[39;49m\u001B[43m_fit_impl\u001B[49m\u001B[43m,\u001B[49m\u001B[43m \u001B[49m\u001B[43mmodel\u001B[49m\u001B[43m,\u001B[49m\u001B[43m \u001B[49m\u001B[43mtrain_dataloaders\u001B[49m\u001B[43m,\u001B[49m\u001B[43m \u001B[49m\u001B[43mval_dataloaders\u001B[49m\u001B[43m,\u001B[49m\u001B[43m \u001B[49m\u001B[43mdatamodule\u001B[49m\u001B[43m,\u001B[49m\u001B[43m \u001B[49m\u001B[43mckpt_path\u001B[49m\n\u001B[0;32m    547\u001B[0m \u001B[43m\u001B[49m\u001B[43m)\u001B[49m\n",
      "File \u001B[1;32mD:\\Programming Train\\dl_lightning_ai_course\\venv\\lib\\site-packages\\lightning\\pytorch\\trainer\\call.py:44\u001B[0m, in \u001B[0;36m_call_and_handle_interrupt\u001B[1;34m(trainer, trainer_fn, *args, **kwargs)\u001B[0m\n\u001B[0;32m     42\u001B[0m     \u001B[38;5;28;01mif\u001B[39;00m trainer\u001B[38;5;241m.\u001B[39mstrategy\u001B[38;5;241m.\u001B[39mlauncher \u001B[38;5;129;01mis\u001B[39;00m \u001B[38;5;129;01mnot\u001B[39;00m \u001B[38;5;28;01mNone\u001B[39;00m:\n\u001B[0;32m     43\u001B[0m         \u001B[38;5;28;01mreturn\u001B[39;00m trainer\u001B[38;5;241m.\u001B[39mstrategy\u001B[38;5;241m.\u001B[39mlauncher\u001B[38;5;241m.\u001B[39mlaunch(trainer_fn, \u001B[38;5;241m*\u001B[39margs, trainer\u001B[38;5;241m=\u001B[39mtrainer, \u001B[38;5;241m*\u001B[39m\u001B[38;5;241m*\u001B[39mkwargs)\n\u001B[1;32m---> 44\u001B[0m     \u001B[38;5;28;01mreturn\u001B[39;00m trainer_fn(\u001B[38;5;241m*\u001B[39margs, \u001B[38;5;241m*\u001B[39m\u001B[38;5;241m*\u001B[39mkwargs)\n\u001B[0;32m     46\u001B[0m \u001B[38;5;28;01mexcept\u001B[39;00m _TunerExitException:\n\u001B[0;32m     47\u001B[0m     _call_teardown_hook(trainer)\n",
      "File \u001B[1;32mD:\\Programming Train\\dl_lightning_ai_course\\venv\\lib\\site-packages\\lightning\\pytorch\\trainer\\trainer.py:581\u001B[0m, in \u001B[0;36mTrainer._fit_impl\u001B[1;34m(self, model, train_dataloaders, val_dataloaders, datamodule, ckpt_path)\u001B[0m\n\u001B[0;32m    574\u001B[0m \u001B[38;5;28;01massert\u001B[39;00m \u001B[38;5;28mself\u001B[39m\u001B[38;5;241m.\u001B[39mstate\u001B[38;5;241m.\u001B[39mfn \u001B[38;5;129;01mis\u001B[39;00m \u001B[38;5;129;01mnot\u001B[39;00m \u001B[38;5;28;01mNone\u001B[39;00m\n\u001B[0;32m    575\u001B[0m ckpt_path \u001B[38;5;241m=\u001B[39m \u001B[38;5;28mself\u001B[39m\u001B[38;5;241m.\u001B[39m_checkpoint_connector\u001B[38;5;241m.\u001B[39m_select_ckpt_path(\n\u001B[0;32m    576\u001B[0m     \u001B[38;5;28mself\u001B[39m\u001B[38;5;241m.\u001B[39mstate\u001B[38;5;241m.\u001B[39mfn,\n\u001B[0;32m    577\u001B[0m     ckpt_path,\n\u001B[0;32m    578\u001B[0m     model_provided\u001B[38;5;241m=\u001B[39m\u001B[38;5;28;01mTrue\u001B[39;00m,\n\u001B[0;32m    579\u001B[0m     model_connected\u001B[38;5;241m=\u001B[39m\u001B[38;5;28mself\u001B[39m\u001B[38;5;241m.\u001B[39mlightning_module \u001B[38;5;129;01mis\u001B[39;00m \u001B[38;5;129;01mnot\u001B[39;00m \u001B[38;5;28;01mNone\u001B[39;00m,\n\u001B[0;32m    580\u001B[0m )\n\u001B[1;32m--> 581\u001B[0m \u001B[38;5;28;43mself\u001B[39;49m\u001B[38;5;241;43m.\u001B[39;49m\u001B[43m_run\u001B[49m\u001B[43m(\u001B[49m\u001B[43mmodel\u001B[49m\u001B[43m,\u001B[49m\u001B[43m \u001B[49m\u001B[43mckpt_path\u001B[49m\u001B[38;5;241;43m=\u001B[39;49m\u001B[43mckpt_path\u001B[49m\u001B[43m)\u001B[49m\n\u001B[0;32m    583\u001B[0m \u001B[38;5;28;01massert\u001B[39;00m \u001B[38;5;28mself\u001B[39m\u001B[38;5;241m.\u001B[39mstate\u001B[38;5;241m.\u001B[39mstopped\n\u001B[0;32m    584\u001B[0m \u001B[38;5;28mself\u001B[39m\u001B[38;5;241m.\u001B[39mtraining \u001B[38;5;241m=\u001B[39m \u001B[38;5;28;01mFalse\u001B[39;00m\n",
      "File \u001B[1;32mD:\\Programming Train\\dl_lightning_ai_course\\venv\\lib\\site-packages\\lightning\\pytorch\\trainer\\trainer.py:990\u001B[0m, in \u001B[0;36mTrainer._run\u001B[1;34m(self, model, ckpt_path)\u001B[0m\n\u001B[0;32m    985\u001B[0m \u001B[38;5;28mself\u001B[39m\u001B[38;5;241m.\u001B[39m_signal_connector\u001B[38;5;241m.\u001B[39mregister_signal_handlers()\n\u001B[0;32m    987\u001B[0m \u001B[38;5;66;03m# ----------------------------\u001B[39;00m\n\u001B[0;32m    988\u001B[0m \u001B[38;5;66;03m# RUN THE TRAINER\u001B[39;00m\n\u001B[0;32m    989\u001B[0m \u001B[38;5;66;03m# ----------------------------\u001B[39;00m\n\u001B[1;32m--> 990\u001B[0m results \u001B[38;5;241m=\u001B[39m \u001B[38;5;28;43mself\u001B[39;49m\u001B[38;5;241;43m.\u001B[39;49m\u001B[43m_run_stage\u001B[49m\u001B[43m(\u001B[49m\u001B[43m)\u001B[49m\n\u001B[0;32m    992\u001B[0m \u001B[38;5;66;03m# ----------------------------\u001B[39;00m\n\u001B[0;32m    993\u001B[0m \u001B[38;5;66;03m# POST-Training CLEAN UP\u001B[39;00m\n\u001B[0;32m    994\u001B[0m \u001B[38;5;66;03m# ----------------------------\u001B[39;00m\n\u001B[0;32m    995\u001B[0m log\u001B[38;5;241m.\u001B[39mdebug(\u001B[38;5;124mf\u001B[39m\u001B[38;5;124m\"\u001B[39m\u001B[38;5;132;01m{\u001B[39;00m\u001B[38;5;28mself\u001B[39m\u001B[38;5;241m.\u001B[39m\u001B[38;5;18m__class__\u001B[39m\u001B[38;5;241m.\u001B[39m\u001B[38;5;18m__name__\u001B[39m\u001B[38;5;132;01m}\u001B[39;00m\u001B[38;5;124m: trainer tearing down\u001B[39m\u001B[38;5;124m\"\u001B[39m)\n",
      "File \u001B[1;32mD:\\Programming Train\\dl_lightning_ai_course\\venv\\lib\\site-packages\\lightning\\pytorch\\trainer\\trainer.py:1036\u001B[0m, in \u001B[0;36mTrainer._run_stage\u001B[1;34m(self)\u001B[0m\n\u001B[0;32m   1034\u001B[0m         \u001B[38;5;28mself\u001B[39m\u001B[38;5;241m.\u001B[39m_run_sanity_check()\n\u001B[0;32m   1035\u001B[0m     \u001B[38;5;28;01mwith\u001B[39;00m torch\u001B[38;5;241m.\u001B[39mautograd\u001B[38;5;241m.\u001B[39mset_detect_anomaly(\u001B[38;5;28mself\u001B[39m\u001B[38;5;241m.\u001B[39m_detect_anomaly):\n\u001B[1;32m-> 1036\u001B[0m         \u001B[38;5;28;43mself\u001B[39;49m\u001B[38;5;241;43m.\u001B[39;49m\u001B[43mfit_loop\u001B[49m\u001B[38;5;241;43m.\u001B[39;49m\u001B[43mrun\u001B[49m\u001B[43m(\u001B[49m\u001B[43m)\u001B[49m\n\u001B[0;32m   1037\u001B[0m     \u001B[38;5;28;01mreturn\u001B[39;00m \u001B[38;5;28;01mNone\u001B[39;00m\n\u001B[0;32m   1038\u001B[0m \u001B[38;5;28;01mraise\u001B[39;00m \u001B[38;5;167;01mRuntimeError\u001B[39;00m(\u001B[38;5;124mf\u001B[39m\u001B[38;5;124m\"\u001B[39m\u001B[38;5;124mUnexpected state \u001B[39m\u001B[38;5;132;01m{\u001B[39;00m\u001B[38;5;28mself\u001B[39m\u001B[38;5;241m.\u001B[39mstate\u001B[38;5;132;01m}\u001B[39;00m\u001B[38;5;124m\"\u001B[39m)\n",
      "File \u001B[1;32mD:\\Programming Train\\dl_lightning_ai_course\\venv\\lib\\site-packages\\lightning\\pytorch\\loops\\fit_loop.py:203\u001B[0m, in \u001B[0;36m_FitLoop.run\u001B[1;34m(self)\u001B[0m\n\u001B[0;32m    201\u001B[0m     \u001B[38;5;28mself\u001B[39m\u001B[38;5;241m.\u001B[39mon_advance_start()\n\u001B[0;32m    202\u001B[0m     \u001B[38;5;28mself\u001B[39m\u001B[38;5;241m.\u001B[39madvance()\n\u001B[1;32m--> 203\u001B[0m     \u001B[38;5;28;43mself\u001B[39;49m\u001B[38;5;241;43m.\u001B[39;49m\u001B[43mon_advance_end\u001B[49m\u001B[43m(\u001B[49m\u001B[43m)\u001B[49m\n\u001B[0;32m    204\u001B[0m     \u001B[38;5;28mself\u001B[39m\u001B[38;5;241m.\u001B[39m_restarting \u001B[38;5;241m=\u001B[39m \u001B[38;5;28;01mFalse\u001B[39;00m\n\u001B[0;32m    205\u001B[0m \u001B[38;5;28;01mexcept\u001B[39;00m \u001B[38;5;167;01mStopIteration\u001B[39;00m:\n",
      "File \u001B[1;32mD:\\Programming Train\\dl_lightning_ai_course\\venv\\lib\\site-packages\\lightning\\pytorch\\loops\\fit_loop.py:374\u001B[0m, in \u001B[0;36m_FitLoop.on_advance_end\u001B[1;34m(self)\u001B[0m\n\u001B[0;32m    372\u001B[0m call\u001B[38;5;241m.\u001B[39m_call_callback_hooks(trainer, \u001B[38;5;124m\"\u001B[39m\u001B[38;5;124mon_train_epoch_end\u001B[39m\u001B[38;5;124m\"\u001B[39m, monitoring_callbacks\u001B[38;5;241m=\u001B[39m\u001B[38;5;28;01mFalse\u001B[39;00m)\n\u001B[0;32m    373\u001B[0m call\u001B[38;5;241m.\u001B[39m_call_lightning_module_hook(trainer, \u001B[38;5;124m\"\u001B[39m\u001B[38;5;124mon_train_epoch_end\u001B[39m\u001B[38;5;124m\"\u001B[39m)\n\u001B[1;32m--> 374\u001B[0m \u001B[43mcall\u001B[49m\u001B[38;5;241;43m.\u001B[39;49m\u001B[43m_call_callback_hooks\u001B[49m\u001B[43m(\u001B[49m\u001B[43mtrainer\u001B[49m\u001B[43m,\u001B[49m\u001B[43m \u001B[49m\u001B[38;5;124;43m\"\u001B[39;49m\u001B[38;5;124;43mon_train_epoch_end\u001B[39;49m\u001B[38;5;124;43m\"\u001B[39;49m\u001B[43m,\u001B[49m\u001B[43m \u001B[49m\u001B[43mmonitoring_callbacks\u001B[49m\u001B[38;5;241;43m=\u001B[39;49m\u001B[38;5;28;43;01mTrue\u001B[39;49;00m\u001B[43m)\u001B[49m\n\u001B[0;32m    376\u001B[0m trainer\u001B[38;5;241m.\u001B[39m_logger_connector\u001B[38;5;241m.\u001B[39mon_epoch_end()\n\u001B[0;32m    378\u001B[0m \u001B[38;5;28;01mif\u001B[39;00m \u001B[38;5;28mself\u001B[39m\u001B[38;5;241m.\u001B[39mepoch_loop\u001B[38;5;241m.\u001B[39m_num_ready_batches_reached():\n\u001B[0;32m    379\u001B[0m     \u001B[38;5;66;03m# if we are restarting and the above condition holds, it's because we are reloading an epoch-end checkpoint.\u001B[39;00m\n\u001B[0;32m    380\u001B[0m     \u001B[38;5;66;03m# since metric-based schedulers require access to metrics and those are not currently saved in the\u001B[39;00m\n\u001B[0;32m    381\u001B[0m     \u001B[38;5;66;03m# checkpoint, the plateau schedulers shouldn't be updated\u001B[39;00m\n",
      "File \u001B[1;32mD:\\Programming Train\\dl_lightning_ai_course\\venv\\lib\\site-packages\\lightning\\pytorch\\trainer\\call.py:208\u001B[0m, in \u001B[0;36m_call_callback_hooks\u001B[1;34m(trainer, hook_name, monitoring_callbacks, *args, **kwargs)\u001B[0m\n\u001B[0;32m    206\u001B[0m     \u001B[38;5;28;01mif\u001B[39;00m \u001B[38;5;28mcallable\u001B[39m(fn):\n\u001B[0;32m    207\u001B[0m         \u001B[38;5;28;01mwith\u001B[39;00m trainer\u001B[38;5;241m.\u001B[39mprofiler\u001B[38;5;241m.\u001B[39mprofile(\u001B[38;5;124mf\u001B[39m\u001B[38;5;124m\"\u001B[39m\u001B[38;5;124m[Callback]\u001B[39m\u001B[38;5;132;01m{\u001B[39;00mcallback\u001B[38;5;241m.\u001B[39mstate_key\u001B[38;5;132;01m}\u001B[39;00m\u001B[38;5;124m.\u001B[39m\u001B[38;5;132;01m{\u001B[39;00mhook_name\u001B[38;5;132;01m}\u001B[39;00m\u001B[38;5;124m\"\u001B[39m):\n\u001B[1;32m--> 208\u001B[0m             fn(trainer, trainer\u001B[38;5;241m.\u001B[39mlightning_module, \u001B[38;5;241m*\u001B[39margs, \u001B[38;5;241m*\u001B[39m\u001B[38;5;241m*\u001B[39mkwargs)\n\u001B[0;32m    210\u001B[0m \u001B[38;5;28;01mif\u001B[39;00m pl_module:\n\u001B[0;32m    211\u001B[0m     \u001B[38;5;66;03m# restore current_fx when nested context\u001B[39;00m\n\u001B[0;32m    212\u001B[0m     pl_module\u001B[38;5;241m.\u001B[39m_current_fx_name \u001B[38;5;241m=\u001B[39m prev_fx_name\n",
      "File \u001B[1;32mD:\\Programming Train\\dl_lightning_ai_course\\venv\\lib\\site-packages\\lightning\\pytorch\\callbacks\\model_checkpoint.py:312\u001B[0m, in \u001B[0;36mModelCheckpoint.on_train_epoch_end\u001B[1;34m(self, trainer, pl_module)\u001B[0m\n\u001B[0;32m    310\u001B[0m \u001B[38;5;28;01mif\u001B[39;00m \u001B[38;5;28mself\u001B[39m\u001B[38;5;241m.\u001B[39m_every_n_epochs \u001B[38;5;241m>\u001B[39m\u001B[38;5;241m=\u001B[39m \u001B[38;5;241m1\u001B[39m \u001B[38;5;129;01mand\u001B[39;00m (trainer\u001B[38;5;241m.\u001B[39mcurrent_epoch \u001B[38;5;241m+\u001B[39m \u001B[38;5;241m1\u001B[39m) \u001B[38;5;241m%\u001B[39m \u001B[38;5;28mself\u001B[39m\u001B[38;5;241m.\u001B[39m_every_n_epochs \u001B[38;5;241m==\u001B[39m \u001B[38;5;241m0\u001B[39m:\n\u001B[0;32m    311\u001B[0m     \u001B[38;5;28mself\u001B[39m\u001B[38;5;241m.\u001B[39m_save_topk_checkpoint(trainer, monitor_candidates)\n\u001B[1;32m--> 312\u001B[0m \u001B[38;5;28;43mself\u001B[39;49m\u001B[38;5;241;43m.\u001B[39;49m\u001B[43m_save_last_checkpoint\u001B[49m\u001B[43m(\u001B[49m\u001B[43mtrainer\u001B[49m\u001B[43m,\u001B[49m\u001B[43m \u001B[49m\u001B[43mmonitor_candidates\u001B[49m\u001B[43m)\u001B[49m\n",
      "File \u001B[1;32mD:\\Programming Train\\dl_lightning_ai_course\\venv\\lib\\site-packages\\lightning\\pytorch\\callbacks\\model_checkpoint.py:670\u001B[0m, in \u001B[0;36mModelCheckpoint._save_last_checkpoint\u001B[1;34m(self, trainer, monitor_candidates)\u001B[0m\n\u001B[0;32m    668\u001B[0m previous, \u001B[38;5;28mself\u001B[39m\u001B[38;5;241m.\u001B[39mlast_model_path \u001B[38;5;241m=\u001B[39m \u001B[38;5;28mself\u001B[39m\u001B[38;5;241m.\u001B[39mlast_model_path, filepath\n\u001B[0;32m    669\u001B[0m \u001B[38;5;28;01mif\u001B[39;00m \u001B[38;5;28mself\u001B[39m\u001B[38;5;241m.\u001B[39m_fs\u001B[38;5;241m.\u001B[39mprotocol \u001B[38;5;241m==\u001B[39m \u001B[38;5;124m\"\u001B[39m\u001B[38;5;124mfile\u001B[39m\u001B[38;5;124m\"\u001B[39m \u001B[38;5;129;01mand\u001B[39;00m \u001B[38;5;28mself\u001B[39m\u001B[38;5;241m.\u001B[39m_last_checkpoint_saved \u001B[38;5;129;01mand\u001B[39;00m \u001B[38;5;28mself\u001B[39m\u001B[38;5;241m.\u001B[39msave_top_k \u001B[38;5;241m!=\u001B[39m \u001B[38;5;241m0\u001B[39m:\n\u001B[1;32m--> 670\u001B[0m     \u001B[38;5;28;43mself\u001B[39;49m\u001B[38;5;241;43m.\u001B[39;49m\u001B[43m_link_checkpoint\u001B[49m\u001B[43m(\u001B[49m\u001B[43mtrainer\u001B[49m\u001B[43m,\u001B[49m\u001B[43m \u001B[49m\u001B[38;5;28;43mself\u001B[39;49m\u001B[38;5;241;43m.\u001B[39;49m\u001B[43m_last_checkpoint_saved\u001B[49m\u001B[43m,\u001B[49m\u001B[43m \u001B[49m\u001B[43mfilepath\u001B[49m\u001B[43m)\u001B[49m\n\u001B[0;32m    671\u001B[0m \u001B[38;5;28;01melse\u001B[39;00m:\n\u001B[0;32m    672\u001B[0m     \u001B[38;5;28mself\u001B[39m\u001B[38;5;241m.\u001B[39m_save_checkpoint(trainer, filepath)\n",
      "File \u001B[1;32mD:\\Programming Train\\dl_lightning_ai_course\\venv\\lib\\site-packages\\lightning\\pytorch\\callbacks\\model_checkpoint.py:388\u001B[0m, in \u001B[0;36mModelCheckpoint._link_checkpoint\u001B[1;34m(trainer, filepath, linkpath)\u001B[0m\n\u001B[0;32m    386\u001B[0m     \u001B[38;5;28;01mif\u001B[39;00m os\u001B[38;5;241m.\u001B[39mpath\u001B[38;5;241m.\u001B[39mlexists(linkpath):\n\u001B[0;32m    387\u001B[0m         os\u001B[38;5;241m.\u001B[39mremove(linkpath)\n\u001B[1;32m--> 388\u001B[0m     \u001B[43mos\u001B[49m\u001B[38;5;241;43m.\u001B[39;49m\u001B[43msymlink\u001B[49m\u001B[43m(\u001B[49m\u001B[43mfilepath\u001B[49m\u001B[43m,\u001B[49m\u001B[43m \u001B[49m\u001B[43mlinkpath\u001B[49m\u001B[43m)\u001B[49m\n\u001B[0;32m    389\u001B[0m trainer\u001B[38;5;241m.\u001B[39mstrategy\u001B[38;5;241m.\u001B[39mbarrier()\n",
      "\u001B[1;31mOSError\u001B[0m: [WinError 1314] Клиент не обладает требуемыми правами: 'logs/lt_model\\\\version_0\\\\checkpoints\\\\epoch=1-step=2188.ckpt' -> 'logs/lt_model\\\\version_0\\\\checkpoints\\\\last.ckpt'"
     ]
    }
   ],
   "source": [
    "trainer.fit(model=lt_model, train_dataloaders=train_dl, val_dataloaders=val_dl)"
   ],
   "metadata": {
    "collapsed": false,
    "ExecuteTime": {
     "end_time": "2023-12-10T14:07:21.093803Z",
     "start_time": "2023-12-10T14:06:41.743008300Z"
    }
   }
  },
  {
   "cell_type": "code",
   "execution_count": null,
   "outputs": [],
   "source": [
    "plot_csv_logger(csv_path=f\"{trainer.logger.log_dir}/metrics.csv\")"
   ],
   "metadata": {
    "collapsed": false
   }
  },
  {
   "cell_type": "code",
   "execution_count": null,
   "outputs": [],
   "source": [
    "trainer.test(model=lt_model, dataloaders=test_dl)"
   ],
   "metadata": {
    "collapsed": false
   }
  }
 ],
 "metadata": {
  "kernelspec": {
   "display_name": "Python 3",
   "language": "python",
   "name": "python3"
  },
  "language_info": {
   "codemirror_mode": {
    "name": "ipython",
    "version": 2
   },
   "file_extension": ".py",
   "mimetype": "text/x-python",
   "name": "python",
   "nbconvert_exporter": "python",
   "pygments_lexer": "ipython2",
   "version": "2.7.6"
  }
 },
 "nbformat": 4,
 "nbformat_minor": 0
}
